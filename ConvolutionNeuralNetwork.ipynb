{
  "nbformat": 4,
  "nbformat_minor": 0,
  "metadata": {
    "colab": {
      "provenance": [],
      "authorship_tag": "ABX9TyO+139hxo3WlH2y6dJ5ni+N",
      "include_colab_link": true
    },
    "kernelspec": {
      "name": "python3",
      "display_name": "Python 3"
    },
    "language_info": {
      "name": "python"
    }
  },
  "cells": [
    {
      "cell_type": "markdown",
      "metadata": {
        "id": "view-in-github",
        "colab_type": "text"
      },
      "source": [
        "<a href=\"https://colab.research.google.com/github/rvraghvender/DeepLearningProjects/blob/main/ConvolutionNeuralNetwork.ipynb\" target=\"_parent\"><img src=\"https://colab.research.google.com/assets/colab-badge.svg\" alt=\"Open In Colab\"/></a>"
      ]
    },
    {
      "cell_type": "markdown",
      "source": [
        "# Convolution Neural Networks\n"
      ],
      "metadata": {
        "id": "B6KWIxsMgwiX"
      }
    },
    {
      "cell_type": "code",
      "source": [
        "# import relevant packages\n",
        "import numpy as np\n",
        "import h5py\n",
        "import matplotlib.pyplot as plt"
      ],
      "metadata": {
        "id": "QlpelXrjg3Sd"
      },
      "execution_count": 1,
      "outputs": []
    },
    {
      "cell_type": "code",
      "source": [
        "%matplotlib inline\n",
        "plt.rcParams['figure.figsize'] = (5.0, 4.0)  # size of plots\n",
        "plt.rcParams['image.interpolation'] = 'nearest'\n",
        "plt.rcParams['image.cmap'] = 'gray'\n",
        "\n",
        "%load_ext autoreload\n",
        "%autoreload 2\n",
        "\n",
        "np.random.seed(1)"
      ],
      "metadata": {
        "id": "AEKyPhFehPFP"
      },
      "execution_count": 2,
      "outputs": []
    },
    {
      "cell_type": "markdown",
      "source": [
        "# Outline\n",
        "\n",
        "\n",
        "*   Convolution functions\n",
        "    *   Zero Padding\n",
        "    *   Convolve window\n",
        "    *   Convolution forward\n",
        "    *   Convolution backward\n",
        "\n",
        "*   Pooling functions\n",
        "    *   Pooling forward\n",
        "    *   Create mask\n",
        "    *   Distribute value\n",
        "    *   Pooling backward\n",
        "\n"
      ],
      "metadata": {
        "id": "0dTJM1OHiIY7"
      }
    },
    {
      "cell_type": "markdown",
      "source": [
        "## 3.1 Zero padding\n",
        "\n",
        "Zero padding adds zeros around the border of the image\n",
        "\n",
        "Main benefits are:  \n",
        "\n",
        "*   It allows to use a CONV layer without necessarily shrinking the height and width of the volumes. This is important for building deeper networks, since otherwise height/width would shrink as you go to deeper layers. An important case is the 'same' convolution, in which the height/width is exactly preserved after operation on a layer.\n",
        "\n",
        "*   It helps to keep the information at the border of an image. Without padding, very few values at the next layer would be affected by pixels at  the edges of an image."
      ],
      "metadata": {
        "id": "8o8Wa09WjfKn"
      }
    },
    {
      "cell_type": "code",
      "source": [
        "# zero_pad\n",
        "\n",
        "def zero_pad(X, pad):\n",
        "    '''\n",
        "    Pad with zeros all image of the dataset X. \n",
        "    The padding is applied to the height and width of an image.\n",
        "\n",
        "    Args:\n",
        "    X -- numpy array of shape (m, n_H, n_W, n_c) representing a batch of m images.\n",
        "    pad -- integer, amount of padding around each image on vertical and horizontal dimensions\n",
        "\n",
        "    Returs:\n",
        "    X_pad -- padded image of shape (m, n_H  + 2 * pad, n_W + 2 * pad, n_C )\n",
        "    '''\n",
        "\n",
        "    \n",
        "    # To pad a array \"a\" of shape (5,5,5,5,5) with pad = 1 for the 2nd dimension,\n",
        "    # pad = 3 for the 4th dimesion and pad = 0 for the rest, it goes as\n",
        "    # a = np.pad(a, ((0,0), (1,1), (0,0), (3,3), (0,0)), mode='constant', constant_values=(0,0)) \n",
        "\n",
        "    X_pad = np.pad(X, ((0,0), (pad, pad),  (pad,pad) , (0,0)))\n",
        "\n",
        "    return X_pad"
      ],
      "metadata": {
        "id": "_nsJ4XceiPAG"
      },
      "execution_count": 3,
      "outputs": []
    },
    {
      "cell_type": "markdown",
      "source": [
        "## 3.2 Single step of Convolution\n",
        "\n",
        "Implement a single step of convolution, in which filter is applied to single position of the input.\n",
        "\n",
        "*    Takes an input volume\n",
        "*    Applies a filter at every position of the input\n",
        "*    Outputs another volume (usually of different size)\n",
        "\n",
        "Stride : amount to move the window each time slide is performed"
      ],
      "metadata": {
        "id": "ZaqwOkF-nCPY"
      }
    },
    {
      "cell_type": "code",
      "source": [
        "# conv_single_step\n",
        "\n",
        "def conv_single_step(a_slice_prev, W, b):\n",
        "    '''\n",
        "    Apply one filter defined by parameters W on a single slice (a_slice_prev) \n",
        "    of the output activation of the pervious layer.\n",
        "\n",
        "    Args:\n",
        "    a_slice_prev -- slice of input data of shape (f, f, n_C_prev)\n",
        "    W -- weight parameters contained in a window - matrix of shape (f, f, n_C_prev)\n",
        "    b -- bias parameters contained in a window - matrix of shape (1, 1, 1)\n",
        "\n",
        "    Returns:\n",
        "    Z -- a scalar value, the result of convolving the sliding window (W, b) on \n",
        "    a slice x of the input data\n",
        "    '''\n",
        "\n",
        "    # Element-wise product between a_slice_prev and W. Do not add the bias yet.\n",
        "    s = np.multiply(a_slice_prev, W)\n",
        "\n",
        "    # sum over all entries of the volume s.\n",
        "    Z = np.sum(s)\n",
        "\n",
        "    # Add bias b to Z. Cast b to float() so that Z results in a scalar value.\n",
        "    b = np.squeeze(b)\n",
        "\n",
        "    Z = Z + b\n",
        "\n",
        "    return Z"
      ],
      "metadata": {
        "id": "kILiovjRm6hT"
      },
      "execution_count": 5,
      "outputs": []
    },
    {
      "cell_type": "markdown",
      "source": [
        "## 3.3 Convolution Neural Networks - Forward Pass\n",
        "\n",
        "In forward pass, we have to take many filters and convolve them on the input. Each 'convolution' gives you a 2D matrix output. Thereafter, stack these outputs to get a 3D volume.\n",
        "\n",
        "Implement the function below to convolve the filters `W` on an input activation `A_prev`.  \n",
        "This function takes the following inputs:\n",
        "* `A_prev`, the activations output by the previous layer (for a batch of m inputs); \n",
        "* Weights are denoted by `W`.  The filter window size is `f` by `f`.\n",
        "* The bias vector is `b`, where each filter has its own (single) bias.       \n",
        "\n",
        "\n",
        "1.   To select a 2x2 slice at the upper left corner of a matrix \"a_prev\" (shape (5,5,3)), you would do:\n",
        "```python\n",
        "a_slice_prev = a_prev[0:2,0:2,:]\n",
        "```\n",
        "Notice how this gives a 3D slice that has height 2, width 2, and depth 3.  Depth is the number of channels.  \n",
        "This will be useful when you will define `a_slice_prev` below, using the `start/end` indexes you will define.\n",
        "\n",
        "2.   To define a_slice you will need to first define its corners `vert_start`, `vert_end`, `horiz_start` and `horiz_end`. This figure may be helpful for you to find out how each of the corners can be defined using h, w, f and s in the code below.\n",
        "\n",
        "\n",
        "**Reminder**:\n",
        "    \n",
        "The formulas relating the output shape of the convolution to the input shape are:\n",
        "    \n",
        "$$n_H = \\Bigl\\lfloor \\frac{n_{H_{prev}} - f + 2 \\times pad}{stride} \\Bigr\\rfloor +1$$\n",
        "$$n_W = \\Bigl\\lfloor \\frac{n_{W_{prev}} - f + 2 \\times pad}{stride} \\Bigr\\rfloor +1$$\n",
        "$$n_C = \\text{number of filters used in the convolution}$$\n",
        "    "
      ],
      "metadata": {
        "id": "tsB4ii6ypvT8"
      }
    },
    {
      "cell_type": "code",
      "source": [
        "# conv_forward\n",
        "def conv_forward(A_prev, W, b, hyperparameters):\n",
        "    '''\n",
        "    Implement the forward propagation for a convolution function\n",
        "\n",
        "    Args:\n",
        "    A_prev -- output activation of the previous layer\n",
        "              numpy array of shape (m, n_H_prev, n_W_prev, n_C_prev)\n",
        "    W -- weights, numpy array of shape (f, f, n_C_prev, n_C)\n",
        "    b -- biases, numpy array of shape (1, 1, 1, n_C)\n",
        "    hyperparameters -- dictionary containing 'stride' and 'pad'\n",
        "\n",
        "    Returns:\n",
        "    z -- conv output, numpy array of shape (m, n_H, n_W, n_C)\n",
        "    cache -- cache of values needed for the conv_backward() function\n",
        "    '''\n",
        "\n",
        "    # Retrieve dimensions from A_prev's shape \n",
        "    (m, n_H_prev, n_W_prev, n_C_prev) = A_prev.shape\n",
        "\n",
        "    # Retrieve dimensions from W's shape\n",
        "    (f, f, n_C_prev, n_C) = W.shape\n",
        "\n",
        "    # Retrieve information from \"hyperparameters\"\n",
        "    stride = hyperparameters['stride']\n",
        "    pad = hyperparameters['pad']\n",
        "\n",
        "    # Compute the dimesions of the CONV output volume\n",
        "    n_H = int((n_H_prev + 2*pad -f) / stride) + 1\n",
        "    n_W = int((n_W_prev + 2*pad -f) / stride) + 1\n",
        "\n",
        "    # Initialize the output volume Z with zeros\n",
        "    Z = np.zeros((m, n_H, n_W, n_C))\n",
        "\n",
        "    # Create A_prev_pad by padding A_prev\n",
        "    A_prev_pad = zero_pad(A_prev, pad)\n",
        "\n",
        "    for i in range(m):\n",
        "        a_prev_pad = A_prev_pad[i]\n",
        "\n",
        "        for h in range(n_H):\n",
        "            vert_start = stride * h\n",
        "            vert_end = vert_start  + filter\n",
        "\n",
        "            for w in range(n_W):\n",
        "                horiz_start = stride * w\n",
        "                horiz_end = horiz_start + f\n",
        "\n",
        "                for c in range(n_C):\n",
        "                    a_slice_prev = a_prev_pad[vert_start : vert_end, horiz_start : horiz_end, :]\n",
        "\n",
        "                    weights = W[:, :, :, c]\n",
        "                    biases = b[:, :, :, c]\n",
        "\n",
        "                    z[i, h, w, c] = conv_single_step(a_slice_prev, weights, biases)\n",
        "\n",
        "    cache = (A_prev, W, b, hyperparameters)\n",
        "\n",
        "    return Z, cache"
      ],
      "metadata": {
        "id": "DsbI54NEpdNQ"
      },
      "execution_count": 6,
      "outputs": []
    },
    {
      "cell_type": "markdown",
      "source": [
        "## 4 - Pooling layer\n",
        " The pooling (POOL) layer reduces the height and width of the input. It helps reduce computation, as well as helps make feature detectors more invariant to its position in the input. The two types of pooling layers are:\n",
        " *    Max-pooling layer: slides an (f, f) window over the input and stores the max value of the window in the output.\n",
        " *    Average-pooling layer: slides an (f, f) window over the input and stores the average value of the window in the output.\n",
        "\n",
        "\n",
        " These pooling layers have no parameters for backpropagation to train. However, they have hyperparameters such as the window size f. This specifies the height and width of the f x f window to compute a max or average over.\n",
        "\n",
        " These pooling layers have no parameters for backpropagation to train. However, they have hyperparameters such as the window size $f$. This specifies the height and width of the $f \\times f$ window you would compute a *max* or *average* over. \n",
        "\n",
        "<a name='4-1'></a>\n",
        "### 4.1 - Forward Pooling\n",
        " Implement MAX-POOL and AVG-POOL, in the same function. \n",
        "\n",
        "\n",
        "Implement the forward pass of the pooling layer. Follow the hints in the comments below.\n",
        "\n",
        "**Reminder**:\n",
        "As there's no padding, the formulas binding the output shape of the pooling to the input shape is:\n",
        "\n",
        "$$n_H = \\Bigl\\lfloor \\frac{n_{H_{prev}} - f}{stride} \\Bigr\\rfloor +1$$\n",
        "\n",
        "$$n_W = \\Bigl\\lfloor \\frac{n_{W_{prev}} - f}{stride} \\Bigr\\rfloor +1$$\n",
        "\n",
        "$$n_C = n_{C_{prev}}$$\n",
        "\n"
      ],
      "metadata": {
        "id": "lhajzNS4wXL9"
      }
    },
    {
      "cell_type": "code",
      "source": [
        "def pool_forward(A_prev, hyperparameters, mode = 'max'):\n",
        "    '''\n",
        "    Implements the forward pass of the pooling layer\n",
        "\n",
        "    Args:\n",
        "    A_prev -- Input data, numpy array of shape (m, n_H_prev, n_W_prev, n_C_prev)\n",
        "    hyperparameters -- dictionary containing 'f' and 'stride'\n",
        "    mode -- the pooling mode to use, defined ad ('max' or 'average')\n",
        "\n",
        "    Returns:\n",
        "    A -- output of the pool layer, a numpy array of shape (m, n_H, n_W, n_C)\n",
        "    cache -- cache used in the backward pass of the pooling layer, contains the \n",
        "                input and hyperparameters \n",
        "    '''\n",
        "\n",
        "    # Retrieve dimensions from the input shape\n",
        "    (m, n_H_prev, n_W_prev, n_C_prev) = A_prev.shape\n",
        "\n",
        "\n",
        "    # Retrieve hyperparameters of the output\n",
        "    n_H = int(1 + (n_H_prev - f ) / stride)\n",
        "    n_W = int(1 + (n_W_prev - f ) / stride)\n",
        "    n_C = n_C_prev\n",
        "    \n",
        "\n",
        "    # Initialize output matrix A\n",
        "    A = np.zeros((m, n_H, n_W, n_C))\n",
        "\n",
        "\n",
        "    for i in range(m):                  # loop over the training examples\n",
        "        a_prev_slice = A_prev[i]\n",
        "\n",
        "        for h in range(n_H):            # loop on the vertical axis of the output volume\n",
        "            \n",
        "            vert_start = stride * h \n",
        "            vert_end = vert_start + f\n",
        "            \n",
        "            for w in range(n_W):        # loop on the horizontal axis of the output volume\n",
        "                \n",
        "                horiz_start = stride * w\n",
        "                horiz_end = horiz_start + f\n",
        "                \n",
        "                for c in range (n_C):            # loop over the channels of the output volume\n",
        "                    \n",
        "                    a_slice_prev = a_prev_slice[vert_start:vert_end,horiz_start:horiz_end,c]\n",
        "                    \n",
        "                    # Compute the pooling operation on the slice. \n",
        "                    if mode == \"max\":\n",
        "                        A[i, h, w, c] = np.max(a_slice_prev)\n",
        "                    elif mode == \"average\":\n",
        "                        A[i, h, w, c] = np.mean(a_slice_prev)\n",
        "                    else:\n",
        "                        print(mode+ \"-type pooling layer NOT Defined\")    \n",
        "    \n",
        "    cache = (A_prev, hyperparameters)\n",
        "\n",
        "    # Making sure output shape is correct\n",
        "    assert(A.shape == (m, n_H, n_W, n_C))\n",
        "    \n",
        "    return A, cache\n"
      ],
      "metadata": {
        "id": "1LYKV9QrwIt6"
      },
      "execution_count": 7,
      "outputs": []
    },
    {
      "cell_type": "code",
      "source": [],
      "metadata": {
        "id": "3wJcjZsx0TSf"
      },
      "execution_count": null,
      "outputs": []
    }
  ]
}