{
  "nbformat": 4,
  "nbformat_minor": 0,
  "metadata": {
    "colab": {
      "provenance": [],
      "authorship_tag": "ABX9TyOTPQ42SKURgNKH2RBeqaEW",
      "include_colab_link": true
    },
    "kernelspec": {
      "name": "python3",
      "display_name": "Python 3"
    },
    "language_info": {
      "name": "python"
    }
  },
  "cells": [
    {
      "cell_type": "markdown",
      "metadata": {
        "id": "view-in-github",
        "colab_type": "text"
      },
      "source": [
        "<a href=\"https://colab.research.google.com/github/rvraghvender/DeepLearningProjects/blob/main/NaturalLanguageProcessing/BuildingRNN/Building_a_Recurrent_Neural_Network.ipynb\" target=\"_parent\"><img src=\"https://colab.research.google.com/assets/colab-badge.svg\" alt=\"Open In Colab\"/></a>"
      ]
    },
    {
      "cell_type": "markdown",
      "source": [
        "# Builiding Recurrent Neural Network\n",
        "\n",
        "Recurrent Neural Network (RNN) are very effective for Natural Language Processing and other sequence tasks because they have \"memory\". They can read input $x^{<t>}$ (such as words) one at a time, and remeber some contextual information through the hidden layer activation that get passed from one step to the next. This allows a unidirectional (one-way) RNN to take information from the past to process later inputs. A bidrectional (two-way) RNN can text context from both the past and the future, much like Marty McFly (Movie: Back to the Future)."
      ],
      "metadata": {
        "id": "gM-PCsZThG-g"
      }
    },
    {
      "cell_type": "markdown",
      "source": [
        "## Notation:\n",
        "\n",
        "- Superscript $[l]$ denotes an object associated with the $l^{th}$ layer.\n",
        "- Superscript $(i)$ denotes an object associated with the $i^{th}$ example.\n",
        "- Superscript $<t>$ denotes an object at the $t^{th}$ time step.\n",
        "- Subscript $i$ denotes the $i^{th}$ entry of a vector.\n",
        "\n",
        "**Example**\n",
        "- $a_5^{(2)[3]<4>}$ denotes the activation of the 2nd training example (2), 3rd layer [3], 4th time step <4>, and 5th entry in the vector."
      ],
      "metadata": {
        "id": "hQPPtRqDin8y"
      }
    },
    {
      "cell_type": "code",
      "source": [
        "# importing relevant packages\n",
        "import numpy as np"
      ],
      "metadata": {
        "id": "i-hekUUIiNSB"
      },
      "execution_count": 1,
      "outputs": []
    },
    {
      "cell_type": "markdown",
      "source": [
        "## Forward Propagation for the Basic Recurrent Neural Network\n",
        "\n",
        "The basic RNN has the following structure:\n",
        "  \n",
        "In this example, $T_x$ = $T_y$\n",
        "<img src=\"https://github.com/rvraghvender/DeepLearningProjects/blob/main/NaturalLanguageProcessing/BuildingRNN/images/rnn.png?raw=true\" style=\"width:500;height:300px;\">\n",
        "<caption><center><font color='purple'><b>Figure 1</b>: Basic RNN model </center></caption>\n",
        "\n",
        "## Dimension of input $x$\n",
        "### Input with $n_x$ number of units\n",
        "- For a single time step of a single input example $x^{(i)<t>}$ is a one-dimensional input vector\n",
        "- Using a language as an example, a language with 5000-word vocabulary could be one-hot encoded into a vector that has 5000 units. So $x^{(i)<t>}$ would have the shape (5000,)\n",
        "- The notation, $n_x$, is used here to denote the number of units in a single time step of a single training example.\n",
        "\n",
        "### Time steps of size $T_x$\n",
        "- A recurrent neural network has multiple time steps, with the index $t$.\n",
        "- $T_x$ denotes the number of timsteps in the longest sequence.\n",
        "\n",
        "### Batches of size $m$\n",
        "- Consider mini-batches, each with 20 training examples\n",
        "- To benefit from vectorization, we will stack 20 columns of $x^{(i)}$ examples\n",
        "- This tensor, has the shape (5000, 20, 10)\n",
        "- Here $m$ is used to denote the number of training examples\n",
        "- Therefore, the shape of mini-batch is ($n_x$, $m$, $T_x$)\n",
        "\n",
        "### 3D Tensor of shape ($n_x$, $m$, $T_x$)\n",
        "- The 3-dimensional tensor of $x$ of shape ($n_x$, $m$, $T_x$) represents the input $x$ that is fed into the RNN\n",
        "\n",
        "### Taking a 2D slice for each time step: $x^{<t>}$\n",
        "- At each time step, we will use a mini-batch of training example (not just a single example)\n",
        "- So, for each time step $t$, we will use a 2D slice of shape ($n_x$, $m$)\n",
        "- This 2D slice is referred to as $x^{<t>}$. The variable name used in this code is `xt`."
      ],
      "metadata": {
        "id": "ixYkgSuej-0t"
      }
    },
    {
      "cell_type": "code",
      "source": [],
      "metadata": {
        "id": "Wm_lHTwSj8QK"
      },
      "execution_count": null,
      "outputs": []
    }
  ]
}