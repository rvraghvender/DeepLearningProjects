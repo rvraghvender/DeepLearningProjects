{
  "nbformat": 4,
  "nbformat_minor": 0,
  "metadata": {
    "colab": {
      "provenance": [],
      "authorship_tag": "ABX9TyMPlZDAfAJYfSY1/bGFHDFZ",
      "include_colab_link": true
    },
    "kernelspec": {
      "name": "python3",
      "display_name": "Python 3"
    },
    "language_info": {
      "name": "python"
    }
  },
  "cells": [
    {
      "cell_type": "markdown",
      "metadata": {
        "id": "view-in-github",
        "colab_type": "text"
      },
      "source": [
        "<a href=\"https://colab.research.google.com/github/rvraghvender/DeepLearningProjects/blob/main/NaturalLanguageProcessing/BuildingRNN/Building_a_Recurrent_Neural_Network.ipynb\" target=\"_parent\"><img src=\"https://colab.research.google.com/assets/colab-badge.svg\" alt=\"Open In Colab\"/></a>"
      ]
    },
    {
      "cell_type": "markdown",
      "source": [
        "# Builiding Recurrent Neural Network\n",
        "\n",
        "Recurrent Neural Network (RNN) are very effective for Natural Language Processing and other sequence tasks because they have \"memory\". They can read input $x^{<t>}$ (such as words) one at a time, and remeber some contextual information through the hidden layer activation that get passed from one step to the next. This allows a unidirectional (one-way) RNN to take information from the past to process later inputs. A bidrectional (two-way) RNN can text context from both the past and the future, much like Marty McFly (Movie: Back to the Future)."
      ],
      "metadata": {
        "id": "gM-PCsZThG-g"
      }
    },
    {
      "cell_type": "markdown",
      "source": [
        "## Notation:\n",
        "\n",
        "- Superscript $[l]$ denotes an object associated with the $l^{th}$ layer.\n",
        "- Superscript $(i)$ denotes an object associated with the $i^{th}$ example.\n",
        "- Superscript $<t>$ denotes an object at the $t^{th}$ time step.\n",
        "- Subscript $i$ denotes the $i^{th}$ entry of a vector.\n",
        "\n",
        "**Example**\n",
        "- $a_5^{(2)[3]<4>}$ denotes the activation of the 2nd training example (2), 3rd layer [3], 4th time step <4>, and 5th entry in the vector."
      ],
      "metadata": {
        "id": "hQPPtRqDin8y"
      }
    },
    {
      "cell_type": "code",
      "source": [
        "# importing relevant packages\n",
        "import numpy as np"
      ],
      "metadata": {
        "id": "i-hekUUIiNSB"
      },
      "execution_count": 1,
      "outputs": []
    },
    {
      "cell_type": "markdown",
      "source": [
        "## Forward Propagation for the Basic Recurrent Neural Network\n",
        "\n",
        "The basic RNN has the following structure:\n",
        "\n"
      ],
      "metadata": {
        "id": "ixYkgSuej-0t"
      }
    },
    {
      "cell_type": "code",
      "source": [],
      "metadata": {
        "id": "Wm_lHTwSj8QK"
      },
      "execution_count": null,
      "outputs": []
    }
  ]
}