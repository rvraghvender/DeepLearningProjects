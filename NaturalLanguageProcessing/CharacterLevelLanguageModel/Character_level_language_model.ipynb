{
  "nbformat": 4,
  "nbformat_minor": 0,
  "metadata": {
    "colab": {
      "provenance": [],
      "authorship_tag": "ABX9TyOYKDtZCLLfN2L828EcxTnJ",
      "include_colab_link": true
    },
    "kernelspec": {
      "name": "python3",
      "display_name": "Python 3"
    },
    "language_info": {
      "name": "python"
    }
  },
  "cells": [
    {
      "cell_type": "markdown",
      "metadata": {
        "id": "view-in-github",
        "colab_type": "text"
      },
      "source": [
        "<a href=\"https://colab.research.google.com/github/rvraghvender/DeepLearningProjects/blob/main/NaturalLanguageProcessing/CharacterLevelLanguageModel/Character_level_language_model.ipynb\" target=\"_parent\"><img src=\"https://colab.research.google.com/assets/colab-badge.svg\" alt=\"Open In Colab\"/></a>"
      ]
    },
    {
      "cell_type": "markdown",
      "source": [
        "# Character level language model - Dinosaurus Island\n",
        "\n",
        "Welcome to Dinosaurus Island! 65 millions years ago, dinosaurs existed and they have returned in this project.\n",
        "\n",
        "We are in charge of a special task: Leading biology researchers are creating new breeds of dinosuars and bringing them to life on earth, and our job is to give names to these dinosaurs. If a dinosaurs does not like its name, it might go berserk;). So, choose wisely!"
      ],
      "metadata": {
        "id": "i1F__G-HIyYR"
      }
    },
    {
      "cell_type": "code",
      "execution_count": null,
      "metadata": {
        "id": "8iBYRSboIqBA"
      },
      "outputs": [],
      "source": []
    }
  ]
}