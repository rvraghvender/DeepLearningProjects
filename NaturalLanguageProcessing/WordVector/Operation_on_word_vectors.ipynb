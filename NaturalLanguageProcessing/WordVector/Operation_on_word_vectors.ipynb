{
  "nbformat": 4,
  "nbformat_minor": 0,
  "metadata": {
    "colab": {
      "provenance": [],
      "authorship_tag": "ABX9TyMJxTCX9ScMKPPYLNbKnV7z",
      "include_colab_link": true
    },
    "kernelspec": {
      "name": "python3",
      "display_name": "Python 3"
    },
    "language_info": {
      "name": "python"
    }
  },
  "cells": [
    {
      "cell_type": "markdown",
      "metadata": {
        "id": "view-in-github",
        "colab_type": "text"
      },
      "source": [
        "<a href=\"https://colab.research.google.com/github/rvraghvender/DeepLearningProjects/blob/main/NaturalLanguageProcessing/WordVector/Operation_on_word_vectors.ipynb\" target=\"_parent\"><img src=\"https://colab.research.google.com/assets/colab-badge.svg\" alt=\"Open In Colab\"/></a>"
      ]
    },
    {
      "cell_type": "markdown",
      "source": [
        "# Operatiosn on Word Vectors\n",
        "\n",
        "**In this project, we will**\n",
        "- Explain how word embeddings capture relationships between words\n",
        "- Measure similarity between word vectors using cosine similarity\n",
        "- Use word embeddings to solve word analogy problems such as Man is to Woman, as King is to ____.\n",
        "- Finally, we will modify words embeddings to reduce their gender bias.\n"
      ],
      "metadata": {
        "id": "xU4JUln8QyTG"
      }
    },
    {
      "cell_type": "code",
      "execution_count": 1,
      "metadata": {
        "colab": {
          "base_uri": "https://localhost:8080/"
        },
        "id": "ZWjWrSuYM0fv",
        "outputId": "c769d16a-740e-48b2-8b03-11154829e81c"
      },
      "outputs": [
        {
          "output_type": "stream",
          "name": "stdout",
          "text": [
            "Version:  2.13.0\n",
            "GPU is NOT AVAILABLE\n"
          ]
        }
      ],
      "source": [
        "import urllib.request\n",
        "import collections\n",
        "import os\n",
        "import zipfile\n",
        "import numpy as np\n",
        "\n",
        "import tensorflow as tf\n",
        "import matplotlib.pyplot as plt\n",
        "\n",
        "from tensorflow.keras.models import Model\n",
        "from tensorflow.keras.layers import Input, Dense, Reshape\n",
        "from tensorflow.keras.layers import Embedding\n",
        "from tensorflow.keras.preprocessing.sequence import skipgrams\n",
        "from tensorflow.keras.preprocessing import sequence\n",
        "\n",
        "\n",
        "print(\"Version: \", tf.__version__)\n",
        "print(\"GPU is\", \"available\" if tf.config.list_physical_devices('GPU') else \"NOT AVAILABLE\")"
      ]
    },
    {
      "cell_type": "code",
      "source": [
        "window_size = 3\n",
        "vector_dim = 300\n",
        "epochs = 1000\n",
        "\n",
        "valid_size = 16     # Random set of words to evaluate similarity on.\n",
        "valid_window = 100  # Only pick dev samples in the head of the distribution.\n",
        "valid_examples = np.random.choice(valid_window, valid_size, replace=False)"
      ],
      "metadata": {
        "id": "kEXjbA0vTsPv"
      },
      "execution_count": 2,
      "outputs": []
    },
    {
      "cell_type": "code",
      "source": [
        "def maybe_download(filename, url, expected_bytes):\n",
        "    \"\"\"Download a file if not present, and make sure it's the right size.\"\"\"\n",
        "    if not os.path.exists(filename):\n",
        "        filename, _ = urllib.request.urlretrieve(url + filename, filename)\n",
        "    statinfo = os.stat(filename)\n",
        "    if statinfo.st_size == expected_bytes:\n",
        "        print('Found and verified', filename)\n",
        "    else:\n",
        "        print(statinfo.st_size)\n",
        "        raise Exception(\n",
        "            'Failed to verify ' + filename + '. Can you get to it with a browser?')\n",
        "    return filename"
      ],
      "metadata": {
        "id": "Xr1_UXpsSmbm"
      },
      "execution_count": 3,
      "outputs": []
    },
    {
      "cell_type": "code",
      "source": [
        "# Read the data into a list of strings.\n",
        "def read_data(filename):\n",
        "    \"\"\"Extract the first file enclosed in a zip file as a list of words.\"\"\"\n",
        "    with zipfile.ZipFile(filename) as f:\n",
        "        data = tf.compat.as_str(f.read(f.namelist()[0])).split()\n",
        "    return data\n"
      ],
      "metadata": {
        "id": "lQ2DozA9Sogq"
      },
      "execution_count": 4,
      "outputs": []
    },
    {
      "cell_type": "code",
      "source": [
        "def build_dataset(words, n_words):\n",
        "    \"\"\"Process raw inputs into a dataset.\"\"\"\n",
        "    count = [['UNK', -1]]\n",
        "    count.extend(collections.Counter(words).most_common(n_words - 1))\n",
        "    dictionary = dict()\n",
        "    for word, _ in count:\n",
        "        dictionary[word] = len(dictionary)\n",
        "    data = list()\n",
        "    unk_count = 0\n",
        "    for word in words:\n",
        "        if word in dictionary:\n",
        "            index = dictionary[word]\n",
        "        else:\n",
        "            index = 0  # dictionary['UNK']\n",
        "            unk_count += 1\n",
        "        data.append(index)\n",
        "    count[0][1] = unk_count\n",
        "    reversed_dictionary = dict(zip(dictionary.values(), dictionary.keys()))\n",
        "    return data, count, dictionary, reversed_dictionary"
      ],
      "metadata": {
        "id": "gm0gnJKPSqon"
      },
      "execution_count": 5,
      "outputs": []
    },
    {
      "cell_type": "code",
      "source": [
        "def collect_data(vocabulary_size=10000):\n",
        "    url = 'http://mattmahoney.net/dc/'\n",
        "    filename = maybe_download('text8.zip', url, 31344016)\n",
        "    vocabulary = read_data(filename)\n",
        "    print(vocabulary[:7])\n",
        "    data, count, dictionary, reverse_dictionary = build_dataset(vocabulary,\n",
        "                                                                vocabulary_size)\n",
        "    del vocabulary  # Hint to reduce memory.\n",
        "    return data, count, dictionary, reverse_dictionary"
      ],
      "metadata": {
        "id": "Gl2Wej25StdB"
      },
      "execution_count": 6,
      "outputs": []
    },
    {
      "cell_type": "code",
      "source": [
        "class SimilarityCallback:\n",
        "    def run_sim(self):\n",
        "        for i in range(valid_size):\n",
        "            valid_word = reverse_dictionary[valid_examples[i]]\n",
        "            top_k = 8  # number of nearest neighbors\n",
        "            sim = self._get_sim(valid_examples[i])\n",
        "            nearest = (-sim).argsort()[1:top_k + 1]\n",
        "            log_str = 'Nearest to %s:' % valid_word\n",
        "            for k in range(top_k):\n",
        "                close_word = reverse_dictionary[nearest[k]]\n",
        "                log_str = '%s %s,' % (log_str, close_word)\n",
        "            print(log_str)\n",
        "\n",
        "    @staticmethod\n",
        "    def _get_sim(valid_word_idx):\n",
        "        sim = np.zeros((vocab_size,))\n",
        "        in_arr1 = np.zeros((1,))\n",
        "        in_arr2 = np.zeros((1,))\n",
        "        in_arr1[0,] = valid_word_idx\n",
        "        for i in range(vocab_size):\n",
        "            in_arr2[0,] = i\n",
        "            out = validation_model.predict_on_batch([in_arr1, in_arr2])\n",
        "            sim[i] = out\n",
        "        return sim"
      ],
      "metadata": {
        "id": "oJDGnWqxSwf_"
      },
      "execution_count": 7,
      "outputs": []
    },
    {
      "cell_type": "code",
      "source": [
        "def read_glove_vecs(glove_file):\n",
        "    with open(glove_file, 'r') as f:\n",
        "        words = set()\n",
        "        word_to_vec_map = {}\n",
        "\n",
        "        for line in f:\n",
        "            line = line.strip().split()\n",
        "            curr_word = line[0]\n",
        "            words.add(curr_word)\n",
        "            # print(curr_word, line[1:])\n",
        "            word_to_vec_map[curr_word] = np.array(line[1:], dtype=np.float64)\n",
        "            # break\n",
        "\n",
        "    return words, word_to_vec_map"
      ],
      "metadata": {
        "id": "RZCUvSrZS17O"
      },
      "execution_count": 18,
      "outputs": []
    },
    {
      "cell_type": "markdown",
      "source": [
        "**Activations functions**"
      ],
      "metadata": {
        "id": "j1UsKVthVLud"
      }
    },
    {
      "cell_type": "code",
      "source": [
        "def relu(x):\n",
        "    \"\"\"\n",
        "    Compute the relu of x\n",
        "\n",
        "    Arguments:\n",
        "    x -- A scalar or numpy array of any size.\n",
        "\n",
        "    Return:\n",
        "    s -- relu(x)\n",
        "    \"\"\"\n",
        "    s = np.maximum(0,x)\n",
        "\n",
        "    return s\n",
        "\n",
        "def softmax(x):\n",
        "    \"\"\"Compute softmax values for each sets of scores in x.\"\"\"\n",
        "    e_x = np.exp(x - np.max(x))\n",
        "    return e_x / e_x.sum()"
      ],
      "metadata": {
        "id": "lZzr4qfrS4sK"
      },
      "execution_count": 9,
      "outputs": []
    },
    {
      "cell_type": "code",
      "source": [
        "def initialize_parameters(vocab_size, n_h):\n",
        "    \"\"\"\n",
        "    Arguments:\n",
        "    layer_dims -- python array (list) containing the dimensions of each layer in our network\n",
        "\n",
        "    Returns:\n",
        "    parameters -- python dictionary containing your parameters \"W1\", \"b1\", \"W2\", \"b2\":\n",
        "                    W1 -- weight matrix of shape (n_h, vocab_size)\n",
        "                    b1 -- bias vector of shape (n_h, 1)\n",
        "                    W2 -- weight matrix of shape (vocab_size, n_h)\n",
        "                    b2 -- bias vector of shape (vocab_size, 1)\n",
        "    \"\"\"\n",
        "\n",
        "    np.random.seed(3)\n",
        "    parameters = {}\n",
        "\n",
        "    parameters['W1'] = np.random.randn(n_h, vocab_size) / np.sqrt(vocab_size)\n",
        "    parameters['b1'] = np.zeros((n_h, 1))\n",
        "    parameters['W2'] = np.random.randn(vocab_size, n_h) / np.sqrt(n_h)\n",
        "    parameters['b2'] = np.zeros((vocab_size, 1))\n",
        "\n",
        "    return parameters"
      ],
      "metadata": {
        "id": "43jGkHpSS8ZS"
      },
      "execution_count": 10,
      "outputs": []
    },
    {
      "cell_type": "code",
      "source": [],
      "metadata": {
        "id": "eMuL_4SfS-Iu"
      },
      "execution_count": 11,
      "outputs": []
    },
    {
      "cell_type": "markdown",
      "source": [
        "## 2 - Load the Word Vectors\n",
        "\n",
        "For this project, we will be loading 50 dimensional predtrained GloVe vectors to represent words."
      ],
      "metadata": {
        "id": "TwdHMOJOU7eV"
      }
    },
    {
      "cell_type": "code",
      "source": [
        "words, word_to_vec_map = read_glove_vecs('glove.6B.50d.txt')"
      ],
      "metadata": {
        "id": "iA9PlyAERuQ7"
      },
      "execution_count": 19,
      "outputs": []
    },
    {
      "cell_type": "code",
      "source": [
        "def cosine_similarity(u, v):\n",
        "    '''\n",
        "    Cosine similarity reflects the degree of similarity between u and v.\n",
        "\n",
        "    Arguments:\n",
        "        u -- a word vector of shape (n, )\n",
        "        v -- a word vector of shape (n, )\n",
        "    Returns:\n",
        "        cosine_similarity -- the cosine similarity between u and v defined by the formula above.\n",
        "    '''\n",
        "\n",
        "    # Special case. Cosider the case u=[0, 0], v=[0, 0]\n",
        "    if np.all(u==v):\n",
        "        return 1\n",
        "\n",
        "    # Compute the dot product between u and v\n",
        "    dot = np.dot(u, v)\n",
        "\n",
        "    # Compute the L2 norm of u\n",
        "    norm_u = np.sqrt(np.sum(u*u))\n",
        "\n",
        "    # Compute the L2 norm of v\n",
        "    norm_v = np.sqrt(np.sum(v*v))\n",
        "\n",
        "    # Avoid the division by 0\n",
        "    if np.isclose(norm_u * norm_v, 0, atol=1e-32):\n",
        "        return 0\n",
        "\n",
        "    cosine_similarity = dot / (norm_u * norm_v)\n",
        "\n",
        "    return cosine_similarity"
      ],
      "metadata": {
        "id": "T0_XApIIW9ah"
      },
      "execution_count": 21,
      "outputs": []
    },
    {
      "cell_type": "markdown",
      "source": [],
      "metadata": {
        "id": "Rj0sFytlrhCZ"
      }
    },
    {
      "cell_type": "code",
      "source": [
        "# Test\n",
        "father = word_to_vec_map[\"father\"]\n",
        "mother = word_to_vec_map[\"mother\"]\n",
        "ball = word_to_vec_map[\"ball\"]\n",
        "crocodile = word_to_vec_map[\"crocodile\"]\n",
        "france = word_to_vec_map[\"france\"]\n",
        "italy = word_to_vec_map[\"italy\"]\n",
        "paris = word_to_vec_map[\"paris\"]\n",
        "rome = word_to_vec_map[\"rome\"]\n",
        "\n",
        "print(\"cosine_similarity(father, mother) = \", cosine_similarity(father, mother))\n",
        "print(\"cosine_similarity(ball, crocodile) = \",cosine_similarity(ball, crocodile))\n",
        "print(\"cosine_similarity(france - paris, rome - italy) = \",cosine_similarity(france - paris, rome - italy))\n",
        "\n",
        "# PUBLIC TESTS\n",
        "def cosine_similarity_test(target):\n",
        "    a = np.random.uniform(-10, 10, 10)\n",
        "    b = np.random.uniform(-10, 10, 10)\n",
        "    c = np.random.uniform(-1, 1, 23)\n",
        "\n",
        "    assert np.isclose(cosine_similarity(a, a), 1), \"cosine_similarity(a, a) must be 1\"\n",
        "    assert np.isclose(cosine_similarity((c >= 0) * 1, (c < 0) * 1), 0), \"cosine_similarity(a, not(a)) must be 0\"\n",
        "    assert np.isclose(cosine_similarity(a, -a), -1), \"cosine_similarity(a, -a) must be -1\"\n",
        "    assert np.isclose(cosine_similarity(a, b), cosine_similarity(a * 2, b * 4)), \"cosine_similarity must be scale-independent. You must divide by the product of the norms of each input\"\n",
        "\n",
        "    print(\"\\033[92mAll test passed!\")\n",
        "\n",
        "cosine_similarity_test(cosine_similarity)"
      ],
      "metadata": {
        "colab": {
          "base_uri": "https://localhost:8080/"
        },
        "id": "q2CHjaw0riRP",
        "outputId": "a9dfb1eb-1196-4d23-b7a0-84ccd69505a0"
      },
      "execution_count": 25,
      "outputs": [
        {
          "output_type": "stream",
          "name": "stdout",
          "text": [
            "cosine_similarity(father, mother) =  0.8909038442893615\n",
            "cosine_similarity(ball, crocodile) =  0.2743924626137942\n",
            "cosine_similarity(france - paris, rome - italy) =  -0.6751479308174201\n",
            "\u001b[92mAll test passed!\n"
          ]
        }
      ]
    },
    {
      "cell_type": "code",
      "source": [
        "def complete_analogy(word_a, word_b, word_c, word_to_vec_map):\n",
        "    '''\n",
        "    Performs the word analogy task as explained above: a is to b as c is to __.\n",
        "\n",
        "    Arguments:\n",
        "        word_a -- a word, string\n",
        "        word_b -- a word, string\n",
        "        word_c -- a word, string\n",
        "\n",
        "    Returns:\n",
        "        best_word -- the word such that v_b - v_a is close to\n",
        "                     v_best_word - v_c, as measured by cosine similarity\n",
        "    '''\n",
        "\n",
        "    # convert words to lowercase\n",
        "    word_a, word_b, word_c = word_a.lower(), word_b.lower(), word_c.lower()\n",
        "\n",
        "    # Get the word embeddings e_a, e_b and e_c\n",
        "    e_a, e_b, e_c = word_to_vec_map[word_a], word_to_vec_map[word_b], word_to_vec_map[word_c]\n",
        "\n",
        "    words = word_to_vec_map.keys()\n",
        "    max_cosine_sim = -100  # Initialize max_cosine_sim to a large negative number\n",
        "    best_word = None       # Initialize best_word with None, it will help keep track of the word to output\n",
        "\n",
        "    # Loop over the whole word vector set\n",
        "    for w in words:\n",
        "        # to avoid best_word being one the input words, skip the input word_c\n",
        "        # skip word_c from query\n",
        "        if w == word_c:\n",
        "            continue\n",
        "\n",
        "        # Compute the cosine similarity between the vector (e_b - e_a) and the vector\n",
        "        # ((w's vector representation) - e_c)\n",
        "        cosine_sim = cosine_similarity(e_b - e_a, word_to_vec_map[w] - e_c)\n",
        "\n",
        "        # If the cosine_sim is more than the max_cosine_sim seen so far,\n",
        "        # then: set the new max_cosine_sim to the current cosine_sim and the best_word\n",
        "        # to the current word.\n",
        "        if cosine_sim > max_cosine_sim:\n",
        "            max_cosine_sim = cosine_sim\n",
        "            best_word = w\n",
        "\n",
        "    return best_word\n"
      ],
      "metadata": {
        "id": "ZU-teh9BqY8S"
      },
      "execution_count": 27,
      "outputs": []
    },
    {
      "cell_type": "code",
      "source": [
        "# PUBLIC TEST\n",
        "def complete_analogy_test(target):\n",
        "    a    = [3, 3]   # Center at a\n",
        "    a_nw = [2, 4]   # North-West oriented vector from a\n",
        "    a_s  = [3, 2]   # South oriented vector from a\n",
        "\n",
        "    c    = [-2, 1]  # Center at c\n",
        "\n",
        "    # Create a controlled word to vec map\n",
        "    word_to_vec_map = {'a': a,\n",
        "                       'synonym_of_a': a,\n",
        "                       'a_nw': a_nw,\n",
        "                       'a_s' : a_s,\n",
        "                       'c'   : c,\n",
        "                       'c_n' : [-2, 2], # N\n",
        "                       'c_ne': [-1, 2], # NE\n",
        "                       'c_e' : [-1, 1], # E\n",
        "                       'c_se': [-1, 0], # SE\n",
        "                       'c_s' : [-2, 0], # S\n",
        "                       'c_sw': [-3, 0], # SW\n",
        "                       'c_w' : [-3, 1], # W\n",
        "                       'c_nw': [-3, 2]  # NW\n",
        "                      }\n",
        "\n",
        "    # Convert lists to np.arrays\n",
        "    for key in word_to_vec_map.keys():\n",
        "        word_to_vec_map[key] = np.array(word_to_vec_map[key])\n",
        "\n",
        "    assert(target('a', 'a_nw', 'c', word_to_vec_map) == 'c_nw')\n",
        "    assert(target('a', 'a_s', 'c', word_to_vec_map) == 'c_s')\n",
        "    assert(target('a', 'synonym_of_a', 'c', word_to_vec_map) != 'c'), \"Best word cannot be input query\"\n",
        "    assert(target('a', 'c', 'a', word_to_vec_map) == 'c')\n",
        "\n",
        "    print(\"\\033[92mAll tests passed\")\n",
        "\n",
        "complete_analogy_test(complete_analogy)"
      ],
      "metadata": {
        "colab": {
          "base_uri": "https://localhost:8080/"
        },
        "id": "BZglKjIxqisz",
        "outputId": "22b4c832-e777-45df-f4d2-362691d59b17"
      },
      "execution_count": 28,
      "outputs": [
        {
          "output_type": "stream",
          "name": "stdout",
          "text": [
            "\u001b[92mAll tests passed\n"
          ]
        }
      ]
    },
    {
      "cell_type": "code",
      "source": [
        "triads_to_try = [('italy', 'italian', 'spain'),\n",
        "                 ('india', 'delhi', 'japan'),\n",
        "                 ('man', 'woman', 'boy'),\n",
        "                 ('small', 'smaller', 'large'),\n",
        "                 ('india', 'hindi', 'china'),\n",
        "                 ('car', 'road', 'ship'),\n",
        "                 ('pen', 'paper', 'keyboard')]\n",
        "\n",
        "for triad in triads_to_try:\n",
        "    print(f'{triad[0]} -> {triad[1]} :: {triad[2]} -> {complete_analogy(*triad, word_to_vec_map)}')"
      ],
      "metadata": {
        "colab": {
          "base_uri": "https://localhost:8080/"
        },
        "id": "dh5T4FCx1kgC",
        "outputId": "48be3551-c216-401e-ad4f-bf2b425bde48"
      },
      "execution_count": 31,
      "outputs": [
        {
          "output_type": "stream",
          "name": "stdout",
          "text": [
            "italy -> italian :: spain -> spanish\n",
            "india -> delhi :: japan -> tokyo\n",
            "man -> woman :: boy -> girl\n",
            "small -> smaller :: large -> smaller\n",
            "india -> hindi :: china -> hindi\n",
            "car -> road :: ship -> river\n",
            "pen -> paper :: keyboard -> materials\n"
          ]
        }
      ]
    },
    {
      "cell_type": "markdown",
      "source": [
        "# Debiasing Word Vectors\n",
        "\n",
        "In the following part of the project, we will examine gender biases that can be refelected in a word embedding, and explore algorthims for reducing the bias. In addition to the topic of biasing, this exercise will also help to get intution about what word vectors are doing.\n",
        "\n",
        "First, see how the GloVe word embeddings relate to gender. We will begin by computing $g = e_{woman} - e_{man}$, where $e_{woman}$ represents the word vector corresponding to the word woman, and $e_{man}$ corresponds to the vector corresponding to the word man. The resulting vector $g$ roughly encodes the concept of \"gender\".\n",
        "\n",
        "We might get a more accurate representation if we compute $g_1 = e_{mother}-e_{father}$, $g_2 = e_{girl} - e_{boy}$, etc. and average over them, but just using $e_{woman}-e_{man}$, will give good results for now."
      ],
      "metadata": {
        "id": "3-EzAWEK7vwR"
      }
    },
    {
      "cell_type": "code",
      "source": [
        "g = word_to_vec_map['woman'] - word_to_vec_map['man']\n",
        "print(g)"
      ],
      "metadata": {
        "colab": {
          "base_uri": "https://localhost:8080/"
        },
        "id": "XCh1SVF6111p",
        "outputId": "96e7651e-e980-4928-99c5-2657e061ee5e"
      },
      "execution_count": 32,
      "outputs": [
        {
          "output_type": "stream",
          "name": "stdout",
          "text": [
            "[-0.087144    0.2182     -0.40986    -0.03922    -0.1032      0.94165\n",
            " -0.06042     0.32988     0.46144    -0.35962     0.31102    -0.86824\n",
            "  0.96006     0.01073     0.24337     0.08193    -1.02722    -0.21122\n",
            "  0.695044   -0.00222     0.29106     0.5053     -0.099454    0.40445\n",
            "  0.30181     0.1355     -0.0606     -0.07131    -0.19245    -0.06115\n",
            " -0.3204      0.07165    -0.13337    -0.25068714 -0.14293    -0.224957\n",
            " -0.149       0.048882    0.12191    -0.27362    -0.165476   -0.20426\n",
            "  0.54376    -0.271425   -0.10245    -0.32108     0.2516     -0.33455\n",
            " -0.04371     0.01258   ]\n"
          ]
        }
      ]
    },
    {
      "cell_type": "markdown",
      "source": [
        "Now, cosider the cosine similarity of different words with $g$. What does a positive value of similarity mean, versus a negative cosine similarity?"
      ],
      "metadata": {
        "id": "x87CyPY79d5Z"
      }
    },
    {
      "cell_type": "code",
      "source": [
        "print ('List of names and their similarities with constructed vector:')\n",
        "\n",
        "# girls and boys name\n",
        "name_list = ['john', 'marie', 'sophie', 'ronaldo', 'priya', 'rahul', 'danielle', 'reza', 'katy', 'yasmin']\n",
        "\n",
        "for w in name_list:\n",
        "    print(w, cosine_similarity(word_to_vec_map[w], g))"
      ],
      "metadata": {
        "colab": {
          "base_uri": "https://localhost:8080/"
        },
        "id": "X8V2CHEL9ajE",
        "outputId": "63ef403b-88f2-4d6b-a149-779dafb9a08f"
      },
      "execution_count": 33,
      "outputs": [
        {
          "output_type": "stream",
          "name": "stdout",
          "text": [
            "List of names and their similarities with constructed vector:\n",
            "john -0.23163356145973724\n",
            "marie 0.315597935396073\n",
            "sophie 0.31868789859418784\n",
            "ronaldo -0.31244796850329437\n",
            "priya 0.17632041839009402\n",
            "rahul -0.16915471039231716\n",
            "danielle 0.24393299216283895\n",
            "reza -0.07930429672199553\n",
            "katy 0.2831068659572615\n",
            "yasmin 0.23313857767928758\n"
          ]
        }
      ]
    },
    {
      "cell_type": "markdown",
      "source": [
        "As we can see, female first names tend to have a positive cosine similarity with our constructed vector $g$, while male first names tend to have a negative cosine similarity.\n",
        "\n",
        "Let's try with some other words:"
      ],
      "metadata": {
        "id": "2MEdx-jQ_BwA"
      }
    },
    {
      "cell_type": "code",
      "source": [
        "print('Other words and their similarities:')\n",
        "word_list = ['lipstick', 'guns', 'science', 'arts', 'literature', 'warrior','doctor', 'tree', 'receptionist',\n",
        "             'technology',  'fashion', 'teacher', 'engineer', 'pilot', 'computer', 'singer']\n",
        "for w in word_list:\n",
        "    print (w, cosine_similarity(word_to_vec_map[w], g))"
      ],
      "metadata": {
        "colab": {
          "base_uri": "https://localhost:8080/"
        },
        "id": "6j3hFYS5-lxF",
        "outputId": "10e4ef84-0516-47f6-ba6b-075e578faabc"
      },
      "execution_count": 34,
      "outputs": [
        {
          "output_type": "stream",
          "name": "stdout",
          "text": [
            "Other words and their similarities:\n",
            "lipstick 0.2769191625638267\n",
            "guns -0.1888485567898898\n",
            "science -0.06082906540929701\n",
            "arts 0.008189312385880337\n",
            "literature 0.06472504433459932\n",
            "warrior -0.20920164641125288\n",
            "doctor 0.11895289410935041\n",
            "tree -0.07089399175478091\n",
            "receptionist 0.33077941750593737\n",
            "technology -0.13193732447554302\n",
            "fashion 0.03563894625772699\n",
            "teacher 0.17920923431825664\n",
            "engineer -0.0803928049452407\n",
            "pilot 0.0010764498991916937\n",
            "computer -0.10330358873850498\n",
            "singer 0.1850051813649629\n"
          ]
        }
      ]
    },
    {
      "cell_type": "markdown",
      "source": [
        "It is astonishing to see that these results reflect certain unhealthy gender stereotypes. For example, we see \"computer\" is negative and is closer to in value to male first name, while \"literature\" is positive and is closer to female first names.\n",
        "\n"
      ],
      "metadata": {
        "id": "es9RkQm4Cv_Z"
      }
    },
    {
      "cell_type": "markdown",
      "source": [
        "We will try to reduce the bias of these vectors, using an algorithm due to ```Boliukbasi, et al. 2016 ```. Note that some word pairs such as \"actor\"/\"actress\" or \"grandmother\"/\"grandfather\" should remain gender-specific, while other words such as \"receptionist\" or \"technology\" should be neutralized, i.e. not be gender-related. We will have to treat these two types of words differently when debiasing.  "
      ],
      "metadata": {
        "id": "w-dACtSKG0WU"
      }
    },
    {
      "cell_type": "markdown",
      "source": [
        "### Neturalize Bias for Non-Gender specific Words\n",
        "\n"
      ],
      "metadata": {
        "id": "lup8PtD1KRsh"
      }
    },
    {
      "cell_type": "code",
      "source": [
        "def neutralize(word, g, word_to_vec_map):\n",
        "    '''\n",
        "    Removes the bias of \"word\" by projecting it on the space orthogonal to the bias axis.\n",
        "    This function ensures that gender neutral words are zero in the gender subspace.\n",
        "\n",
        "    Arguments:\n",
        "        word -- string indicating the word to debias\n",
        "        g -- numpy-array of shape (50,) corresponding to the bias axis (such as gender)\n",
        "        word_to_vec_map -- dictionary mapping words to their corresponding vectors.\n",
        "\n",
        "    Returns:\n",
        "        e_biased -- neutralized word vector representation of the input \"word\".\n",
        "    '''\n",
        "\n",
        "    # Select word vector representation of \"word\". Use word_to_vec_map\n",
        "    e = word_to_vec_map[word]\n",
        "\n",
        "    # Compute e_biascomponent using the formula given above.\n",
        "    e_biascomponent = np.dot(e,g) / (np.sum(g*g)) * g\n",
        "\n",
        "    # Neutralize e by substracting e_biascomponent from it\n",
        "    # e_biased should be equal to its orthogonal projection.\n",
        "    e_debiased = e - e_biascomponent\n",
        "\n",
        "    return e_debiased"
      ],
      "metadata": {
        "id": "WMhmAdEU_VpS"
      },
      "execution_count": 37,
      "outputs": []
    },
    {
      "cell_type": "code",
      "source": [
        "e = \"receptionist\"\n",
        "print(\"cosine similarity between \" + e + \" and g, before neutralizing: \",\n",
        "      cosine_similarity(word_to_vec_map[\"receptionist\"], g))\n",
        "\n",
        "e_debiased = neutralize(\"receptionist\", g, word_to_vec_map)\n",
        "print(\"cosine similarity between \" + e + \" and g, after neutralizing: \", cosine_similarity(e_debiased, g))"
      ],
      "metadata": {
        "colab": {
          "base_uri": "https://localhost:8080/"
        },
        "id": "-r1ckp1cLrqL",
        "outputId": "2456db0d-a93b-4867-ba85-d3a5ed43e6d5"
      },
      "execution_count": 38,
      "outputs": [
        {
          "output_type": "stream",
          "name": "stdout",
          "text": [
            "cosine similarity between receptionist and g, before neutralizing:  0.33077941750593737\n",
            "cosine similarity between receptionist and g, after neutralizing:  -2.6832242276243644e-17\n"
          ]
        }
      ]
    },
    {
      "cell_type": "code",
      "source": [
        "def equalize(pair, bias_axis, word_to_vec_map):\n",
        "    '''\n",
        "    Debias gender specific words by following the equalize method described in the figures above.\n",
        "\n",
        "    Arguments:\n",
        "        pair -- pair of strings of gender specific words to debias, e.g. (\"actress\", \"actor\")\n",
        "        bias_axis -- numpy array of shape (50, ), vector corresponding to the bias axis, e.g. gender\n",
        "        word_to_vec -- dictionary mapping words to their corresponding vectors\n",
        "\n",
        "    Returns:\n",
        "        e_1 -- word vector corresponding to the first word\n",
        "        e_2 -- word vector corresponding to the second word\n",
        "    '''\n",
        "\n",
        "    # Step 1: Select word vector representation of \"word\". Use word_to_vec_map\n",
        "    w1, w2 = pair\n",
        "    e_w1, e_w2 = word_to_vec_map[w1], word_to_vec_map[w2]\n",
        "\n",
        "    # Step 2: Compute the mean of e_w1 and e_w2\n",
        "    mu = (e_w1 + e_w2) / 2\n",
        "\n",
        "    # Step 3: Compute the projections of mu over the bias axis and the orthogonal axis\n",
        "    mu_B = (mu * bias_axis) / np.sum(bias_axis*bias_axis) * bias_axis\n",
        "    mu_orth = mu - mu_B\n",
        "\n",
        "    # Step 4: Compute e_w1B and e_w2B\n",
        "    e_w1B = np.dot(e_w1, bias_axis) / np.sum(bias_axis * bias_axis) * bias_axis\n",
        "    e_w2B = np.dot(e_w2, bias_axis) / np.sum(bias_axis * bias_axis) * bias_axis\n",
        "\n",
        "    # Step 5: Adjust the Bias part of e_w1B and e_w2B\n",
        "    corrected_e_w1B = np.sqrt(abs(1-np.sum(mu_orth*mu_orth))) * (e_w1B - mu_B)/abs((e_w1 - mu_orth) - mu_B)\n",
        "    corrected_e_w2B = np.sqrt(abs(1-np.sum(mu_orth*mu_orth))) * (e_w2B - mu_B)/abs((e_w2 - mu_orth) - mu_B)\n",
        "\n",
        "    # Step 6: Debias by equalizing e1 and e2 to the sum of their corrected projections\n",
        "    e1 = corrected_e_w1B + mu_orth\n",
        "    e2 = corrected_e_w2B + mu_orth\n",
        "\n",
        "    return e1, e2"
      ],
      "metadata": {
        "id": "J0fZfO3sLy2J"
      },
      "execution_count": 39,
      "outputs": []
    },
    {
      "cell_type": "code",
      "source": [
        "print(\"cosine similarities before equalizing:\")\n",
        "print(\"cosine_similarity(word_to_vec_map[\\\"man\\\"], gender) = \", cosine_similarity(word_to_vec_map[\"man\"], g))\n",
        "print(\"cosine_similarity(word_to_vec_map[\\\"woman\\\"], gender) = \", cosine_similarity(word_to_vec_map[\"woman\"], g))\n",
        "print()\n",
        "e1, e2 = equalize((\"man\", \"woman\"), g, word_to_vec_map)\n",
        "print(\"cosine similarities after equalizing:\")\n",
        "print(\"cosine_similarity(e1, gender) = \", cosine_similarity(e1, g))\n",
        "print(\"cosine_similarity(e2, gender) = \", cosine_similarity(e2, g))"
      ],
      "metadata": {
        "colab": {
          "base_uri": "https://localhost:8080/"
        },
        "id": "vd9saZglZIiA",
        "outputId": "17af3d09-ed8e-42ae-843c-b9645b66b5a8"
      },
      "execution_count": 40,
      "outputs": [
        {
          "output_type": "stream",
          "name": "stdout",
          "text": [
            "cosine similarities before equalizing:\n",
            "cosine_similarity(word_to_vec_map[\"man\"], gender) =  -0.11711095765336832\n",
            "cosine_similarity(word_to_vec_map[\"woman\"], gender) =  0.35666618846270376\n",
            "\n",
            "cosine similarities after equalizing:\n",
            "cosine_similarity(e1, gender) =  -0.7195212663448881\n",
            "cosine_similarity(e2, gender) =  0.7343917965586074\n"
          ]
        }
      ]
    },
    {
      "cell_type": "code",
      "source": [],
      "metadata": {
        "id": "fpNipXP6ZKcQ"
      },
      "execution_count": null,
      "outputs": []
    }
  ]
}