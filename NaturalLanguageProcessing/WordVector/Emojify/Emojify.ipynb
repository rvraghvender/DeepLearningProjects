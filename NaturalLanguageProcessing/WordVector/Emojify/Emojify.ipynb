{
  "nbformat": 4,
  "nbformat_minor": 0,
  "metadata": {
    "colab": {
      "provenance": [],
      "authorship_tag": "ABX9TyOQk8h/96n8GnCSPmWzkLzE",
      "include_colab_link": true
    },
    "kernelspec": {
      "name": "python3",
      "display_name": "Python 3"
    },
    "language_info": {
      "name": "python"
    }
  },
  "cells": [
    {
      "cell_type": "markdown",
      "metadata": {
        "id": "view-in-github",
        "colab_type": "text"
      },
      "source": [
        "<a href=\"https://colab.research.google.com/github/rvraghvender/DeepLearningProjects/blob/main/NaturalLanguageProcessing/WordVector/Emojify/Emojify.ipynb\" target=\"_parent\"><img src=\"https://colab.research.google.com/assets/colab-badge.svg\" alt=\"Open In Colab\"/></a>"
      ]
    },
    {
      "cell_type": "markdown",
      "source": [
        "# Emojify!\n",
        "\n",
        "In this project, we're going to use word vector representations to build an Emojifer. 😘❤️😉\n",
        "\n",
        "We always wanted to make our text messages more expressive. We make emojify project that does automatically.\n",
        "\n",
        "It takes our input message as:  \n",
        "```\"Congratulations on the promotions! Let's get coffee and talk. Love you!\"```    \n",
        "\n",
        "The emojifier project can automatically turn this into:       \n",
        "```\"Congratulations on the promotions!👍  Let's get coffee and talk. ☕ Love you!❤️\"```\n",
        "\n",
        "More precisely! We'll build a model which inputs a sentence (such as \"Let's go see the basetball game tonight!\") and finds the most appropriate emoji to be used with this sentence (⚾).\n"
      ],
      "metadata": {
        "id": "0usEiPUae5Vz"
      }
    },
    {
      "cell_type": "markdown",
      "source": [
        "## Table of Contents\n",
        "\n",
        "- [Packages](#0)\n",
        "- [1 - Baseline Model: Emojifier-V1](#1)\n",
        "    - [1.1 - Dataset EMOJISET](#1-1)\n",
        "    - [1.2 - Overview of the Emojifier-V1](#1-2)\n",
        "    - [1.3 - Implementing Emojifier-V1](#1-3)\n",
        "        - [Exercise 1 - sentence_to_avg](#ex-1)\n",
        "    - [1.4 - Implement the Model](#1-4)\n",
        "        - [Exercise 2 - model](#ex-2)\n",
        "    - [1.5 - Examining Test Set Performance](#1-5)\n",
        "- [2 - Emojifier-V2: Using LSTMs in Keras](#2)\n",
        "    - [2.1 - Model Overview](#2-1)\n",
        "    - [2.2 Keras and Mini-batching](#2-2)\n",
        "    - [2.3 - The Embedding Layer](#2-3)\n",
        "        - [Exercise 3 - sentences_to_indices](#ex-3)\n",
        "        - [Exercise 4 - pretrained_embedding_layer](#ex-4)\n",
        "    - [2.4 - Building the Emojifier-V2](#2-4)\n",
        "        - [Exercise 5 - Emojify_V2](#ex-5)\n",
        "    - [2.5 - Train the Model](#2-5)\n",
        "- [3 - Acknowledgments](#3)"
      ],
      "metadata": {
        "id": "kSyN6-UoOgl-"
      }
    },
    {
      "cell_type": "markdown",
      "source": [
        "## 1 - Packages"
      ],
      "metadata": {
        "id": "iIHWbV6oiD5X"
      }
    },
    {
      "cell_type": "code",
      "source": [
        "%pip install --upgrade emoji==1.6.3"
      ],
      "metadata": {
        "colab": {
          "base_uri": "https://localhost:8080/"
        },
        "id": "TPeW9tumimzf",
        "outputId": "03dbd522-c526-404e-e99d-926875ebe902"
      },
      "execution_count": 3,
      "outputs": [
        {
          "output_type": "stream",
          "name": "stdout",
          "text": [
            "Collecting emoji==1.6.3\n",
            "  Downloading emoji-1.6.3.tar.gz (174 kB)\n",
            "\u001b[?25l     \u001b[90m━━━━━━━━━━━━━━━━━━━━━━━━━━━━━━━━━━━━━━━━\u001b[0m \u001b[32m0.0/174.2 kB\u001b[0m \u001b[31m?\u001b[0m eta \u001b[36m-:--:--\u001b[0m\r\u001b[2K     \u001b[91m━━━━━━━━━━━━━━━━━━━━━\u001b[0m\u001b[90m╺\u001b[0m\u001b[90m━━━━━━━━━━━━━━━━━━\u001b[0m \u001b[32m92.2/174.2 kB\u001b[0m \u001b[31m2.5 MB/s\u001b[0m eta \u001b[36m0:00:01\u001b[0m\r\u001b[2K     \u001b[90m━━━━━━━━━━━━━━━━━━━━━━━━━━━━━━━━━━━━━━━━\u001b[0m \u001b[32m174.2/174.2 kB\u001b[0m \u001b[31m3.3 MB/s\u001b[0m eta \u001b[36m0:00:00\u001b[0m\n",
            "\u001b[?25h  Preparing metadata (setup.py) ... \u001b[?25l\u001b[?25hdone\n",
            "Building wheels for collected packages: emoji\n",
            "  Building wheel for emoji (setup.py) ... \u001b[?25l\u001b[?25hdone\n",
            "  Created wheel for emoji: filename=emoji-1.6.3-py3-none-any.whl size=170282 sha256=4e9fbbbc00d432d63962970bbbeed54de1c75a83aa832e1cb5a1282d4e0dd330\n",
            "  Stored in directory: /root/.cache/pip/wheels/83/42/4a/2e5a7b28b80e3a4f143cb5bbfcfbfe54958ccb533bb8ce2a99\n",
            "Successfully built emoji\n",
            "Installing collected packages: emoji\n",
            "Successfully installed emoji-1.6.3\n"
          ]
        }
      ]
    },
    {
      "cell_type": "code",
      "execution_count": 56,
      "metadata": {
        "id": "0O5FeLMvebAw"
      },
      "outputs": [],
      "source": [
        "import numpy as np\n",
        "import emoji\n",
        "import matplotlib.pyplot as plt\n",
        "\n",
        "import csv\n",
        "import pandas as pd\n",
        "from sklearn.metrics import confusion_matrix\n",
        "\n",
        "from termcolor import colored\n",
        "\n",
        "from tensorflow.keras.layers import Input\n",
        "from tensorflow.keras.layers import Conv2D\n",
        "from tensorflow.keras.layers import Dropout\n",
        "from tensorflow.keras.layers import MaxPooling2D\n",
        "from tensorflow.keras.layers import Conv2DTranspose\n",
        "from tensorflow.keras.layers import concatenate\n",
        "from tensorflow.keras.layers import ZeroPadding2D\n",
        "from tensorflow.keras.layers import Dense\n",
        "from tensorflow.keras.layers import LSTM\n",
        "from tensorflow.keras.layers import RepeatVector\n",
        "\n",
        "from tensorflow.keras.models import Model\n",
        "from tensorflow.keras.layers import Activation\n",
        "from tensorflow.keras.layers import Embedding\n",
        "from tensorflow.keras.preprocessing import sequence\n",
        "from tensorflow.keras.initializers import glorot_uniform\n",
        "\n",
        "%matplotlib inline"
      ]
    },
    {
      "cell_type": "markdown",
      "source": [
        "## 2 - Baseline Model: Emojifier - V1"
      ],
      "metadata": {
        "id": "OGKg0X-2On04"
      }
    },
    {
      "cell_type": "markdown",
      "source": [
        "### 2.1 - Dataset EMOJISET\n",
        "\n",
        "Let's start by building a simple baseline classifier.\n",
        "\n",
        "We have a tiny dataset (X, Y) where:\n",
        "- X contains 127 sentences (strings).\n",
        "- Y contains an integer label between 0 and 4 corresponding to an emoji for each sentence.\n",
        "\n",
        "<img src=\"https://github.com/rvraghvender/DeepLearningProjects/blob/main/NaturalLanguageProcessing/WordVector/Emojify/images/data_set.png?raw=true\" style=\"width:700px;height:300px;\">\n",
        "<caption><center><font color='purple'><b>Figure 1</b>: EMOJISET - a classification problem with 5 classes. A few examples of sentences are given here. </center></caption>"
      ],
      "metadata": {
        "id": "CFhxlzJJOwjw"
      }
    },
    {
      "cell_type": "code",
      "source": [
        "def read_glove_vecs(glove_file):\n",
        "    with open(glove_file, 'r') as f:\n",
        "        words = set()\n",
        "        word_to_vec_map = {}\n",
        "        for line in f:\n",
        "            line = line.strip().split()\n",
        "            curr_word = line[0]\n",
        "            words.add(curr_word)\n",
        "            word_to_vec_map[curr_word] = np.array(line[1:], dtype=np.float64)\n",
        "\n",
        "        i = 1\n",
        "        words_to_index = {}\n",
        "        index_to_words = {}\n",
        "        for w in sorted(words):\n",
        "            words_to_index[w] = i\n",
        "            index_to_words[i] = w\n",
        "            i = i + 1\n",
        "    return words_to_index, index_to_words, word_to_vec_map"
      ],
      "metadata": {
        "id": "36B9I0pQiOEb"
      },
      "execution_count": 5,
      "outputs": []
    },
    {
      "cell_type": "code",
      "source": [
        "def softmax(x):\n",
        "    \"\"\"Compute softmax values for each sets of scores in x.\"\"\"\n",
        "    e_x = np.exp(x - np.max(x))\n",
        "    return e_x / e_x.sum()"
      ],
      "metadata": {
        "id": "9zCZHrOVjXK-"
      },
      "execution_count": 6,
      "outputs": []
    },
    {
      "cell_type": "code",
      "source": [
        "def read_csv(filename = 'data/emojify_data.csv'):\n",
        "    phrase = []\n",
        "    emoji = []\n",
        "\n",
        "    with open (filename) as csvDataFile:\n",
        "        csvReader = csv.reader(csvDataFile)\n",
        "\n",
        "        for row in csvReader:\n",
        "            phrase.append(row[0])\n",
        "            emoji.append(row[1])\n",
        "\n",
        "    X = np.asarray(phrase)\n",
        "    Y = np.asarray(emoji, dtype=int)\n",
        "\n",
        "    return X, Y"
      ],
      "metadata": {
        "id": "o8mmw3vLjTwq"
      },
      "execution_count": 7,
      "outputs": []
    },
    {
      "cell_type": "code",
      "source": [
        "def convert_to_one_hot(Y, C):\n",
        "    Y = np.eye(C)[Y.reshape(-1)]\n",
        "    return Y"
      ],
      "metadata": {
        "id": "Q1ieKXMcjRQK"
      },
      "execution_count": 8,
      "outputs": []
    },
    {
      "cell_type": "code",
      "source": [
        "emoji_dictionary = {#\"0\": \":red_heart:\",    # :heart: prints a black instead of red heart depending on the font\n",
        "                    \"0\": \"\\u2764\\ufe0f\",\n",
        "                    \"1\": \":baseball:\",\n",
        "                    \"2\": \":smile:\",\n",
        "                    \"3\": \":disappointed:\",\n",
        "                    \"4\": \":fork_and_knife:\"}\n",
        "\n",
        "def label_to_emoji(label):\n",
        "    \"\"\"\n",
        "    Converts a label (int or string) into the corresponding emoji code (string) ready to be printed\n",
        "    \"\"\"\n",
        "    return emoji.emojize(emoji_dictionary[str(label)], use_aliases=True)"
      ],
      "metadata": {
        "id": "-FjOcgx8jJed"
      },
      "execution_count": 9,
      "outputs": []
    },
    {
      "cell_type": "code",
      "source": [
        "def print_predictions(X, pred):\n",
        "    print()\n",
        "    for i in range(X.shape[0]):\n",
        "        print(X[i], label_to_emoji(int(pred[i])))"
      ],
      "metadata": {
        "id": "8JW1J_Cni9ao"
      },
      "execution_count": 10,
      "outputs": []
    },
    {
      "cell_type": "code",
      "source": [
        "def plot_confusion_matrix(y_actu, y_pred, title='Confusion matrix', cmap=plt.cm.gray_r):\n",
        "\n",
        "    df_confusion = pd.crosstab(y_actu, y_pred.reshape(y_pred.shape[0],), rownames=['Actual'], colnames=['Predicted'], margins=True)\n",
        "\n",
        "    df_conf_norm = df_confusion / df_confusion.sum(axis=1)\n",
        "\n",
        "    plt.matshow(df_confusion, cmap=cmap) # imshow\n",
        "    #plt.title(title)\n",
        "    plt.colorbar()\n",
        "    tick_marks = np.arange(len(df_confusion.columns))\n",
        "    plt.xticks(tick_marks, df_confusion.columns, rotation=45)\n",
        "    plt.yticks(tick_marks, df_confusion.index)\n",
        "    #plt.tight_layout()\n",
        "    plt.ylabel(df_confusion.index.name)\n",
        "    plt.xlabel(df_confusion.columns.name)"
      ],
      "metadata": {
        "id": "M8j8yzPwi6mq"
      },
      "execution_count": 11,
      "outputs": []
    },
    {
      "cell_type": "code",
      "source": [
        "\n",
        "def predict(X, Y, W, b, word_to_vec_map):\n",
        "    \"\"\"\n",
        "    Given X (sentences) and Y (emoji indices), predict emojis and compute the accuracy of your model over the given set.\n",
        "\n",
        "    Arguments:\n",
        "    X -- input data containing sentences, numpy array of shape (m, None)\n",
        "    Y -- labels, containing index of the label emoji, numpy array of shape (m, 1)\n",
        "\n",
        "    Returns:\n",
        "    pred -- numpy array of shape (m, 1) with your predictions\n",
        "    \"\"\"\n",
        "    m = X.shape[0]\n",
        "    pred = np.zeros((m, 1))\n",
        "    any_word = list(word_to_vec_map.keys())[0]\n",
        "    # number of classes\n",
        "    n_h = word_to_vec_map[any_word].shape[0]\n",
        "\n",
        "    for j in range(m):                       # Loop over training examples\n",
        "\n",
        "        # Split jth test example (sentence) into list of lower case words\n",
        "        words = X[j].lower().split()\n",
        "\n",
        "        # Average words' vectors\n",
        "        avg = np.zeros((n_h,))\n",
        "        count = 0\n",
        "        for w in words:\n",
        "            if w in word_to_vec_map:\n",
        "                avg += word_to_vec_map[w]\n",
        "                count += 1\n",
        "\n",
        "        if count > 0:\n",
        "            avg = avg / count\n",
        "\n",
        "        # Forward propagation\n",
        "        Z = np.dot(W, avg) + b\n",
        "        A = softmax(Z)\n",
        "        pred[j] = np.argmax(A)\n",
        "\n",
        "    print(\"Accuracy: \"  + str(np.mean((pred[:] == Y.reshape(Y.shape[0],1)[:]))))\n",
        "\n",
        "    return pred"
      ],
      "metadata": {
        "id": "TNVUoXnRi5rf"
      },
      "execution_count": 12,
      "outputs": []
    },
    {
      "cell_type": "code",
      "source": [
        "# Compare the two inputs\n",
        "def comparator(learner, instructor):\n",
        "    for a, b in zip(learner, instructor):\n",
        "        if tuple(a) != tuple(b):\n",
        "            print(colored(\"Test failed\", attrs=['bold']),\n",
        "                  \"\\n Expected value \\n\\n\", colored(f\"{b}\", \"green\"),\n",
        "                  \"\\n\\n does not match the input value: \\n\\n\",\n",
        "                  colored(f\"{a}\", \"red\"))\n",
        "            raise AssertionError(\"Error in test\")\n",
        "    print(colored(\"All tests passed!\", \"green\"))\n",
        "\n",
        "# extracts the description of a given model\n",
        "def summary(model):\n",
        "    model.compile(optimizer='adam',\n",
        "                  loss='categorical_crossentropy',\n",
        "                  metrics=['accuracy'])\n",
        "    result = []\n",
        "    for layer in model.layers:\n",
        "        descriptors = [layer.__class__.__name__, layer.output_shape, layer.count_params()]\n",
        "        if (type(layer) == Conv2D):\n",
        "            descriptors.append(layer.padding)\n",
        "            descriptors.append(layer.activation.__name__)\n",
        "            descriptors.append(layer.kernel_initializer.__class__.__name__)\n",
        "        if (type(layer) == MaxPooling2D):\n",
        "            descriptors.append(layer.pool_size)\n",
        "            descriptors.append(layer.strides)\n",
        "            descriptors.append(layer.padding)\n",
        "        if (type(layer) == Dropout):\n",
        "            descriptors.append(layer.rate)\n",
        "        if (type(layer) == ZeroPadding2D):\n",
        "            descriptors.append(layer.padding)\n",
        "        if (type(layer) == Dense):\n",
        "            descriptors.append(layer.activation.__name__)\n",
        "        if (type(layer) == LSTM):\n",
        "            descriptors.append(layer.input_shape)\n",
        "            descriptors.append(layer.activation.__name__)\n",
        "            descriptors.append(layer.return_sequences)\n",
        "        if (type(layer) == RepeatVector):\n",
        "            descriptors.append(layer.n)\n",
        "        result.append(descriptors)\n",
        "    return result"
      ],
      "metadata": {
        "id": "9D9-URAOK35a"
      },
      "execution_count": 44,
      "outputs": []
    },
    {
      "cell_type": "markdown",
      "source": [
        "Reading csv files for training and testing data"
      ],
      "metadata": {
        "id": "ecACfv2EP-S_"
      }
    },
    {
      "cell_type": "code",
      "source": [
        "X_train, Y_train = read_csv('train_emoji.csv')\n",
        "X_test, Y_test = read_csv('tesss.csv')"
      ],
      "metadata": {
        "id": "vOXGGIB6jbQj"
      },
      "execution_count": 15,
      "outputs": []
    },
    {
      "cell_type": "code",
      "source": [
        "maxLen = len(max(X_train, key=len).split())"
      ],
      "metadata": {
        "id": "fqQsxcD_kCJL"
      },
      "execution_count": 16,
      "outputs": []
    },
    {
      "cell_type": "markdown",
      "source": [
        "In the following code, we print sentences from X_train and corresponding labels from Y_train."
      ],
      "metadata": {
        "id": "CWhHAWf-QDSf"
      }
    },
    {
      "cell_type": "code",
      "source": [
        "for idx in range(10):\n",
        "    print(X_train[idx], label_to_emoji(Y_train[idx]))"
      ],
      "metadata": {
        "colab": {
          "base_uri": "https://localhost:8080/"
        },
        "id": "7kPQiLz_kEwh",
        "outputId": "7d85d524-4642-4ad7-d013-92e455bfa5aa"
      },
      "execution_count": 54,
      "outputs": [
        {
          "output_type": "stream",
          "name": "stdout",
          "text": [
            "never talk to me again 😞\n",
            "I am proud of your achievements 😄\n",
            "It is the worst day in my life 😞\n",
            "Miss you so much ❤️\n",
            "food is life 🍴\n",
            "I love you mum ❤️\n",
            "Stop saying bullshit 😞\n",
            "congratulations on your acceptance 😄\n",
            "The assignment is too long  😞\n",
            "I want to go play ⚾\n"
          ]
        }
      ]
    },
    {
      "cell_type": "markdown",
      "source": [
        "### 2.2 Overview of the Emojifier - V1\n",
        "\n",
        "In this section, we'll implement a baseline mode called \"Emojifier - V1\".\n",
        "\n",
        "<center>\n",
        "<img src=\"https://github.com/rvraghvender/DeepLearningProjects/blob/main/NaturalLanguageProcessing/WordVector/Emojify/images/image_1.png?raw=true\" style=\"width:900px;height:300px;\">\n",
        "    <caption><center><font color='purple'><b>Figure 2</b>: Baseline model (Emojifier-V1).</center></caption>\n",
        "</center></font>\n",
        "\n",
        "#### Inputs and Outputs\n",
        "\n",
        "* The input of the model is a string corresponding to a sentence (e.g. \"I love you\")\n",
        "* The output will be a probability vector of shape (1,5), (indicating that there are 5 emojis to choose from).\n",
        "* The (1,5) pobability vector is passed to an argmax layer, which extracts the index os the emoji with the highest probability."
      ],
      "metadata": {
        "id": "M8JvViWXQRsX"
      }
    },
    {
      "cell_type": "markdown",
      "source": [
        "#### One-hot Encoding\n",
        "\n",
        "* To get our labels into a format suitable for training a softmax suitable for traning a softmax classifier, convert $Y$ from its current shape $(m, 1)$ into a \"one-hot representation\" $(m,5)$.\n",
        "    * Each row is a one-hot vector giving the label of one example.\n",
        "    * Here, `Y_oh` stands for \"Y-one-hot\" in the variable names `Y_oh_train` and `Y_oh_test`."
      ],
      "metadata": {
        "id": "jwNeJnU8RO5z"
      }
    },
    {
      "cell_type": "code",
      "source": [
        "Y_oh_train = convert_to_one_hot(Y_train, C = 5)\n",
        "Y_oh_test = convert_to_one_hot(Y_test, C = 5)"
      ],
      "metadata": {
        "id": "p6jc9d8WkHNx"
      },
      "execution_count": 18,
      "outputs": []
    },
    {
      "cell_type": "code",
      "source": [
        "idx = 50\n",
        "print(f\"Sentence '{X_train[idx]}' has label index {Y_train[idx]}, which is emoji {label_to_emoji(Y_train[idx])}\", )\n",
        "print(f\"Label index {Y_train[idx]} in one-hot encoding format is {Y_oh_train[idx]}\")"
      ],
      "metadata": {
        "colab": {
          "base_uri": "https://localhost:8080/"
        },
        "id": "tr4O81NTk9dt",
        "outputId": "beb26b80-3a20-4079-e2c2-1aa9eeb13638"
      },
      "execution_count": 19,
      "outputs": [
        {
          "output_type": "stream",
          "name": "stdout",
          "text": [
            "Sentence 'I missed you' has label index 0, which is emoji ❤️\n",
            "Label index 0 in one-hot encoding format is [1. 0. 0. 0. 0.]\n"
          ]
        }
      ]
    },
    {
      "cell_type": "markdown",
      "source": [
        "Everything is okay! Now let's move to implement the model."
      ],
      "metadata": {
        "id": "ZpYVwoOJTcHB"
      }
    },
    {
      "cell_type": "markdown",
      "source": [
        "### 2.3 Implementing the Emojifier - V1\n",
        "\n",
        "As shown in the figure 2 (above), the first step is to:\n",
        "\n",
        "* Convert each word in the input sentence into their word vector representations.\n",
        "* Take an average of the word vectors.\n",
        "\n",
        "We'll use pre-trained 50-dimensional GloVe embeddings."
      ],
      "metadata": {
        "id": "zGhhHzAiTiFg"
      }
    },
    {
      "cell_type": "code",
      "source": [
        "word_to_index, index_to_word, word_to_vec_map = read_glove_vecs('glove.6B.50d.txt')"
      ],
      "metadata": {
        "id": "2L4K7lAdk_9S"
      },
      "execution_count": 20,
      "outputs": []
    },
    {
      "cell_type": "markdown",
      "source": [
        "We have loaded:\n",
        "\n",
        "* `word_to_index`: dictionary mapping from words to thier indices in the vocabulary\n",
        "    * (400,001 words, with valid indices ranging from 0 to 400,000)\n",
        "* `index_to_word`: dictionary mapping from indices to their correponding words in the vocabulary\n",
        "* `word_to_vec_map`: dictionary mapping words to their GloVe vector representation."
      ],
      "metadata": {
        "id": "LtsY3CSfT8Fw"
      }
    },
    {
      "cell_type": "code",
      "source": [
        "word = \"cucumber\"\n",
        "idx = 289846\n",
        "print(\"the index of\", word, \"in the vocabulary is\", word_to_index[word])\n",
        "print(\"the\", str(idx) + \"th word in the vocabulary is\", index_to_word[idx])"
      ],
      "metadata": {
        "colab": {
          "base_uri": "https://localhost:8080/"
        },
        "id": "5H6t9I7RIWMo",
        "outputId": "c0cb0644-af9c-4efd-abf0-22f950464bd9"
      },
      "execution_count": 21,
      "outputs": [
        {
          "output_type": "stream",
          "name": "stdout",
          "text": [
            "the index of cucumber in the vocabulary is 113317\n",
            "the 289846th word in the vocabulary is potatos\n"
          ]
        }
      ]
    },
    {
      "cell_type": "markdown",
      "source": [
        "#### TODO 1 - `sentence_to_avg`\n",
        "\n",
        "Implementing `sentence_to_avg()`\n",
        "\n",
        "We'll need to carry out two steps:\n",
        "1. Convert  every sentence to lower-case, then split the sentence into a list of words.\n",
        "    * `X.lower()` and `X.split()` will be used.\n",
        "2. For each word in the sentence, access its GloVe representation."
      ],
      "metadata": {
        "id": "Iovj-cXlU211"
      }
    },
    {
      "cell_type": "code",
      "source": [
        "def sentence_to_avg(sentence, word_to_vec_map):\n",
        "    \"\"\"\n",
        "    Converts a sentence (string) into a list of words (strings). Extracts the\n",
        "    GloVe representation of each word and averages its value into a single\n",
        "    vector encoding the meaning of the sentence.\n",
        "\n",
        "    Arguments:\n",
        "    sentence -- string, one training example from X\n",
        "    word_to_vec_map -- dictionary mapping every word in a vocabulary into its\n",
        "                       50-dimensional vector representation\n",
        "\n",
        "    Returns:\n",
        "    avg -- average vector encoding information about the sentence, numpy-array\n",
        "           of shape (J,), where J can be any number\n",
        "    \"\"\"\n",
        "    # Get a valid word contained in the word_to_vec_map.\n",
        "    any_word = list(word_to_vec_map.keys())[0]\n",
        "\n",
        "    # Step 1: Split sentence into list of lower case words\n",
        "    words = sentence.lower().split()\n",
        "\n",
        "    # Initialize the average word vector, should have the same shape as your\n",
        "    # word vectors.\n",
        "    avg = np.zeros(word_to_vec_map[any_word].shape)\n",
        "\n",
        "    # Initialize count to 0\n",
        "    count = 0\n",
        "\n",
        "    # Step 2: average the word vectors. You can loop over the words in the list\n",
        "    # \"words\".\n",
        "    for w in words:\n",
        "        # Check that word exists in word_to_vec_map\n",
        "        if w in word_to_vec_map:\n",
        "            avg += word_to_vec_map[w]\n",
        "            # Increment count\n",
        "            count +=1\n",
        "\n",
        "    if count > 0:\n",
        "        # Get the average. But only if count > 0\n",
        "        avg = avg/count\n",
        "\n",
        "    return avg"
      ],
      "metadata": {
        "id": "5f8OkcfaIaoo"
      },
      "execution_count": 55,
      "outputs": []
    },
    {
      "cell_type": "markdown",
      "source": [
        "#### <font color='red'> Test `sentence_to_avg`  function </font> ####\n",
        "\n"
      ],
      "metadata": {
        "id": "GAbwZztXWqZ9"
      }
    },
    {
      "cell_type": "code",
      "source": [
        "# BEGIN UNIT TEST\n",
        "avg = sentence_to_avg(\"Morrocan couscous is my favorite dish\", word_to_vec_map)\n",
        "print(\"avg = \\n\", avg)\n",
        "\n",
        "def sentence_to_avg_test(target):\n",
        "    # Create a controlled word to vec map\n",
        "    word_to_vec_map = {'a': [3, 3], 'synonym_of_a': [3, 3], 'a_nw': [2, 4], 'a_s': [3, 2],\n",
        "                       'c': [-2, 1], 'c_n': [-2, 2],'c_ne': [-1, 2], 'c_e': [-1, 1], 'c_se': [-1, 0],\n",
        "                       'c_s': [-2, 0], 'c_sw': [-3, 0], 'c_w': [-3, 1], 'c_nw': [-3, 2]\n",
        "                      }\n",
        "    # Convert lists to np.arrays\n",
        "    for key in word_to_vec_map.keys():\n",
        "        word_to_vec_map[key] = np.array(word_to_vec_map[key])\n",
        "\n",
        "    avg = target(\"a a_nw c_w a_s\", word_to_vec_map)\n",
        "    assert tuple(avg.shape) == tuple(word_to_vec_map['a'].shape),  \"Check the shape of your avg array\"\n",
        "    assert np.allclose(avg, [1.25, 2.5]),  \"Check that you are finding the 4 words\"\n",
        "    avg = target(\"love a a_nw c_w a_s\", word_to_vec_map)\n",
        "    assert np.allclose(avg, [1.25, 2.5]), \"Divide by count, not len(words)\"\n",
        "    avg = target(\"love\", word_to_vec_map)\n",
        "    assert np.allclose(avg, [0, 0]), \"Average of no words must give an array of zeros\"\n",
        "    avg = target(\"c_se foo a a_nw c_w a_s deeplearning c_nw\", word_to_vec_map)\n",
        "    assert np.allclose(avg, [0.1666667, 2.0]), \"Debug the last example\"\n",
        "\n",
        "    print(\"\\033[92mAll tests passed!\")\n",
        "\n",
        "sentence_to_avg_test(sentence_to_avg)\n",
        "\n",
        "# END UNIT TEST"
      ],
      "metadata": {
        "colab": {
          "base_uri": "https://localhost:8080/"
        },
        "id": "r4MqW8KqIeXq",
        "outputId": "87fa1a5f-bf89-4f35-e206-1ca0438735a4"
      },
      "execution_count": 23,
      "outputs": [
        {
          "output_type": "stream",
          "name": "stdout",
          "text": [
            "avg = \n",
            " [-0.008005    0.56370833 -0.50427333  0.258865    0.55131103  0.03104983\n",
            " -0.21013718  0.16893933 -0.09590267  0.141784   -0.15708967  0.18525867\n",
            "  0.6495785   0.38371117  0.21102167  0.11301667  0.02613967  0.26037767\n",
            "  0.05820667 -0.01578167 -0.12078833 -0.02471267  0.4128455   0.5152061\n",
            "  0.38756167 -0.898661   -0.535145    0.33501167  0.68806933 -0.2156265\n",
            "  1.797155    0.10476933 -0.36775333  0.750785    0.10282583  0.348925\n",
            " -0.27262833  0.66768    -0.10706167 -0.283635    0.59580117  0.28747333\n",
            " -0.3366635   0.23393817  0.34349183  0.178405    0.1166155  -0.076433\n",
            "  0.1445417   0.09808667]\n",
            "\u001b[92mAll tests passed!\n"
          ]
        }
      ]
    },
    {
      "cell_type": "markdown",
      "source": [
        "### 2.4 - Implement the Model\n",
        "\n",
        "We now have all the pieces to finish implementing the `model()` function. After using `sentence_to_avg()` we need to:\n",
        "\n",
        "- Pass the average through forward propagation\n",
        "- Compute the cost\n",
        "- Backpropagate to update the softmax parameters"
      ],
      "metadata": {
        "id": "bLI7iMPVIiml"
      }
    },
    {
      "cell_type": "markdown",
      "source": [
        "#### TODO 2 - model\n",
        "\n",
        "Implement the `model()` function described in figure (2).\n",
        "- The equations we need to implement in the forward pass and to compute the cross-entropy cost are below:\n",
        "- The variable  $Y_{oh}$ (\"Y one hot\") is the one-hot enconding of the outputs labels.\n",
        "\n",
        "\n",
        "$$ z^{(i)} = W . avg^{(i)} + b \\tag{1}$$\n",
        "\n",
        "$$ a^{(i)} = softmax(z^{(i)}) \\tag{2}$$\n",
        "\n",
        "$$ \\mathcal{L}^{(i)} = - \\sum_{k = 0}^{n_y - 1} Y_{oh,k}^{(i)} * log(a^{(i)}_k) \\tag{3}$$\n"
      ],
      "metadata": {
        "id": "6h2UMGAfXt3u"
      }
    },
    {
      "cell_type": "code",
      "source": [
        "def model(X, Y, word_to_vec_map, learning_rate = 0.01, num_iterations = 400):\n",
        "    \"\"\"\n",
        "    Model to train word vector representations in numpy.\n",
        "\n",
        "    Arguments:\n",
        "    X -- input data, numpy array of sentences as strings, of shape (m, 1)\n",
        "    Y -- labels, numpy array of integers between 0 and 7, numpy-array of shape (m, 1)\n",
        "    word_to_vec_map -- dictionary mapping every word in a vocabulary into its 50-dimensional vector representation\n",
        "    learning_rate -- learning_rate for the stochastic gradient descent algorithm\n",
        "    num_iterations -- number of iterations\n",
        "\n",
        "    Returns:\n",
        "    pred -- vector of predictions, numpy-array of shape (m, 1)\n",
        "    W -- weight matrix of the softmax layer, of shape (n_y, n_h)\n",
        "    b -- bias of the softmax layer, of shape (n_y,)\n",
        "    \"\"\"\n",
        "\n",
        "    # Get a valid word contained in the word_to_vec_map\n",
        "    any_word = list(word_to_vec_map.keys())[0]\n",
        "\n",
        "    # Initialize cost. It is needed during grading\n",
        "    cost = 0\n",
        "\n",
        "    # Define number of training examples\n",
        "    m = Y.shape[0]                             # number of training examples\n",
        "    n_y = len(np.unique(Y))                    # number of classes\n",
        "    n_h = word_to_vec_map[any_word].shape[0]   # dimensions of the GloVe vectors\n",
        "\n",
        "    # Initialize parameters using Xavier initialization\n",
        "    W = np.random.randn(n_y, n_h) / np.sqrt(n_h)\n",
        "    b = np.zeros((n_y,))\n",
        "\n",
        "    # Convert Y to Y_onehot with n_y classes\n",
        "    Y_oh = convert_to_one_hot(Y, C = n_y)\n",
        "\n",
        "    # Optimization loop\n",
        "    for t in range(num_iterations): # Loop over the number of iterations\n",
        "        for i in range(m):          # Loop over the training examples\n",
        "\n",
        "            # Average the word vectors of the words from the i'th training example\n",
        "            avg = sentence_to_avg(X[i], word_to_vec_map)\n",
        "\n",
        "            # Forward propagate the avg through the softmax layer\n",
        "            z = np.add(np.dot(W,avg),b)\n",
        "            a = softmax(z)\n",
        "\n",
        "            # Compute cost using the i'th training label's one hot representation and \"A\" (the output of the softmax)\n",
        "            cost = -np.sum(np.dot(Y_oh[i], np.log(a)))\n",
        "\n",
        "            # Compute gradients\n",
        "            dz = a - Y_oh[i]\n",
        "            dW = np.dot(dz.reshape(n_y,1), avg.reshape(1, n_h))\n",
        "            db = dz\n",
        "\n",
        "            # Update parameters with Stochastic Gradient Descent\n",
        "            W = W - learning_rate * dW\n",
        "            b = b - learning_rate * db\n",
        "\n",
        "        if t % 100 == 0:\n",
        "            print(\"Epoch: \" + str(t) + \" --- cost = \" + str(cost))\n",
        "            pred = predict(X, Y, W, b, word_to_vec_map) #predict is defined in emo_utils.py\n",
        "\n",
        "    return pred, W, b"
      ],
      "metadata": {
        "id": "en1XRsstIf-3"
      },
      "execution_count": 24,
      "outputs": []
    },
    {
      "cell_type": "markdown",
      "source": [
        "#### <font color='red'> Test `model`  function </font> ####"
      ],
      "metadata": {
        "id": "lo3zMBS8YyEU"
      }
    },
    {
      "cell_type": "code",
      "source": [
        "|# UNIT TEST\n",
        "def model_test(target):\n",
        "    # Create a controlled word to vec map\n",
        "    word_to_vec_map = {'a': [3, 3], 'synonym_of_a': [3, 3], 'a_nw': [2, 4], 'a_s': [3, 2], 'a_n': [3, 4],\n",
        "                       'c': [-2, 1], 'c_n': [-2, 2],'c_ne': [-1, 2], 'c_e': [-1, 1], 'c_se': [-1, 0],\n",
        "                       'c_s': [-2, 0], 'c_sw': [-3, 0], 'c_w': [-3, 1], 'c_nw': [-3, 2]\n",
        "                      }\n",
        "    # Convert lists to np.arrays\n",
        "    for key in word_to_vec_map.keys():\n",
        "        word_to_vec_map[key] = np.array(word_to_vec_map[key])\n",
        "\n",
        "    # Training set. Sentences composed of a_* words will be of class 0 and sentences composed of c_* words will be of class 1\n",
        "    X = np.asarray(['a a_s synonym_of_a a_n c_sw', 'a a_s a_n c_sw', 'a_s  a a_n', 'synonym_of_a a a_s a_n c_sw', \" a_s a_n\",\n",
        "                    \" a a_s a_n c \", \" a_n  a c c c_e\",\n",
        "                   'c c_nw c_n c c_ne', 'c_e c c_se c_s', 'c_nw c a_s c_e c_e', 'c_e a_nw c_sw', 'c_sw c c_ne c_ne'])\n",
        "\n",
        "    Y = np.asarray([0, 0, 0, 0, 0, 0, 1, 1, 1, 1, 1, 1])\n",
        "\n",
        "    np.random.seed(10)\n",
        "    pred, W, b = model(X, Y, word_to_vec_map, 0.0025, 110)\n",
        "\n",
        "    assert W.shape == (2, 2), \"W must be of shape 2 x 2\"\n",
        "    assert np.allclose(pred.transpose(), Y), \"Model must give a perfect accuracy\"\n",
        "    assert np.allclose(b[0], -1 * b[1]), \"b should be symmetric in this example\"\n",
        "\n",
        "    print(\"\\033[92mAll tests passed!\")\n",
        "\n",
        "model_test(model)"
      ],
      "metadata": {
        "colab": {
          "base_uri": "https://localhost:8080/"
        },
        "id": "zDoN2YhXIjWo",
        "outputId": "495e1fc4-137b-4283-f9e4-0828aaa10540"
      },
      "execution_count": 25,
      "outputs": [
        {
          "output_type": "stream",
          "name": "stdout",
          "text": [
            "Epoch: 0 --- cost = 0.05105772513207823\n",
            "Accuracy: 0.9166666666666666\n",
            "Epoch: 100 --- cost = 0.00970311068897676\n",
            "Accuracy: 1.0\n",
            "\u001b[92mAll tests passed!\n"
          ]
        }
      ]
    },
    {
      "cell_type": "code",
      "source": [
        "np.random.seed(1)\n",
        "pred, W, b = model(X_train, Y_train, word_to_vec_map)\n",
        "print(pred)"
      ],
      "metadata": {
        "colab": {
          "base_uri": "https://localhost:8080/"
        },
        "id": "F8OmSuJFIlcp",
        "outputId": "e6dbe3f8-c775-4901-d2d3-6596ea546a4a"
      },
      "execution_count": 26,
      "outputs": [
        {
          "output_type": "stream",
          "name": "stdout",
          "text": [
            "Epoch: 0 --- cost = 1.9520498812810076\n",
            "Accuracy: 0.3484848484848485\n",
            "Epoch: 100 --- cost = 0.07971818726014807\n",
            "Accuracy: 0.9318181818181818\n",
            "Epoch: 200 --- cost = 0.04456369243681402\n",
            "Accuracy: 0.9545454545454546\n",
            "Epoch: 300 --- cost = 0.03432267378786059\n",
            "Accuracy: 0.9696969696969697\n",
            "[[3.]\n",
            " [2.]\n",
            " [3.]\n",
            " [0.]\n",
            " [4.]\n",
            " [0.]\n",
            " [3.]\n",
            " [2.]\n",
            " [3.]\n",
            " [1.]\n",
            " [3.]\n",
            " [3.]\n",
            " [1.]\n",
            " [3.]\n",
            " [2.]\n",
            " [3.]\n",
            " [2.]\n",
            " [3.]\n",
            " [1.]\n",
            " [2.]\n",
            " [3.]\n",
            " [0.]\n",
            " [2.]\n",
            " [2.]\n",
            " [2.]\n",
            " [1.]\n",
            " [4.]\n",
            " [3.]\n",
            " [3.]\n",
            " [4.]\n",
            " [0.]\n",
            " [3.]\n",
            " [4.]\n",
            " [2.]\n",
            " [0.]\n",
            " [3.]\n",
            " [2.]\n",
            " [2.]\n",
            " [3.]\n",
            " [4.]\n",
            " [2.]\n",
            " [2.]\n",
            " [0.]\n",
            " [2.]\n",
            " [3.]\n",
            " [0.]\n",
            " [3.]\n",
            " [2.]\n",
            " [4.]\n",
            " [3.]\n",
            " [0.]\n",
            " [3.]\n",
            " [3.]\n",
            " [3.]\n",
            " [4.]\n",
            " [2.]\n",
            " [1.]\n",
            " [1.]\n",
            " [1.]\n",
            " [2.]\n",
            " [3.]\n",
            " [1.]\n",
            " [0.]\n",
            " [0.]\n",
            " [0.]\n",
            " [3.]\n",
            " [4.]\n",
            " [4.]\n",
            " [2.]\n",
            " [2.]\n",
            " [1.]\n",
            " [2.]\n",
            " [0.]\n",
            " [3.]\n",
            " [2.]\n",
            " [2.]\n",
            " [0.]\n",
            " [3.]\n",
            " [3.]\n",
            " [1.]\n",
            " [2.]\n",
            " [1.]\n",
            " [2.]\n",
            " [2.]\n",
            " [4.]\n",
            " [3.]\n",
            " [3.]\n",
            " [2.]\n",
            " [4.]\n",
            " [0.]\n",
            " [0.]\n",
            " [3.]\n",
            " [3.]\n",
            " [3.]\n",
            " [3.]\n",
            " [2.]\n",
            " [0.]\n",
            " [1.]\n",
            " [2.]\n",
            " [3.]\n",
            " [0.]\n",
            " [2.]\n",
            " [2.]\n",
            " [2.]\n",
            " [3.]\n",
            " [2.]\n",
            " [2.]\n",
            " [2.]\n",
            " [4.]\n",
            " [1.]\n",
            " [1.]\n",
            " [3.]\n",
            " [3.]\n",
            " [4.]\n",
            " [1.]\n",
            " [2.]\n",
            " [1.]\n",
            " [1.]\n",
            " [3.]\n",
            " [1.]\n",
            " [0.]\n",
            " [4.]\n",
            " [0.]\n",
            " [3.]\n",
            " [3.]\n",
            " [4.]\n",
            " [4.]\n",
            " [1.]\n",
            " [4.]\n",
            " [3.]\n",
            " [0.]\n",
            " [2.]]\n"
          ]
        }
      ]
    },
    {
      "cell_type": "markdown",
      "source": [
        "Great! Our model has pretty high accuracy on the training set. Now we check how it does on the test set:"
      ],
      "metadata": {
        "id": "V9xh2ZaNZIYR"
      }
    },
    {
      "cell_type": "markdown",
      "source": [
        "### 2.5 - Examining Test Set performance"
      ],
      "metadata": {
        "id": "XVFC5UHRZRz5"
      }
    },
    {
      "cell_type": "code",
      "source": [
        "print(\"Training set:\")\n",
        "pred_train = predict(X_train, Y_train, W, b, word_to_vec_map)\n",
        "print('Test set:')\n",
        "pred_test = predict(X_test, Y_test, W, b, word_to_vec_map)"
      ],
      "metadata": {
        "colab": {
          "base_uri": "https://localhost:8080/"
        },
        "id": "0x8JE4CRInaJ",
        "outputId": "2d99ecbb-c2ad-4d12-c7aa-863587c2c304"
      },
      "execution_count": 27,
      "outputs": [
        {
          "output_type": "stream",
          "name": "stdout",
          "text": [
            "Training set:\n",
            "Accuracy: 0.9772727272727273\n",
            "Test set:\n",
            "Accuracy: 0.8571428571428571\n"
          ]
        }
      ]
    },
    {
      "cell_type": "markdown",
      "source": [
        "**Note:**\n",
        "\n",
        "- Random guessing would have had 20% accuracy, given that there are 5 classes. (1/5 = 20%).\n",
        "- This is pretty good performance after training on only 127 examples.\n",
        "\n",
        "#### The Model matches Emojis to Relevant words\n",
        "\n",
        "In the training set, the algorithm saw the sentence\n",
        "```I love you.```\n",
        "with the label ❤️.\n",
        "\n",
        "- We can check that the word \"cherish\" does not appear in the training set.\n",
        "- Nonetheless, let's see what happens if we write \"I cherish you\"."
      ],
      "metadata": {
        "id": "c338utJOZpTg"
      }
    },
    {
      "cell_type": "code",
      "source": [
        "X_my_sentences = np.array([\"i cherish you\", \"i love you\", \"funny lol\", \"lets play with a ball\", \"food is ready\", \"not feeling happy\"])\n",
        "Y_my_labels = np.array([[0], [0], [2], [1], [4],[3]])\n",
        "\n",
        "pred = predict(X_my_sentences, Y_my_labels , W, b, word_to_vec_map)\n",
        "print_predictions(X_my_sentences, pred)"
      ],
      "metadata": {
        "colab": {
          "base_uri": "https://localhost:8080/"
        },
        "id": "xhBKchskIrXI",
        "outputId": "298786b8-d5fe-4ff7-c4b8-abefa97f95b0"
      },
      "execution_count": 28,
      "outputs": [
        {
          "output_type": "stream",
          "name": "stdout",
          "text": [
            "Accuracy: 0.8333333333333334\n",
            "\n",
            "i cherish you ❤️\n",
            "i love you ❤️\n",
            "funny lol 😄\n",
            "lets play with a ball ⚾\n",
            "food is ready 🍴\n",
            "not feeling happy 😄\n"
          ]
        }
      ]
    },
    {
      "cell_type": "markdown",
      "source": [
        "#### Amazing!\n",
        "\n",
        "- Because we adore has a similar embedding as __love__, the algorithm has generalized correctly even to a word it has never has been before.\n",
        "- Words such as __hear__, __dear__, __beloved__, or __adore__ have embedding vectors similar to __love__.\n",
        "\n",
        "\n",
        "#### Word Ordering isn't considered in this model\n",
        "\n",
        "- Note that the model doesn't get the following sentence correct:  \n",
        "    - ```\"not feeling happy\"```\n",
        "- This algorithm ignores word ordering, so is not good at understanding phrases like \"not happy\".\n",
        "\n",
        "#### Confusion matrix\n",
        "- Printing the confusion matrix can also help us understand which classes are more difficult for our model.\n",
        "- A confusion matrix shows how often an example whose label is one class (\"actual\" class) is mislabeled by the algorithm with a different class (\"predicted\" class).\n",
        "\n",
        "Print the confusion matrix:\n",
        "\n"
      ],
      "metadata": {
        "id": "gcxKUrgua5QH"
      }
    },
    {
      "cell_type": "code",
      "source": [
        "print(Y_test.shape)\n",
        "print('           '+ label_to_emoji(0)+ '    ' + label_to_emoji(1) + '    ' +  label_to_emoji(2)+ '    ' + label_to_emoji(3)+'   ' + label_to_emoji(4))\n",
        "print(pd.crosstab(Y_test, pred_test.reshape(56,), rownames=['Actual'], colnames=['Predicted'], margins=True))\n",
        "plot_confusion_matrix(Y_test, pred_test)"
      ],
      "metadata": {
        "colab": {
          "base_uri": "https://localhost:8080/",
          "height": 591
        },
        "id": "5kqXosiMIt0X",
        "outputId": "20af3475-7ab8-491e-991f-36be715c0bbb"
      },
      "execution_count": 29,
      "outputs": [
        {
          "output_type": "stream",
          "name": "stdout",
          "text": [
            "(56,)\n",
            "           ❤️    ⚾    😄    😞   🍴\n",
            "Predicted  0.0  1.0  2.0  3.0  4.0  All\n",
            "Actual                                 \n",
            "0            6    0    0    1    0    7\n",
            "1            0    8    0    0    0    8\n",
            "2            2    0   16    0    0   18\n",
            "3            1    1    2   12    0   16\n",
            "4            0    0    1    0    6    7\n",
            "All          9    9   19   13    6   56\n"
          ]
        },
        {
          "output_type": "display_data",
          "data": {
            "text/plain": [
              "<Figure size 480x480 with 2 Axes>"
            ],
            "image/png": "[encoded data removed]"
          },
          "metadata": {}
        }
      ]
    },
    {
      "cell_type": "markdown",
      "source": [
        "<font color='blue'><b>Points to remember:</b>\n",
        "- Even with a mere 127 training examples, we can get a reasonably good model for Emojifying.\n",
        "    - This is due to the generalization power word vectors gives you.\n",
        "- Emojify - V1 will perform poorly on sentences such as *\"This movie is not good and not enjoyable\"*\n",
        "    - It doesn't understand combinations of words.\n",
        "    - It just averages all the words' embedding vectors together, without considering the ordering of words.\n",
        "</font>\n",
        "    \n",
        "**Not to worry! We'll build a better algorithm in the next section!**"
      ],
      "metadata": {
        "id": "K5gMOUPYi1PH"
      }
    },
    {
      "cell_type": "markdown",
      "source": [
        "## 2 - Emojifier - V2: Using LSTMs in Keras\n",
        "\n",
        "We're going to build an LSTM model that takes word **sequences** as input! This model will be send to account for word ordering.\n",
        "\n",
        "Emojfier - V2 will continue to use pre-trained word embeddings to represent words. We'll feed word embeddings into a LSTMs, and the LSTM will learn to predict the most appropriate emoji."
      ],
      "metadata": {
        "id": "eI7N9Awfj6hs"
      }
    },
    {
      "cell_type": "markdown",
      "source": [
        "### 2.1 - Model Overview\n",
        "\n",
        "Here is the Emojifier - V2, we'll implement:\n",
        "\n",
        "<img src=\"https://github.com/rvraghvender/DeepLearningProjects/blob/main/NaturalLanguageProcessing/WordVector/Emojify/images/emojifier-v2.png?raw=true\" style=\"width:700px;height:400px;\"> <br>\n",
        "<caption><center><font color='purple'><b>Figure 3</b>: Emojifier-V2. A 2-layer LSTM sequence classifier. </center></caption>"
      ],
      "metadata": {
        "id": "nTvnEJGzmsOn"
      }
    },
    {
      "cell_type": "markdown",
      "source": [
        "### 2.3 - Keras and Mini-batching\n",
        "\n",
        "In this part, we want to train Keras using mini-batches. However, most deep learning framewords require that all sequences in the same mini-batch have the **same length.**  \n",
        "\n",
        "This is what allows vectorization to work: If we had a 3-word sentences and a 4-word sentence, then the computations needed for them are different (one takes 3 steps of an LSTM, one takes 4 steps) so it's just not possible to do them both as the same time.\n",
        "\n",
        "**Padding handles the sequence of varying lenghts**\n",
        "- The common solution to handing sequences of **different length** is to use padding. Specifically:\n",
        "    - Set a maximum sequence length\n",
        "    - Pad all sequence to have the same length\n",
        "\n",
        "\n",
        "**Examples of Padding:**\n",
        "- Given a maximum sequence length of 20, we could  pad every sentence with \"0\"'s so that each input sentence is of length 20.\n",
        "- Thus, the sentence \"I love you\" would be represented as ($e_I$, e$_{love}$, e$_{you}$, $\\vec{0}$, $\\vec{0}$,...,$\\vec{0}$).\n",
        "- In this example, any sentence longer than 20 words would have to be truncated.\n",
        "- One way to choose the maximum sequence length is to just pick the length of the longest sentence in the training set."
      ],
      "metadata": {
        "id": "PmWgOH_xnZJP"
      }
    },
    {
      "cell_type": "markdown",
      "source": [
        "### 2.4 - The Embedding layer\n",
        "\n",
        "In Keras, the embedding matrix is represented as a \"layer\".\n",
        "\n",
        "- The embedding matrix maps wods indices to embedding vectors.\n",
        "    - The word indices are positive integers.\n",
        "    - The embedding vectors are dense vectors of fixed size.\n",
        "    - A \"dense\" vector is the opposite of a sparese vector. It means that most of tis values are non-zeros. As a counter example, a one-hot encoded vector is not \"dense\".\n",
        "- The embedding matrix can be derived in two ways:\n",
        "     - Training a model to derive the embeddings from scratch.\n",
        "     - Using a pretrained embeddings."
      ],
      "metadata": {
        "id": "CR9WeHoorAUh"
      }
    },
    {
      "cell_type": "markdown",
      "source": [
        "**Using and Updating Pre-trained Embeddings**\n",
        "In this section, we'll create and `Embedding()` layer in keras\n",
        "- We'll initialize the Embedding layer with GloVe 50-dimensional vectors.\n",
        "- In the code below, we'll observe how Keras allows us to either train or leave this layer fixed.\n",
        "    - Because our traning set is small, we'll leave the GloVe embeddings fixed instead of updaing item.\n",
        "\n",
        "** Inputs and Outputs to the Embedding Layer**\n",
        "- The `Embedding()` layer's input is an integer matrix of size (**batch size, max input length**).\n",
        "    - This input corresponds to sentences converted into lists of indices (integers).\n",
        "    - The largest integer (the highest word index) in the input should be no larger than the vocabulary size.\n",
        "- The embedding layer outputs an array of shape (batch size, max input length, dimension of word vectors).\n",
        "\n",
        "- The figure shows the propagation of two example sentences throught the embedding layer.\n",
        "    - Both examples have been zero-padded to a length of `max_length=5`.\n",
        "    - The word embedding are 50 units in length.\n",
        "    - The final dimension of the representation is `(2, max_len, 50)`\n",
        "\n",
        "<img src=\"https://github.com/rvraghvender/DeepLearningProjects/blob/main/NaturalLanguageProcessing/WordVector/Emojify/images/embedding1.png?raw=true\" style=\"width:700px;height:250px;\">\n",
        "<caption><center><font color='purple'><b>Figure 4</b>: Embedding layer</center></caption>"
      ],
      "metadata": {
        "id": "UUG9h1IhsQph"
      }
    },
    {
      "cell_type": "markdown",
      "source": [
        "**Prepare the Input Sentences**\n",
        "\n",
        "**TODO 3 - sentences_to_indices**\n",
        "\n",
        "Implement the `sentences_to_indices`\n",
        "\n",
        "The function process an array of sentence $X$ and returns inputs to the embedding layer:\n",
        "- Convert each training setences into a list of indices (the indices correspond to each word in the sentence)\n",
        "- Zero-Pad all these lists so that their length is the length of the longest sentence."
      ],
      "metadata": {
        "id": "ytoSc0bXuZLx"
      }
    },
    {
      "cell_type": "code",
      "source": [
        "for idx, val in enumerate([\"I\", \"like\", \"learning\"]):\n",
        "    print(idx, val)"
      ],
      "metadata": {
        "colab": {
          "base_uri": "https://localhost:8080/"
        },
        "id": "7hbLCpzjI2EH",
        "outputId": "02b4f492-f7b5-4a06-90e9-9504548a5cb6"
      },
      "execution_count": 31,
      "outputs": [
        {
          "output_type": "stream",
          "name": "stdout",
          "text": [
            "0 I\n",
            "1 like\n",
            "2 learning\n"
          ]
        }
      ]
    },
    {
      "cell_type": "code",
      "source": [
        "def sentences_to_indices(X, word_to_index, max_len):\n",
        "    \"\"\"\n",
        "    Converts an array of sentences (strings) into an array of indices corresponding to words in the sentences.\n",
        "    The output shape should be such that it can be given to `Embedding()` (described in Figure 4).\n",
        "\n",
        "    Arguments:\n",
        "    X -- array of sentences (strings), of shape (m, 1)\n",
        "    word_to_index -- a dictionary containing the each word mapped to its index\n",
        "    max_len -- maximum number of words in a sentence. You can assume every sentence in X is no longer than this.\n",
        "\n",
        "    Returns:\n",
        "    X_indices -- array of indices corresponding to words in the sentences from X, of shape (m, max_len)\n",
        "    \"\"\"\n",
        "\n",
        "    m = X.shape[0]  # number of training examples\n",
        "\n",
        "    # Initialize X_indices as a numpy matrix of zeros and the correct shape\n",
        "    X_indices = np.zeros([m,max_len])\n",
        "\n",
        "    for i in range(m):  # loop over training examples\n",
        "\n",
        "        # Convert the ith training sentence in lower case and split is into words.\n",
        "        # We should get a list of words.\n",
        "        sentence_words = X[i].lower().split()\n",
        "\n",
        "        # Initialize j to 0\n",
        "        j = 0\n",
        "\n",
        "        # Loop over the words of sentence_words\n",
        "\n",
        "        for w in sentence_words:\n",
        "            # if w exists in the word_to_index dictionary\n",
        "            if w in word_to_index:\n",
        "                # Set the (i,j)th entry of X_indices to the index of the correct word.\n",
        "                X_indices[i, j] = word_to_index[w]\n",
        "                # Increment j to j + 1\n",
        "                j =  j+1\n",
        "\n",
        "    return X_indices"
      ],
      "metadata": {
        "id": "Z293KN54JINp"
      },
      "execution_count": 57,
      "outputs": []
    },
    {
      "cell_type": "markdown",
      "source": [
        "#### <font color='red'> Test `sentences_to_indices`  function </font> ####"
      ],
      "metadata": {
        "id": "N7TR_zQFvoK6"
      }
    },
    {
      "cell_type": "code",
      "source": [
        "def sentences_to_indices_test(target):\n",
        "\n",
        "    # Create a word_to_index dictionary\n",
        "    word_to_index = {}\n",
        "    for idx, val in enumerate([\"i\", \"like\", \"learning\", \"deep\", \"machine\", \"love\", \"smile\", '´0.=']):\n",
        "        word_to_index[val] = idx + 1;\n",
        "\n",
        "    max_len = 4\n",
        "    sentences = np.array([\"I like deep learning\", \"deep ´0.= love machine\", \"machine learning smile\"]);\n",
        "    indexes = target(sentences, word_to_index, max_len)\n",
        "    print(indexes)\n",
        "\n",
        "    assert type(indexes) == np.ndarray, \"Wrong type. Use np arrays in the function\"\n",
        "    assert indexes.shape == (sentences.shape[0], max_len), \"Wrong shape of ouput matrix\"\n",
        "    assert np.allclose(indexes, [[1, 2, 4, 3],\n",
        "                                 [4, 8, 6, 5],\n",
        "                                 [5, 3, 7, 0]]), \"Wrong values. Debug with the given examples\"\n",
        "\n",
        "    print(\"\\033[92mAll tests passed!\")\n",
        "\n",
        "sentences_to_indices_test(sentences_to_indices)"
      ],
      "metadata": {
        "colab": {
          "base_uri": "https://localhost:8080/"
        },
        "id": "1XKOQJfFJKeb",
        "outputId": "7b79d7a0-e122-4a34-8b2e-d50fd5deeb0a"
      },
      "execution_count": 33,
      "outputs": [
        {
          "output_type": "stream",
          "name": "stdout",
          "text": [
            "[[1. 2. 4. 3.]\n",
            " [4. 8. 6. 5.]\n",
            " [5. 3. 7. 0.]]\n",
            "\u001b[92mAll tests passed!\n"
          ]
        }
      ]
    },
    {
      "cell_type": "code",
      "source": [
        "X1 = np.array([\"funny lol\", \"lets play baseball\", \"food is ready for you\"])\n",
        "X1_indices = sentences_to_indices(X1, word_to_index, max_len=5)\n",
        "print(\"X1 =\", X1)\n",
        "print(\"X1_indices =\\n\", X1_indices)"
      ],
      "metadata": {
        "colab": {
          "base_uri": "https://localhost:8080/"
        },
        "id": "p8K9L98cJMXp",
        "outputId": "1872b064-8114-4476-f764-af4c45e02c73"
      },
      "execution_count": 34,
      "outputs": [
        {
          "output_type": "stream",
          "name": "stdout",
          "text": [
            "X1 = ['funny lol' 'lets play baseball' 'food is ready for you']\n",
            "X1_indices =\n",
            " [[155345. 225122.      0.      0.      0.]\n",
            " [220930. 286375.  69714.      0.      0.]\n",
            " [151204. 192973. 302254. 151349. 394475.]]\n"
          ]
        }
      ]
    },
    {
      "cell_type": "markdown",
      "source": [
        "**Building Embedding Layer**\n",
        "\n",
        "Now, we'll build the `Embedding()` layer in Keras, using pre-trained word vectors.\n",
        "- The embedding layer toakes as input a list of word indices.\n",
        "    - `sentences_to_indices()` creats these words indices.\n",
        "    - The embedding layer will return the word embeddings for a sentences.\n",
        "    "
      ],
      "metadata": {
        "id": "FIljGn7ivveW"
      }
    },
    {
      "cell_type": "markdown",
      "source": [
        "**TODO 4: pretrained_embedding_layer**\n",
        "\n",
        "Implement the `pretrained_embedding_layer()` with these steps:\n",
        "- Initialize the embedding matrix as a numpy array of zeros.\n",
        "    - The embedding matrix has a row for each unique word in the vocabulary.\n",
        "        - There is one additional row to handle \"unknown\" words.\n",
        "        - So vocab_size is the number of unique words plus one.\n",
        "    - Each row will store the vector representation of one word.\n",
        "        - For example, one row may be 50 positions long if using GloVe word vectors.\n",
        "    - In the code below, `emb_dim` represents the length of a word embedding.\n",
        "- Fill in each row of the embedding matrix with the vector representation of a word\n",
        "    - Each word in `word_to_index` is a string.\n",
        "    - `word_to_vec_map` is a dictionary where the keys are strings and the values are the word vectors.\n",
        "- Define the Keras embedding layer.\n",
        "    - Use `Embedding()`\n",
        "    - The input dimension is equal to the vacubulary length (number of unique words plus one)\n",
        "    - Make this layer's embedding fixed.\n",
        "        - If we were to set `trainable = True`, then it will allow the optimization algorithm to modify the values of the word embeddings.\n",
        "        - In this case, we don't want the model to modify the word embeddings.\n",
        "- Set the embeddings weights to be equal to the embedding matrix."
      ],
      "metadata": {
        "id": "XT0go2NRwNUW"
      }
    },
    {
      "cell_type": "code",
      "source": [
        "def pretrained_embedding_layer(word_to_vec_map, word_to_index):\n",
        "    \"\"\"\n",
        "    Creates a Keras Embedding() layer and loads in pre-trained GloVe 50-dimensional vectors.\n",
        "\n",
        "    Arguments:\n",
        "    word_to_vec_map -- dictionary mapping words to their GloVe vector representation.\n",
        "    word_to_index -- dictionary mapping from words to their indices in the vocabulary (400,001 words)\n",
        "\n",
        "    Returns:\n",
        "    embedding_layer -- pretrained layer Keras instance\n",
        "    \"\"\"\n",
        "\n",
        "    vocab_size = len(word_to_index) + 1              # adding 1 to fit Keras embedding (requirement)\n",
        "    any_word = list(word_to_vec_map.keys())[0]\n",
        "    emb_dim = word_to_vec_map[any_word].shape[0]     # define dimensionality of your GloVe word vectors (= 50)\n",
        "\n",
        "    # Step 1\n",
        "    # Initialize the embedding matrix as a numpy array of zeros.\n",
        "    # See instructions above to choose the correct shape.\n",
        "    emb_matrix = np.zeros([vocab_size,emb_dim])\n",
        "\n",
        "    # Step 2\n",
        "    # Set each row \"idx\" of the embedding matrix to be\n",
        "    # the word vector representation of the idx'th word of the vocabulary\n",
        "    for word, idx in word_to_index.items():\n",
        "        emb_matrix[idx, :] = word_to_vec_map[word]\n",
        "\n",
        "    # Step 3\n",
        "    # Define Keras embedding layer with the correct input and output sizes\n",
        "    # Make it non-trainable.\n",
        "    embedding_layer = Embedding(vocab_size, emb_dim ,trainable = False)\n",
        "\n",
        "    # Step 4\n",
        "    # Build the embedding layer, it is required before setting the weights of the embedding layer.\n",
        "    embedding_layer.build((None,)) # Do not modify the \"None\".  This line of code is complete as-is.\n",
        "\n",
        "    # Set the weights of the embedding layer to the embedding matrix. Your layer is now pretrained.\n",
        "    embedding_layer.set_weights([emb_matrix])\n",
        "\n",
        "    return embedding_layer"
      ],
      "metadata": {
        "id": "2WjmAOSoJOC5"
      },
      "execution_count": 35,
      "outputs": []
    },
    {
      "cell_type": "markdown",
      "source": [
        "#### <font color='red'> Test `pretrained_embedding_layer`  function </font> ####"
      ],
      "metadata": {
        "id": "31OKB7Bm02b7"
      }
    },
    {
      "cell_type": "code",
      "source": [
        "def pretrained_embedding_layer_test(target):\n",
        "    # Create a controlled word to vec map\n",
        "    word_to_vec_map = {'a': [3, 3], 'synonym_of_a': [3, 3], 'a_nw': [2, 4], 'a_s': [3, 2], 'a_n': [3, 4],\n",
        "                       'c': [-2, 1], 'c_n': [-2, 2],'c_ne': [-1, 2], 'c_e': [-1, 1], 'c_se': [-1, 0],\n",
        "                       'c_s': [-2, 0], 'c_sw': [-3, 0], 'c_w': [-3, 1], 'c_nw': [-3, 2]\n",
        "                      }\n",
        "    # Convert lists to np.arrays\n",
        "    for key in word_to_vec_map.keys():\n",
        "        word_to_vec_map[key] = np.array(word_to_vec_map[key])\n",
        "\n",
        "    # Create a word_to_index dictionary\n",
        "    word_to_index = {}\n",
        "    for idx, val in enumerate(list(word_to_vec_map.keys())):\n",
        "        word_to_index[val] = idx;\n",
        "\n",
        "    np.random.seed(1)\n",
        "    embedding_layer = target(word_to_vec_map, word_to_index)\n",
        "\n",
        "    assert type(embedding_layer) == Embedding, \"Wrong type\"\n",
        "    assert embedding_layer.input_dim == len(list(word_to_vec_map.keys())) + 1, \"Wrong input shape\"\n",
        "    assert embedding_layer.output_dim == len(word_to_vec_map['a']), \"Wrong output shape\"\n",
        "    assert np.allclose(embedding_layer.get_weights(),\n",
        "                       [[[ 3, 3], [ 3, 3], [ 2, 4], [ 3, 2], [ 3, 4],\n",
        "                       [-2, 1], [-2, 2], [-1, 2], [-1, 1], [-1, 0],\n",
        "                       [-2, 0], [-3, 0], [-3, 1], [-3, 2], [ 0, 0]]]), \"Wrong vaulues\"\n",
        "    print(\"\\033[92mAll tests passed!\")\n",
        "\n",
        "\n",
        "pretrained_embedding_layer_test(pretrained_embedding_layer)"
      ],
      "metadata": {
        "colab": {
          "base_uri": "https://localhost:8080/"
        },
        "id": "9LODGEd3JQcH",
        "outputId": "08fe5bb7-7c21-436b-9162-1bf319ef8532"
      },
      "execution_count": 36,
      "outputs": [
        {
          "output_type": "stream",
          "name": "stdout",
          "text": [
            "\u001b[92mAll tests passed!\n"
          ]
        }
      ]
    },
    {
      "cell_type": "code",
      "source": [
        "embedding_layer = pretrained_embedding_layer(word_to_vec_map, word_to_index)\n",
        "print(\"weights[0][1][1] =\", embedding_layer.get_weights()[0][1][1])\n",
        "print(\"Input_dim\", embedding_layer.input_dim)\n",
        "print(\"Output_dim\",embedding_layer.output_dim)"
      ],
      "metadata": {
        "colab": {
          "base_uri": "https://localhost:8080/"
        },
        "id": "P1ivqN--JTI4",
        "outputId": "0b846382-5e33-47b4-e7a4-b06f54aff94e"
      },
      "execution_count": 37,
      "outputs": [
        {
          "output_type": "stream",
          "name": "stdout",
          "text": [
            "weights[0][1][1] = 0.39031\n",
            "Input_dim 400001\n",
            "Output_dim 50\n"
          ]
        }
      ]
    },
    {
      "cell_type": "markdown",
      "source": [
        "### 3.4 - Building the Emojifier - V2\n",
        "\n",
        "Now we're ready to build the Emojifier - V2 model, in which we feed the embedding layer's ouput to a LSTM network!\n",
        "\n",
        "<img src=\"https://github.com/rvraghvender/DeepLearningProjects/blob/main/NaturalLanguageProcessing/WordVector/Emojify/images/emojifier-v2.png?raw=true\" style=\"width:700px;height:400px;\"> <br>\n",
        "<caption><center><font color='purple'><b>Figure 3</b>: Emojifier-v2. A 2-layer LSTM sequence classifier. </center></caption></font>\n",
        "\n",
        "\n",
        "**TODO 5 - Emojify - V2**\n",
        "Implement `Emojify_V2()`\n",
        "\n",
        "This function builds a Keras graph of the architecture shown in Figure (3).\n",
        "- The model takes an input an array of sentences of shape (`m`, `max_len`), defined by `input_shape`.\n",
        "- The model outputs a softmax probability vector of shape (`m`, `C=5`).\n",
        "-"
      ],
      "metadata": {
        "id": "F-jLEl2m1Tw9"
      }
    },
    {
      "cell_type": "code",
      "source": [
        "def Emojify_V2(input_shape, word_to_vec_map, word_to_index):\n",
        "    \"\"\"\n",
        "    Function creating the Emojify-v2 model's graph.\n",
        "\n",
        "    Arguments:\n",
        "    input_shape -- shape of the input, usually (max_len,)\n",
        "    word_to_vec_map -- dictionary mapping every word in a vocabulary into its 50-dimensional vector representation\n",
        "    word_to_index -- dictionary mapping from words to their indices in the vocabulary (400,001 words)\n",
        "\n",
        "    Returns:\n",
        "    model -- a model instance in Keras\n",
        "    \"\"\"\n",
        "\n",
        "    # Define sentence_indices as the input of the graph.\n",
        "    # It should be of shape input_shape and dtype 'int32' (as it contains indices, which are integers).\n",
        "    sentence_indices = Input(shape=input_shape,dtype='int32')\n",
        "\n",
        "    # Create the embedding layer pretrained with GloVe Vectors (≈1 line)\n",
        "    embedding_layer = pretrained_embedding_layer(word_to_vec_map, word_to_index)\n",
        "\n",
        "    # Propagate sentence_indices through your embedding layer\n",
        "    # (See additional hints in the instructions).\n",
        "    embeddings = embedding_layer(sentence_indices)\n",
        "\n",
        "    # Propagate the embeddings through an LSTM layer with 128-dimensional hidden state\n",
        "    # The returned output should be a batch of sequences, So, set return_sequences = True\n",
        "    # If return_sequences = False, the LSTM returns only tht last output in output sequence\n",
        "    X = LSTM(units=128,return_sequences = True)(embeddings)\n",
        "    # Add dropout with a probability of 0.5\n",
        "    X = Dropout(0.5)(X)\n",
        "    # Propagate X trough another LSTM layer with 128-dimensional hidden state\n",
        "    # The returned output should be a single hidden state, not a batch of sequences.\n",
        "    X = LSTM(units=128,return_sequences = False)(X)\n",
        "    # Add dropout with a probability of 0.5\n",
        "    X = Dropout(0.5)(X)\n",
        "    # Propagate X through a Dense layer with 5 units\n",
        "    X = Dense(5)(X)\n",
        "    # Add a softmax activation\n",
        "    X = Activation('softmax')(X)\n",
        "\n",
        "    # Create Model instance which converts sentence_indices into X.\n",
        "    model = Model(inputs=sentence_indices,outputs=X)\n",
        "\n",
        "    return model"
      ],
      "metadata": {
        "id": "QVacqt8iJU63"
      },
      "execution_count": 38,
      "outputs": []
    },
    {
      "cell_type": "markdown",
      "source": [
        "#### <font color='red'> Test `Emojify_V2`  function </font> ####"
      ],
      "metadata": {
        "id": "v3xc4PQ59kxq"
      }
    },
    {
      "cell_type": "code",
      "source": [
        "def Emojify_V2_test(target):\n",
        "    # Create a controlled word to vec map\n",
        "    word_to_vec_map = {'a': [3, 3], 'synonym_of_a': [3, 3], 'a_nw': [2, 4], 'a_s': [3, 2], 'a_n': [3, 4],\n",
        "                       'c': [-2, 1], 'c_n': [-2, 2],'c_ne': [-1, 2], 'c_e': [-1, 1], 'c_se': [-1, 0],\n",
        "                       'c_s': [-2, 0], 'c_sw': [-3, 0], 'c_w': [-3, 1], 'c_nw': [-3, 2]\n",
        "                      }\n",
        "    # Convert lists to np.arrays\n",
        "    for key in word_to_vec_map.keys():\n",
        "        word_to_vec_map[key] = np.array(word_to_vec_map[key])\n",
        "\n",
        "    # Create a word_to_index dictionary\n",
        "    word_to_index = {}\n",
        "    for idx, val in enumerate(list(word_to_vec_map.keys())):\n",
        "        word_to_index[val] = idx;\n",
        "\n",
        "    maxLen = 4\n",
        "    model = target((maxLen,), word_to_vec_map, word_to_index)\n",
        "\n",
        "    expectedModel = [['InputLayer', [(None, 4)], 0], ['Embedding', (None, 4, 2), 30], ['LSTM', (None, 4, 128), 67072, (None, 4, 2), 'tanh', True], ['Dropout', (None, 4, 128), 0, 0.5], ['LSTM', (None, 128), 131584, (None, 4, 128), 'tanh', False], ['Dropout', (None, 128), 0, 0.5], ['Dense', (None, 5), 645, 'linear'], ['Activation', (None, 5), 0]]\n",
        "    comparator(summary(model), expectedModel)\n",
        "\n",
        "\n",
        "Emojify_V2_test(Emojify_V2)"
      ],
      "metadata": {
        "colab": {
          "base_uri": "https://localhost:8080/"
        },
        "id": "p9sUHPpOJZKH",
        "outputId": "b70f5fbd-5721-4ae9-ede6-d18d230675f5"
      },
      "execution_count": 45,
      "outputs": [
        {
          "output_type": "stream",
          "name": "stdout",
          "text": [
            "All tests passed!\n"
          ]
        }
      ]
    },
    {
      "cell_type": "markdown",
      "source": [
        "Run the following cell to create our model and check its summary.\n",
        "\n",
        "* Because all sentences in the dataset are less than 10 words, `max_len = 10` was chosen.  \n",
        "* We should see that your architecture uses 20,223,927 parameters, of which 20,000,050 (the word embeddings) are non-trainable, with the remaining 223,877 being trainable.\n",
        "* Because your vocabulary size has 400,001 words (with valid indices from 0 to 400,000) there are 400,001\\*50 = 20,000,050 non-trainable parameters."
      ],
      "metadata": {
        "id": "rcZ7Pqwi90m_"
      }
    },
    {
      "cell_type": "code",
      "source": [
        "model = Emojify_V2((maxLen,), word_to_vec_map, word_to_index)\n",
        "model.summary()"
      ],
      "metadata": {
        "colab": {
          "base_uri": "https://localhost:8080/"
        },
        "id": "nXic_CdpJa63",
        "outputId": "bc66637e-a8cc-41aa-a3f2-280253bd13a1"
      },
      "execution_count": 46,
      "outputs": [
        {
          "output_type": "stream",
          "name": "stdout",
          "text": [
            "Model: \"model_4\"\n",
            "_________________________________________________________________\n",
            " Layer (type)                Output Shape              Param #   \n",
            "=================================================================\n",
            " input_5 (InputLayer)        [(None, 10)]              0         \n",
            "                                                                 \n",
            " embedding_6 (Embedding)     (None, 10, 50)            20000050  \n",
            "                                                                 \n",
            " lstm_8 (LSTM)               (None, 10, 128)           91648     \n",
            "                                                                 \n",
            " dropout_8 (Dropout)         (None, 10, 128)           0         \n",
            "                                                                 \n",
            " lstm_9 (LSTM)               (None, 128)               131584    \n",
            "                                                                 \n",
            " dropout_9 (Dropout)         (None, 128)               0         \n",
            "                                                                 \n",
            " dense_4 (Dense)             (None, 5)                 645       \n",
            "                                                                 \n",
            " activation_4 (Activation)   (None, 5)                 0         \n",
            "                                                                 \n",
            "=================================================================\n",
            "Total params: 20223927 (77.15 MB)\n",
            "Trainable params: 223877 (874.52 KB)\n",
            "Non-trainable params: 20000050 (76.29 MB)\n",
            "_________________________________________________________________\n"
          ]
        }
      ]
    },
    {
      "cell_type": "markdown",
      "source": [
        "#### Compile the Model\n",
        "\n",
        "As usual, after creating our model in Keras, we need to compile it and define what loss, optimizer and metrics we want to use. Compile your model using `categorical_crossentropy` loss, `adam` optimizer and `['accuracy']` metrics:"
      ],
      "metadata": {
        "id": "r1lQbB4f-C4o"
      }
    },
    {
      "cell_type": "markdown",
      "source": [],
      "metadata": {
        "id": "T5fShIlD-muU"
      }
    },
    {
      "cell_type": "code",
      "source": [
        "model.compile(loss='categorical_crossentropy', optimizer='adam', metrics=['accuracy'])"
      ],
      "metadata": {
        "id": "OuR7RH_fJdMY"
      },
      "execution_count": 47,
      "outputs": []
    },
    {
      "cell_type": "markdown",
      "source": [
        "#### 3.5 - Train the Model\n",
        "\n",
        "It's time to train our model! Our Emojifier - V2 `model` takes as input an array of shape (`m`, `max_len`) and outputs probability vectors of shape (`m`, `number of shape`). Thus, we have to convert X_train (array of sentences as strings) to X_train_indcies (array of sentences as list of words indices), and Y_train (label as one-hot vectors)."
      ],
      "metadata": {
        "id": "RXA1zd-P_nPP"
      }
    },
    {
      "cell_type": "code",
      "source": [
        "X_train_indices = sentences_to_indices(X_train, word_to_index, maxLen)\n",
        "Y_train_oh = convert_to_one_hot(Y_train, C = 5)"
      ],
      "metadata": {
        "id": "gtvU2VqXJfJY"
      },
      "execution_count": 48,
      "outputs": []
    },
    {
      "cell_type": "markdown",
      "source": [
        "Fit the Keras model on `X_train_indices` and `Y_train_oh`, using `epochs = 50` and `batch_size = 32`."
      ],
      "metadata": {
        "id": "UxoiIg8b_r0O"
      }
    },
    {
      "cell_type": "code",
      "source": [
        "model.fit(X_train_indices, Y_train_oh, epochs = 50, batch_size = 32, shuffle=True)"
      ],
      "metadata": {
        "colab": {
          "base_uri": "https://localhost:8080/"
        },
        "id": "FEw4KMnyJgt5",
        "outputId": "64f949f9-db81-490b-dc6c-17bd098baeb0"
      },
      "execution_count": 49,
      "outputs": [
        {
          "output_type": "stream",
          "name": "stdout",
          "text": [
            "Epoch 1/50\n",
            "5/5 [==============================] - 5s 36ms/step - loss: 1.6000 - accuracy: 0.2727\n",
            "Epoch 2/50\n",
            "5/5 [==============================] - 0s 33ms/step - loss: 1.5295 - accuracy: 0.2803\n",
            "Epoch 3/50\n",
            "5/5 [==============================] - 0s 33ms/step - loss: 1.4539 - accuracy: 0.4318\n",
            "Epoch 4/50\n",
            "5/5 [==============================] - 0s 35ms/step - loss: 1.3928 - accuracy: 0.4242\n",
            "Epoch 5/50\n",
            "5/5 [==============================] - 0s 31ms/step - loss: 1.2836 - accuracy: 0.4470\n",
            "Epoch 6/50\n",
            "5/5 [==============================] - 0s 37ms/step - loss: 1.1884 - accuracy: 0.5227\n",
            "Epoch 7/50\n",
            "5/5 [==============================] - 0s 38ms/step - loss: 1.0449 - accuracy: 0.6515\n",
            "Epoch 8/50\n",
            "5/5 [==============================] - 0s 36ms/step - loss: 0.9460 - accuracy: 0.7045\n",
            "Epoch 9/50\n",
            "5/5 [==============================] - 0s 38ms/step - loss: 0.7624 - accuracy: 0.7121\n",
            "Epoch 10/50\n",
            "5/5 [==============================] - 0s 40ms/step - loss: 0.6732 - accuracy: 0.7424\n",
            "Epoch 11/50\n",
            "5/5 [==============================] - 0s 36ms/step - loss: 0.6173 - accuracy: 0.7803\n",
            "Epoch 12/50\n",
            "5/5 [==============================] - 0s 41ms/step - loss: 0.4795 - accuracy: 0.8333\n",
            "Epoch 13/50\n",
            "5/5 [==============================] - 0s 37ms/step - loss: 0.8096 - accuracy: 0.7424\n",
            "Epoch 14/50\n",
            "5/5 [==============================] - 0s 38ms/step - loss: 0.5242 - accuracy: 0.7879\n",
            "Epoch 15/50\n",
            "5/5 [==============================] - 0s 41ms/step - loss: 0.4093 - accuracy: 0.8712\n",
            "Epoch 16/50\n",
            "5/5 [==============================] - 0s 38ms/step - loss: 0.4242 - accuracy: 0.8409\n",
            "Epoch 17/50\n",
            "5/5 [==============================] - 0s 38ms/step - loss: 0.3539 - accuracy: 0.8788\n",
            "Epoch 18/50\n",
            "5/5 [==============================] - 0s 36ms/step - loss: 0.2896 - accuracy: 0.9015\n",
            "Epoch 19/50\n",
            "5/5 [==============================] - 0s 38ms/step - loss: 0.2679 - accuracy: 0.9242\n",
            "Epoch 20/50\n",
            "5/5 [==============================] - 0s 37ms/step - loss: 0.2198 - accuracy: 0.9091\n",
            "Epoch 21/50\n",
            "5/5 [==============================] - 0s 35ms/step - loss: 0.5627 - accuracy: 0.8106\n",
            "Epoch 22/50\n",
            "5/5 [==============================] - 0s 31ms/step - loss: 0.2831 - accuracy: 0.8864\n",
            "Epoch 23/50\n",
            "5/5 [==============================] - 0s 33ms/step - loss: 0.6928 - accuracy: 0.7424\n",
            "Epoch 24/50\n",
            "5/5 [==============================] - 0s 35ms/step - loss: 0.5581 - accuracy: 0.7803\n",
            "Epoch 25/50\n",
            "5/5 [==============================] - 0s 36ms/step - loss: 0.3158 - accuracy: 0.8788\n",
            "Epoch 26/50\n",
            "5/5 [==============================] - 0s 47ms/step - loss: 0.3250 - accuracy: 0.8864\n",
            "Epoch 27/50\n",
            "5/5 [==============================] - 0s 71ms/step - loss: 0.2161 - accuracy: 0.9470\n",
            "Epoch 28/50\n",
            "5/5 [==============================] - 0s 77ms/step - loss: 0.1956 - accuracy: 0.9545\n",
            "Epoch 29/50\n",
            "5/5 [==============================] - 0s 63ms/step - loss: 0.1812 - accuracy: 0.9394\n",
            "Epoch 30/50\n",
            "5/5 [==============================] - 0s 62ms/step - loss: 0.1548 - accuracy: 0.9545\n",
            "Epoch 31/50\n",
            "5/5 [==============================] - 0s 64ms/step - loss: 0.2398 - accuracy: 0.9167\n",
            "Epoch 32/50\n",
            "5/5 [==============================] - 0s 38ms/step - loss: 0.1378 - accuracy: 0.9470\n",
            "Epoch 33/50\n",
            "5/5 [==============================] - 0s 30ms/step - loss: 0.1120 - accuracy: 0.9697\n",
            "Epoch 34/50\n",
            "5/5 [==============================] - 0s 34ms/step - loss: 0.0897 - accuracy: 0.9848\n",
            "Epoch 35/50\n",
            "5/5 [==============================] - 0s 35ms/step - loss: 0.0878 - accuracy: 0.9848\n",
            "Epoch 36/50\n",
            "5/5 [==============================] - 0s 33ms/step - loss: 0.0587 - accuracy: 0.9924\n",
            "Epoch 37/50\n",
            "5/5 [==============================] - 0s 35ms/step - loss: 0.0626 - accuracy: 0.9848\n",
            "Epoch 38/50\n",
            "5/5 [==============================] - 0s 33ms/step - loss: 0.0351 - accuracy: 1.0000\n",
            "Epoch 39/50\n",
            "5/5 [==============================] - 0s 37ms/step - loss: 0.0441 - accuracy: 0.9773\n",
            "Epoch 40/50\n",
            "5/5 [==============================] - 0s 37ms/step - loss: 0.0268 - accuracy: 1.0000\n",
            "Epoch 41/50\n",
            "5/5 [==============================] - 0s 35ms/step - loss: 0.0449 - accuracy: 0.9924\n",
            "Epoch 42/50\n",
            "5/5 [==============================] - 0s 35ms/step - loss: 0.0235 - accuracy: 0.9924\n",
            "Epoch 43/50\n",
            "5/5 [==============================] - 0s 40ms/step - loss: 0.0583 - accuracy: 0.9773\n",
            "Epoch 44/50\n",
            "5/5 [==============================] - 0s 34ms/step - loss: 0.1192 - accuracy: 0.9697\n",
            "Epoch 45/50\n",
            "5/5 [==============================] - 0s 35ms/step - loss: 0.1343 - accuracy: 0.9470\n",
            "Epoch 46/50\n",
            "5/5 [==============================] - 0s 33ms/step - loss: 0.2246 - accuracy: 0.9318\n",
            "Epoch 47/50\n",
            "5/5 [==============================] - 0s 35ms/step - loss: 0.0786 - accuracy: 0.9697\n",
            "Epoch 48/50\n",
            "5/5 [==============================] - 0s 36ms/step - loss: 0.1900 - accuracy: 0.9470\n",
            "Epoch 49/50\n",
            "5/5 [==============================] - 0s 34ms/step - loss: 0.0871 - accuracy: 0.9773\n",
            "Epoch 50/50\n",
            "5/5 [==============================] - 0s 37ms/step - loss: 0.0973 - accuracy: 0.9621\n"
          ]
        },
        {
          "output_type": "execute_result",
          "data": {
            "text/plain": [
              "<keras.src.callbacks.History at 0x7d8d84d98fd0>"
            ]
          },
          "metadata": {},
          "execution_count": 49
        }
      ]
    },
    {
      "cell_type": "markdown",
      "source": [
        "Our model should perform around **90% to 100% accuracy** on the training set."
      ],
      "metadata": {
        "id": "WaQz0nthACqi"
      }
    },
    {
      "cell_type": "code",
      "source": [
        "X_test_indices = sentences_to_indices(X_test, word_to_index, max_len = maxLen)\n",
        "Y_test_oh = convert_to_one_hot(Y_test, C = 5)\n",
        "loss, acc = model.evaluate(X_test_indices, Y_test_oh)\n",
        "print()\n",
        "print(\"Test accuracy = \", acc)"
      ],
      "metadata": {
        "colab": {
          "base_uri": "https://localhost:8080/"
        },
        "id": "smuCo_DrJi2o",
        "outputId": "ebcec60d-5c6a-4db6-ec7b-1139c6fa7045"
      },
      "execution_count": 50,
      "outputs": [
        {
          "output_type": "stream",
          "name": "stdout",
          "text": [
            "2/2 [==============================] - 1s 19ms/step - loss: 0.4464 - accuracy: 0.8571\n",
            "\n",
            "Test accuracy =  0.8571428656578064\n"
          ]
        }
      ]
    },
    {
      "cell_type": "code",
      "source": [
        "C = 5\n",
        "y_test_oh = np.eye(C)[Y_test.reshape(-1)]\n",
        "X_test_indices = sentences_to_indices(X_test, word_to_index, maxLen)\n",
        "pred = model.predict(X_test_indices)\n",
        "for i in range(len(X_test)):\n",
        "    x = X_test_indices\n",
        "    num = np.argmax(pred[i])\n",
        "    if(num != Y_test[i]):\n",
        "        print('Expected emoji:'+ label_to_emoji(Y_test[i]) + ' prediction: '+ X_test[i] + label_to_emoji(num).strip())"
      ],
      "metadata": {
        "colab": {
          "base_uri": "https://localhost:8080/"
        },
        "id": "-8VKgjYLJk94",
        "outputId": "92fb7613-de37-4148-a342-7035c3b262cc"
      },
      "execution_count": 51,
      "outputs": [
        {
          "output_type": "stream",
          "name": "stdout",
          "text": [
            "2/2 [==============================] - 1s 11ms/step\n",
            "Expected emoji:😄 prediction: he got a very nice raise\t❤️\n",
            "Expected emoji:😄 prediction: she got me a nice present\t❤️\n",
            "Expected emoji:😞 prediction: work is hard\t😄\n",
            "Expected emoji:😞 prediction: This girl is messing with me\t❤️\n",
            "Expected emoji:😞 prediction: work is horrible\t😄\n",
            "Expected emoji:❤️ prediction: I love taking breaks\t😞\n",
            "Expected emoji:😄 prediction: you brighten my day\t❤️\n",
            "Expected emoji:😞 prediction: go away\t⚾\n"
          ]
        }
      ]
    },
    {
      "cell_type": "code",
      "source": [
        "# Change the sentence below to see your prediction. Make sure all the words are in the Glove embeddings.\n",
        "x_test = np.array(['I cannot play'])\n",
        "X_test_indices = sentences_to_indices(x_test, word_to_index, maxLen)\n",
        "print(x_test[0] +' '+  label_to_emoji(np.argmax(model.predict(X_test_indices))))"
      ],
      "metadata": {
        "colab": {
          "base_uri": "https://localhost:8080/"
        },
        "id": "hu5Sd_hcJmsX",
        "outputId": "f8c40242-56d9-4309-8de0-3c55db53b856"
      },
      "execution_count": 52,
      "outputs": [
        {
          "output_type": "stream",
          "name": "stdout",
          "text": [
            "1/1 [==============================] - 0s 28ms/step\n",
            "I cannot play 😞\n"
          ]
        }
      ]
    },
    {
      "cell_type": "code",
      "source": [],
      "metadata": {
        "id": "6O4hp-25JoVo"
      },
      "execution_count": null,
      "outputs": []
    }
  ]
}