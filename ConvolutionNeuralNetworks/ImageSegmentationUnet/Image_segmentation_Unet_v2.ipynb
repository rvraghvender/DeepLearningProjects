{
  "nbformat": 4,
  "nbformat_minor": 0,
  "metadata": {
    "colab": {
      "provenance": [],
      "authorship_tag": "ABX9TyOZbUt2EPM4eJE6Zh8PyiYX",
      "include_colab_link": true
    },
    "kernelspec": {
      "name": "python3",
      "display_name": "Python 3"
    },
    "language_info": {
      "name": "python"
    }
  },
  "cells": [
    {
      "cell_type": "markdown",
      "metadata": {
        "id": "view-in-github",
        "colab_type": "text"
      },
      "source": [
        "<a href=\"https://colab.research.google.com/github/rvraghvender/DeepLearningProjects/blob/main/ConvolutionNeuralNetworks/ImageSegmentationUnet/Image_segmentation_Unet_v2.ipynb\" target=\"_parent\"><img src=\"https://colab.research.google.com/assets/colab-badge.svg\" alt=\"Open In Colab\"/></a>"
      ]
    },
    {
      "cell_type": "markdown",
      "source": [
        "# Image Segmentation with U-Net\n",
        "\n",
        "In this notebook, we will be building U-Net, a type of CNN designed for quick, precise image segmentation, and using it to predict a label for every single pixel in an image - in this case, an image from a self-driving car dataset.\n",
        "\n",
        "This type of image classification is called semantic image segmentation. It's similar to object detection as in both the cases one ask the question: \"What objects are in this image and where in this image are those objects located?\", but where object detection labels objects with bounding boxes that may include pixels that aren't part of the object, semantic image segmentation allows us to predict a precise mask for each object in the image by labelling each pixel in the image with its corresponding class. The word \"semantic\" here refers to what's being shown, so for example the \"Car\" class is indicated below by the dark blue mask, and \"Person\" is indicated with a red mask:"
      ],
      "metadata": {
        "id": "7AXXrOEa_kD6"
      }
    },
    {
      "cell_type": "code",
      "execution_count": null,
      "metadata": {
        "id": "MlkpxSBv_Zru"
      },
      "outputs": [],
      "source": []
    }
  ]
}