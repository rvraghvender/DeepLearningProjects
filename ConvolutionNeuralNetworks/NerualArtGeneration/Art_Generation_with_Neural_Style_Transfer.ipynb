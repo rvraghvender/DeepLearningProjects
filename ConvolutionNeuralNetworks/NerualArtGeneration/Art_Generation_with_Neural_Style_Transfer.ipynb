{
  "nbformat": 4,
  "nbformat_minor": 0,
  "metadata": {
    "colab": {
      "provenance": [],
      "authorship_tag": "ABX9TyOx9wugNxz4s278TlCFqgjN",
      "include_colab_link": true
    },
    "kernelspec": {
      "name": "python3",
      "display_name": "Python 3"
    },
    "language_info": {
      "name": "python"
    }
  },
  "cells": [
    {
      "cell_type": "markdown",
      "metadata": {
        "id": "view-in-github",
        "colab_type": "text"
      },
      "source": [
        "<a href=\"https://colab.research.google.com/github/rvraghvender/DeepLearningProjects/blob/main/ConvolutionNeuralNetworks/NerualArtGeneration/Art_Generation_with_Neural_Style_Transfer.ipynb\" target=\"_parent\"><img src=\"https://colab.research.google.com/assets/colab-badge.svg\" alt=\"Open In Colab\"/></a>"
      ]
    },
    {
      "cell_type": "markdown",
      "source": [
        "# Deep Learning & Art: Neural Style Transfer"
      ],
      "metadata": {
        "id": "_pG60XP-3Kfv"
      }
    },
    {
      "cell_type": "markdown",
      "source": [
        "## 1. Packages\n"
      ],
      "metadata": {
        "id": "kIASA3Hk3SQd"
      }
    },
    {
      "cell_type": "code",
      "execution_count": 3,
      "metadata": {
        "id": "00DcHlM03BfY"
      },
      "outputs": [],
      "source": [
        "# Importing relevant packages\n",
        "import os\n",
        "import sys\n",
        "import scipy.io\n",
        "import scipy.misc\n",
        "import matplotlib.pyplot as plt\n",
        "import matplotlib.pyplot as imshow\n",
        "from PIL import Image\n",
        "import numpy as np\n",
        "import tensorflow as tf\n",
        "from tensorflow.python.framework.ops import EagerTensor\n",
        "import pprint\n",
        "%matplotlib inline"
      ]
    },
    {
      "cell_type": "markdown",
      "source": [
        "# 2. Problem Statement\n",
        "\n",
        "Nerual Style Transfer (NST) is one of the most fun and interesting optimzation techniques in deep learing. It merges two images, namely a **\"content\" image (C)** and **\"style\" image (S)**, to create a **\"generated\" image (G) **. The generated image G combines the \"content\" of the image C with the \"style\" of image S.\n",
        "\n",
        "In this assignment, we are going to cobine the Louvre museum in Paris (content image, C) with the impressionist style of Claude Monet (content image S) to generate the following image:\n"
      ],
      "metadata": {
        "id": "A0a2llkT33jz"
      }
    },
    {
      "cell_type": "code",
      "source": [],
      "metadata": {
        "id": "5xftvsT23uKZ"
      },
      "execution_count": null,
      "outputs": []
    }
  ]
}