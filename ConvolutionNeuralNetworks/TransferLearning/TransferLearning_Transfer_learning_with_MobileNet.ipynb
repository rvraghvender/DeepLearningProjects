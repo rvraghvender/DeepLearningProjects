{
  "nbformat": 4,
  "nbformat_minor": 0,
  "metadata": {
    "colab": {
      "provenance": [],
      "authorship_tag": "ABX9TyPU8ErE9bMdn24YU6JIUzVP",
      "include_colab_link": true
    },
    "kernelspec": {
      "name": "python3",
      "display_name": "Python 3"
    },
    "language_info": {
      "name": "python"
    }
  },
  "cells": [
    {
      "cell_type": "markdown",
      "metadata": {
        "id": "view-in-github",
        "colab_type": "text"
      },
      "source": [
        "<a href=\"https://colab.research.google.com/github/rvraghvender/DeepLearningProjects/blob/main/ConvolutionNeuralNetworks/TransferLearning/TransferLearning_Transfer_learning_with_MobileNet.ipynb\" target=\"_parent\"><img src=\"https://colab.research.google.com/assets/colab-badge.svg\" alt=\"Open In Colab\"/></a>"
      ]
    },
    {
      "cell_type": "markdown",
      "source": [
        "# Transfer Learning with MobileNetV2"
      ],
      "metadata": {
        "id": "NQgegTEZZXbY"
      }
    },
    {
      "cell_type": "markdown",
      "source": [
        "In this project, transfer learning will be used on a pre-trained CNN to build an Alpaca/Not Alpaca classifier.\n",
        "\n",
        "<img src=\"https://github.com/rvraghvender/DeepLearningProjects/blob/main/ConvolutionNeuralNetworks/TransferLearning/images/alpaca.png?raw=true\" style=\"width:300px;height:220px;\">\n",
        "\n",
        "A pre-trained model is a network that's already been trained on a large dataset and saved, which allows us to use it to customize our own model cheaply and efficiently. MobileNetV2, was designed to provide fast and computationally efficient performance. The model is pre-trained on ImageNet, a dataset containing over 14 million images and 1000 classes."
      ],
      "metadata": {
        "id": "Ph5HldgnZfIn"
      }
    },
    {
      "cell_type": "code",
      "source": [],
      "metadata": {
        "id": "r6I7uV7VZcPl"
      },
      "execution_count": null,
      "outputs": []
    }
  ]
}