{
  "nbformat": 4,
  "nbformat_minor": 0,
  "metadata": {
    "colab": {
      "provenance": [],
      "authorship_tag": "ABX9TyMt2AncR0UrcK3a+fXpq4qJ",
      "include_colab_link": true
    },
    "kernelspec": {
      "name": "python3",
      "display_name": "Python 3"
    },
    "language_info": {
      "name": "python"
    }
  },
  "cells": [
    {
      "cell_type": "markdown",
      "metadata": {
        "id": "view-in-github",
        "colab_type": "text"
      },
      "source": [
        "<a href=\"https://colab.research.google.com/github/rvraghvender/DeepLearningProjects/blob/main/ConvolutionNeuralNetworks/ResidualNetworks/Residual_Networks.ipynb\" target=\"_parent\"><img src=\"https://colab.research.google.com/assets/colab-badge.svg\" alt=\"Open In Colab\"/></a>"
      ]
    },
    {
      "cell_type": "markdown",
      "source": [
        "# Residual Networks\n",
        "\n",
        "Here in this project, we have to build a very deep convolution network, using Residual Networks (ResNets). In theory, very deep neural network can represent very complex functions; but in practice, they are hard to train. ResNets introduced by [He et al.](https://arxiv.org/pdf/1512.03385.pdf), allow you to train much deeper networks than were previously feasible.\n",
        "\n",
        "In this project, we will be\n",
        "-    Implement the basic blocks of ResNets in a deep neural network using Keras\n",
        "-    Put together these building blocks to implement and train a state-of-the-art neural network for image classification\n",
        "-    Implement a skip connection in our network"
      ],
      "metadata": {
        "id": "sAiZWjKlA1fP"
      }
    },
    {
      "cell_type": "code",
      "execution_count": 2,
      "metadata": {
        "id": "gFb6A0JfA0Om"
      },
      "outputs": [],
      "source": [
        "# Importing Relevant packages\n",
        "import tensorflow as tf\n",
        "import  numpy as np\n",
        "import scipy.misc\n",
        "from tensorflow.keras.applications.resnet_v2 import ResNet50V2\n",
        "from tensorflow.keras.preprocessing import image\n",
        "from tensorflow.keras.applications.resnet_v2 import preprocess_input, decode_predictions\n",
        "from tensorflow.keras import layers\n",
        "from tensorflow.keras.layers import Input, Add, Dense, Activation, ZeroPadding2D, BatchNormalization, Flatten, Conv2D, AveragePooling2D, MaxPooling2D, GlobalMaxPool2D\n",
        "from tensorflow.keras.models import Model, load_model\n",
        "from resnets_utils import *\n",
        "from tensorflow.keras.initializers import random_uniform, glorot_uniform, constant, identity\n",
        "from tensorflow.python.framework.ops import EagerTensor\n",
        "from matplotlib.pyplot import imshow\n",
        "\n",
        "from test_utils import summary, comparator\n",
        "import public_tests\n",
        "\n",
        "%matplotlib inline"
      ]
    },
    {
      "cell_type": "markdown",
      "source": [
        "## The problem of Very Deep Neural Networks\n",
        "\n",
        "In recent years, neural networks have become much deeper, with the state-of-the-art networks evolving from having just few layers (e.g. AlexNet) to over a hundred layers.\n",
        "\n",
        "-    The main benefit of a very deep network is that it can represent very complex functions. It can also learn features at many different levels of abstraction, from edges (at the shallow layers, cloer to the input) to very complex features (at the deeper layers, closer to the output).\n",
        "\n",
        "-   However, using a deeper neural network doesn't always help. A huge barrier to train them is vanishing gradients: very deep neural networks often have a gradient signal that goes to zero quickly, thus making gradient descent prohibitively slow.\n",
        "\n",
        "-   More specifically, during gradient descent, as we backpropagate from the final layer back to the first layer, we are multiplying by the weight matri on each step, and thus the gradient can descrease exponentially quickly to zero (or, in rare cases, grow exponentially quickly and \"explode\" from gaining very large values).\n",
        "\n",
        "-    During training, we might therefore see the magnitude (or norm) of the gradient for the shallower layer decrease to zero very rapidly as training proceeds.\n"
      ],
      "metadata": {
        "id": "DCSfhvvaGErr"
      }
    },
    {
      "cell_type": "markdown",
      "source": [
        "\n",
        "<img src=\"vanishing_grad_kiank.png\" style=\"width:450px;height:220px;\">\n",
        "<caption><center> <u> <font color='purple'> <b>Figure 1</b> </u><font color='purple'>  : <b>Vanishing gradient</b> <br> The speed of learning decreases very rapidly for the shallower layers as the network trains </center></caption>\n",
        "\n",
        "Not to worry! We can solve this problem by building a Residual Network!\n"
      ],
      "metadata": {
        "id": "oJEJ3_zQLW48"
      }
    },
    {
      "cell_type": "markdown",
      "source": [
        "## Building a Residual Network\n",
        "In ResNets, a \"shortcut\" or a \"skip connection\" allows the model to skip layers:\n",
        "\n",
        "<img src=\"skip_connection_kiank.png\" style=\"width:650px;height:200px;\">\n",
        "<caption><center> <u> <font color='purple'> <b>Figure 2</b> </u><font color='purple'>  : A ResNet block showing a skip-connection <br> </center></caption>"
      ],
      "metadata": {
        "id": "pXAiObDbJzGN"
      }
    },
    {
      "cell_type": "code",
      "source": [],
      "metadata": {
        "id": "_O7t6cBVEUvi"
      },
      "execution_count": 2,
      "outputs": []
    }
  ]
}