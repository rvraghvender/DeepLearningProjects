{
  "nbformat": 4,
  "nbformat_minor": 0,
  "metadata": {
    "colab": {
      "provenance": [],
      "authorship_tag": "ABX9TyOaZnorNA4AQ83sjnKbrY4r",
      "include_colab_link": true
    },
    "kernelspec": {
      "name": "python3",
      "display_name": "Python 3"
    },
    "language_info": {
      "name": "python"
    }
  },
  "cells": [
    {
      "cell_type": "markdown",
      "metadata": {
        "id": "view-in-github",
        "colab_type": "text"
      },
      "source": [
        "<a href=\"https://colab.research.google.com/github/rvraghvender/DeepLearningProjects/blob/main/ConvolutionNeuralNetworks/ConvolutionNeuralNetworksApplication.ipynb\" target=\"_parent\"><img src=\"https://colab.research.google.com/assets/colab-badge.svg\" alt=\"Open In Colab\"/></a>"
      ]
    },
    {
      "cell_type": "markdown",
      "source": [
        "# 1.0 - TensorFlow model\n",
        "\n",
        "Utilize the programming frameworks to perform convolution neural networks operations."
      ],
      "metadata": {
        "id": "yNtYfMiPzZGg"
      }
    },
    {
      "cell_type": "code",
      "source": [
        "# import relevant packages\n",
        "import math\n",
        "import numpy as np\n",
        "import h5py\n",
        "import matplotlib.pyplot as plt\n",
        "import scipy\n",
        "from PIL import Image\n",
        "from scipy import ndimage\n",
        "import tensorflow as tf\n",
        "from tensorflow.python.framework import ops\n",
        "\n",
        "%matplotlib inline\n",
        "np.random.seed(1)"
      ],
      "metadata": {
        "id": "0EArZbOgz2EP"
      },
      "execution_count": 282,
      "outputs": []
    },
    {
      "cell_type": "code",
      "source": [
        "print(tf.__version__)"
      ],
      "metadata": {
        "id": "yrwjFVdLxQ9N",
        "outputId": "f203c8ff-4964-409d-ab18-1f1db76de21c",
        "colab": {
          "base_uri": "https://localhost:8080/"
        }
      },
      "execution_count": 283,
      "outputs": [
        {
          "output_type": "stream",
          "name": "stdout",
          "text": [
            "2.12.0\n"
          ]
        }
      ]
    },
    {
      "cell_type": "code",
      "source": [
        "def load_dataset():\n",
        "    train_dataset = h5py.File('train_signs.h5', \"r\")\n",
        "\n",
        "    # train set features\n",
        "    train_set_x_orig = np.array(train_dataset[\"train_set_x\"][:])\n",
        "    train_set_y_orig = np.array(train_dataset[\"train_set_y\"][:])  # train set labels\n",
        "\n",
        "    test_dataset = h5py.File('test_signs.h5', \"r\")\n",
        "    # test set features\n",
        "    test_set_x_orig = np.array(test_dataset[\"test_set_x\"][:])\n",
        "    test_set_y_orig = np.array(test_dataset[\"test_set_y\"][:])  # test set labels\n",
        "\n",
        "    classes = np.array(test_dataset[\"list_classes\"][:])  # the list of classes\n",
        "\n",
        "    train_set_y_orig = train_set_y_orig.reshape((1, train_set_y_orig.shape[0]))\n",
        "    test_set_y_orig = test_set_y_orig.reshape((1, test_set_y_orig.shape[0]))\n",
        "\n",
        "    return train_set_x_orig, train_set_y_orig, test_set_x_orig, test_set_y_orig, classes\n"
      ],
      "metadata": {
        "id": "OeDxoylD0MOJ"
      },
      "execution_count": 284,
      "outputs": []
    },
    {
      "cell_type": "code",
      "source": [
        "def convert_to_one_hot(Y, C):\n",
        "    Y = np.eye(C)[Y.reshape(-1)].T\n",
        "    return Y"
      ],
      "metadata": {
        "id": "nKFy1yCSSLmQ"
      },
      "execution_count": 285,
      "outputs": []
    },
    {
      "cell_type": "code",
      "source": [
        "def random_mini_batches(X, Y, mini_batch_size=64, seed=0):\n",
        "    \"\"\"\n",
        "    Creates a list of random minibatches from (X, Y)\n",
        "\n",
        "    Arguments:\n",
        "    X -- input data, of shape (input size, number of examples) (m, Hi, Wi, Ci)\n",
        "    Y -- true \"label\" vector (containing 0 if cat, 1 if non-cat), of shape (1, number of examples) (m, n_y)\n",
        "    mini_batch_size - size of the mini-batches, integer\n",
        "    seed -- this is only for the purpose of grading, so that you're \"random minibatches are the same as ours.\n",
        "\n",
        "    Returns:\n",
        "    mini_batches -- list of synchronous (mini_batch_X, mini_batch_Y)\n",
        "    \"\"\"\n",
        "\n",
        "    m = X.shape[0]                  # number of training examples\n",
        "    mini_batches = []\n",
        "    np.random.seed(seed)\n",
        "\n",
        "    # Step 1: Shuffle (X, Y)\n",
        "    permutation = list(np.random.permutation(m))\n",
        "    shuffled_X = X[permutation, :, :, :]\n",
        "    shuffled_Y = Y[permutation, :]\n",
        "\n",
        "    # Step 2: Partition (shuffled_X, shuffled_Y). Minus the end case.\n",
        "    # number of mini batches of size mini_batch_size in your partitionning\n",
        "    num_complete_minibatches = math.floor(m / mini_batch_size)\n",
        "    for k in range(0, num_complete_minibatches):\n",
        "        mini_batch_X = shuffled_X[k * mini_batch_size: k * mini_batch_size + mini_batch_size, :, :, :]\n",
        "        mini_batch_Y = shuffled_Y[k * mini_batch_size: k * mini_batch_size + mini_batch_size, :]\n",
        "        mini_batch = (mini_batch_X, mini_batch_Y)\n",
        "        mini_batches.append(mini_batch)\n",
        "\n",
        "    # Handling the end case (last mini-batch < mini_batch_size)\n",
        "    if m % mini_batch_size != 0:\n",
        "        mini_batch_X = shuffled_X[num_complete_minibatches * mini_batch_size: m, :, :, :]\n",
        "        mini_batch_Y = shuffled_Y[num_complete_minibatches * mini_batch_size: m, :]\n",
        "        mini_batch = (mini_batch_X, mini_batch_Y)\n",
        "        mini_batches.append(mini_batch)\n",
        "\n",
        "    return mini_batches"
      ],
      "metadata": {
        "id": "g1WLOSsMrhJz"
      },
      "execution_count": 286,
      "outputs": []
    },
    {
      "cell_type": "code",
      "source": [
        "# Loading the data (signs)\n",
        "X_train_orig, Y_train_orig, X_test_orig, Y_test_orig, classes = load_dataset()"
      ],
      "metadata": {
        "id": "t6gNA_jNPkZL"
      },
      "execution_count": 287,
      "outputs": []
    },
    {
      "cell_type": "code",
      "source": [
        "# Example of picture\n",
        "index = 124\n",
        "plt.imshow(X_train_orig[index])\n",
        "print(\"y = \" + str(np.squeeze(Y_train_orig[:, index])))"
      ],
      "metadata": {
        "id": "Qc2fAuSHPxa7",
        "outputId": "7eed91da-8149-49e5-df93-e55311e87ccb",
        "colab": {
          "base_uri": "https://localhost:8080/",
          "height": 449
        }
      },
      "execution_count": 296,
      "outputs": [
        {
          "output_type": "stream",
          "name": "stdout",
          "text": [
            "y = 0\n"
          ]
        },
        {
          "output_type": "display_data",
          "data": {
            "text/plain": [
              "<Figure size 640x480 with 1 Axes>"
            ],
            "image/png": "[encoded data removed]"
          },
          "metadata": {}
        }
      ]
    },
    {
      "cell_type": "code",
      "source": [
        "# Exploring the dataset\n",
        "\n",
        "# Normalizing the dataset\n",
        "X_train = X_train_orig/255.0\n",
        "X_test = X_test_orig/255.0\n",
        "\n",
        "# Converting Y labels to one-hot vectors\n",
        "Y_train = convert_to_one_hot(Y_train_orig, 6).T\n",
        "Y_test = convert_to_one_hot(Y_test_orig, 6).T\n",
        "\n",
        "print (\"number of training examples = \" + str(X_train.shape[0]))\n",
        "print (\"number of test examples = \" + str(X_test.shape[0]))\n",
        "print (\"X_train shape: \" + str(X_train.shape))\n",
        "print (\"Y_train shape: \" + str(Y_train.shape))\n",
        "print (\"X_test shape: \" + str(X_test.shape))\n",
        "print (\"Y_test shape: \" + str(Y_test.shape))\n"
      ],
      "metadata": {
        "id": "9qomUymjRoKJ",
        "outputId": "e6582c2d-18f7-411f-8eb0-67a21876f3aa",
        "colab": {
          "base_uri": "https://localhost:8080/"
        }
      },
      "execution_count": 289,
      "outputs": [
        {
          "output_type": "stream",
          "name": "stdout",
          "text": [
            "number of training examples = 1080\n",
            "number of test examples = 120\n",
            "X_train shape: (1080, 64, 64, 3)\n",
            "Y_train shape: (1080, 6)\n",
            "X_test shape: (120, 64, 64, 3)\n",
            "Y_test shape: (120, 6)\n"
          ]
        }
      ]
    },
    {
      "cell_type": "code",
      "source": [],
      "metadata": {
        "id": "sM22f_zV_0uj"
      },
      "execution_count": null,
      "outputs": []
    },
    {
      "cell_type": "markdown",
      "source": [
        "## Creating Placeholders for the TensorFlow framework\n",
        "\n",
        "Tensorflow framework requires to create placeholders for the input data that will be fed into the model when running the session."
      ],
      "metadata": {
        "id": "BhPdQzLpSnyF"
      }
    },
    {
      "cell_type": "code",
      "source": [
        "def create_placeholders(n_H0, n_W0, n_C0, n_y):\n",
        "    '''\n",
        "    Creates the placeholders for the tensorflow session.\n",
        "\n",
        "    Args:\n",
        "    n_H0 -- scalar, height of an input image\n",
        "    n_W0 -- scalar, width of an input image\n",
        "    n_C0 -- scalar, number of channels of the input\n",
        "    n_y -- scalar, number of classes\n",
        "\n",
        "    Returns:\n",
        "    X -- placeholder for the data input, of shape [None, n_H0, n_W0, n_C0] and dtype \"float\"\n",
        "    Y -- placeholder for the input labels, of shape [None, n_y] and dtype \"float\"\n",
        "    '''\n",
        "    tf.compat.v1.disable_eager_execution()\n",
        "\n",
        "\n",
        "    X = tf.compat.v1.placeholder(shape=[None, n_H0, n_W0, n_C0], dtype=\"float\", name=\"X\")\n",
        "    Y = tf.compat.v1.placeholder(shape=[None, n_y], dtype=\"float\", name=\"Y\")\n",
        "\n",
        "    return X, Y"
      ],
      "metadata": {
        "id": "I5tcsfS4ShZ8"
      },
      "execution_count": 290,
      "outputs": []
    },
    {
      "cell_type": "markdown",
      "source": [
        "## Initialize parameters\n",
        "Initialize the weights/filters $W1$ and $W2$ using ```tf.contrib.layer.xavier_initializer(seed = 0).```.\n",
        "Tensorflow automatically takes care of bias variable. Moreover, in the beginning we only to initialize the ```conv2d``` function as Tensorflow automatically initializes the fully connected layer."
      ],
      "metadata": {
        "id": "u57zCbKMUGcV"
      }
    },
    {
      "cell_type": "code",
      "source": [
        "def initialize_parameters():\n",
        "    '''\n",
        "    Initializes weight parameters to build a neural network with tensorflow:\n",
        "\n",
        "    The shapes are :\n",
        "                W1 : [4, 4, 3, 8]\n",
        "                W2 : [2, 2, 8, 16]\n",
        "\n",
        "    Returns:\n",
        "    parameters -- a dictionary of tensor containing W1, W2\n",
        "    '''\n",
        "    tf.random.set_seed(1)\n",
        "\n",
        "    # W1 = tf.Variable(\"W1\", [4, 4, 3, 8], initializer = tf.compat.v1.keras.initializers.glorot_normal(seed = 0))\n",
        "    # W2 = tf.Variable(\"W2\", [2, 2, 8, 16], initializer = tf.compat.v1.keras.initializers.glorot_normal(seed = 0))\n",
        "\n",
        "    # normal_var = tf.Variable(tf.glorot_uniform_initializer()((3, 3)))\n",
        "\n",
        "\n",
        "    W1 = tf.Variable(tf.compat.v1.keras.initializers.glorot_normal(seed = 0)((4, 4, 3, 8)))\n",
        "\n",
        "    W2 = tf.Variable(tf.compat.v1.keras.initializers.glorot_normal(seed = 0)((2, 2, 8, 16)))\n",
        "\n",
        "    parameters = {\n",
        "        \"W1\" : W1,\n",
        "        \"W2\" : W2\n",
        "                  }\n",
        "\n",
        "    return parameters\n"
      ],
      "metadata": {
        "id": "WZLED-FDT7vU"
      },
      "execution_count": 291,
      "outputs": []
    },
    {
      "cell_type": "markdown",
      "source": [
        "## Forward propagation\n",
        "\n",
        "In Tensorflow, thre are builit-in functions that implement the convolution steps.\n",
        "\n",
        "*   ```tf.nn.conv2d(X, W, strides = [1,s,s,1], padding = 'SAME')```: given an input X and a group of filters $W$, this functions convolves $W$'s filters on $X$. The third parameter ```[1,s,s,1]``` represents the strides for each dimension of the input (m, n_H_prev, n_W_prev, n_C_prev). Normally, a choice of stride 1 for the number of examples (the first value) and for the channels (the fourth values)\n",
        "\n",
        "*  ```tf.nn.max_pool(A, ksize=[1,f,f,1], strides=[1,s,s,1], padding = 'SAME')```: given an input A, this function uses a window of size (f, f) and strides of size (s, s) to carry out the max pooling over each window. For max pooling, we usually operate on a single example and a single channel at a time. So the first and the fourth value in ```[1, f, f, 1]``` are both 1.\n",
        "\n",
        "*  ```tf.nn.relu(Z)```: computes the elementwise ReLU of Z.\n",
        "\n",
        "*  ```tf.contrib.layers.flatten(P)```: given a tensor \"P\", this function takes each training (or test) example in the batch and flattens it into a 1D vector.\n",
        "\n",
        "    1. If a tensor P has the shape (m,h,w,c), where m is the number of examples (the batch size), it returns a flattened tensor with shape (batch_size, k), where $k=h \\times w \\times c$.  \"k\" equals the product of all the dimension sizes other than the first dimension.\n",
        "    2. For example, given a tensor with dimensions [100,2,3,4], it flattens the tensor to be of shape [100, 24], where 24=2 * 3 * 4.\n",
        "*   ```tf.contrib.fully_connected(F, num_outputs)```: given the flattened input F, it returns the output computed using a fully connected layer. Here the weights are automatically initialized in the fully connected layer in the graphs and keeps on training them as we train the model.\n",
        "\n",
        "### Window, kernel, filter\n",
        "\n",
        "The words \"window\", \"kernel\" and \"filter\" are used to refer to the same thing.\n",
        "---------------------------------------------------------<br>\n",
        "\n",
        "Implement the `forward_propagation` function below to build the following model: `CONV2D -> RELU -> MAXPOOL -> CONV2D -> RELU -> MAXPOOL -> FLATTEN -> FULLYCONNECTED`.\n",
        "\n",
        "In detail, we will use the following parameters for all the steps:\n",
        " - Conv2D: stride 1, padding is \"SAME\"\n",
        " - ReLU\n",
        " - Max pool: Use an 8 by 8 filter size and an 8 by 8 stride, padding is \"SAME\"\n",
        " - Conv2D: stride 1, padding is \"SAME\"\n",
        " - ReLU\n",
        " - Max pool: Use a 4 by 4 filter size and a 4 by 4 stride, padding is \"SAME\"\n",
        " - Flatten the previous output.\n",
        " - FULLYCONNECTED (FC) layer: Apply a fully connected layer without an non-linear activation function. Do not call the softmax here. This will result in 6 neurons in the output layer, which then get passed later to a softmax. In TensorFlow, the softmax and cost function are lumped together into a single function, which you'll call in a different function when computing the cost."
      ],
      "metadata": {
        "id": "b6H9RsIvgdRV"
      }
    },
    {
      "cell_type": "code",
      "source": [
        "def forward_propagation(X, parameters):\n",
        "    '''\n",
        "    Implement the forward propagation for the model:\n",
        "\n",
        "    CONV2D -> RELU -> MAXPOOL -> CONV2D -> RELU -> MAXPOOL -> FLATTEN -> FULLYCONNECTED\n",
        "\n",
        "    Arguments:\n",
        "    X -- input datset placeholder, of shape (input_size, number of examples)\n",
        "    parameteres -- python dictionary containing parameters \"W1\", and \"W2\".\n",
        "\n",
        "    Returns:\n",
        "    Z3 -- the output of the last LINEAR unit.\n",
        "    '''\n",
        "\n",
        "    # Retrieve the parameters from the dictionary \"parameters\"\n",
        "    W1 = parameters['W1']\n",
        "    W2 = parameters['W2']\n",
        "\n",
        "    # CONV2D: stride of 1, padding 'SAME'\n",
        "    s = 1\n",
        "    Z1 = tf.nn.conv2d(X, W1, strides=[1, s, s, 1], padding='SAME')\n",
        "\n",
        "    # ReLU\n",
        "    A1 = tf.nn.relu(Z1)\n",
        "\n",
        "    # Maxpooling with window 8x8, stride 8, padding 'SAME'\n",
        "    f = 8\n",
        "    s = 8\n",
        "    P1 = tf.nn.max_pool(A1, ksize = [1, f, f, 1], strides = [1, s, s, 1], padding='SAME')\n",
        "\n",
        "    # CONV2D: filters W2, stride 1, padding 'SAME'\n",
        "    Z2 = tf.nn.conv2d(P1, W2, strides=[1, s, s, 1], padding='SAME')\n",
        "\n",
        "    # ReLU\n",
        "    A2 = tf.nn.relu(Z2)\n",
        "\n",
        "    # Maxpooling with window 4x4, stride 4, padding 'SAME'\n",
        "    f = 4\n",
        "    s = 4\n",
        "    P2 = tf.nn.max_pool(A2, ksize=[1,f,f,1], strides=[1,s,s,1], padding='SAME')\n",
        "\n",
        "    # FLATTEN\n",
        "    F = tf.compat.v1.layers.flatten(P2)\n",
        "\n",
        "    # Fully-connected without non-linear activation function.\n",
        "    # 6 neuron in the output layer.\n",
        "    num_outputs = 6\n",
        "    Z3 = tf.compat.v1.layers.dense(F, num_outputs, activation=None)\n",
        "\n",
        "    return Z3"
      ],
      "metadata": {
        "id": "0XaTyq_DgE1q"
      },
      "execution_count": 292,
      "outputs": []
    },
    {
      "cell_type": "markdown",
      "source": [
        "## Compute cost\n",
        "Implement the compute cost function. This function tells the neural network how much the model's predictions differ from the correct labels. By adjusting the weights of the network to reduce the cost, the neural network can improve its predictions.\n",
        "\n",
        "**Helpful functions**\n",
        "*    ```tf.nn.softmax_cross_entropy_with_logits(logits = Z, labels = Y)```: computes the softmax entropy loss. This function computes the softmax activation function as well as resulting loss.\n",
        "*    ```tf.reduce_mean```: computes the mean of elements across dimensions of tensor. It is used to calculate the sum of the losses over all the examples to get the overall cost.\n",
        "\n",
        "\n",
        "#### Details on softmax_cross_entropy_with_logits\n",
        "* Softmax is used to format outputs so that they can be used for classification.  It assigns a value between 0 and 1 for each category, where the sum of all prediction values (across all possible categories) equals 1.\n",
        "* Cross Entropy is compares the model's predicted classifications with the actual labels and results in a numerical value representing the \"loss\" of the model's predictions.\n",
        "* \"Logits\" are the result of multiplying the weights and adding the biases.  Logits are passed through an activation function (such as a relu), and the result is called the \"activation.\"\n",
        "* The function is named `softmax_cross_entropy_with_logits` takes logits as input (and not activations); then uses the model to predict using softmax, and then compares the predictions with the true labels using cross entropy.  These are done with a single function to optimize the calculations."
      ],
      "metadata": {
        "id": "g1cvtZ1foG0N"
      }
    },
    {
      "cell_type": "code",
      "source": [
        "def compute_cost(Z3, Y):\n",
        "    '''\n",
        "    Computes the cost\n",
        "\n",
        "    Args:\n",
        "    Z3 -- output of forward propagation (output of the last LINEAR unit), of shape (number of examples, 6)\n",
        "    Y -- \"true\" labels vector placeholder, same shape as Z3\n",
        "\n",
        "    Returns:\n",
        "    cost  -- Tensor of the cost function\n",
        "    '''\n",
        "\n",
        "    cost = tf.reduce_mean(tf.nn.softmax_cross_entropy_with_logits(logits=Z3, labels=Y))\n",
        "\n",
        "    return cost"
      ],
      "metadata": {
        "id": "QZ_h7P-LpMfr"
      },
      "execution_count": 293,
      "outputs": []
    },
    {
      "cell_type": "markdown",
      "source": [
        "## Model\n",
        "Build a function to implement training the dataset.\n",
        "\n",
        "Implement\n",
        "-   Create placeholder\n",
        "-   initialize parameters\n",
        "-   forward propagate\n",
        "-   compute the cost\n",
        "-   create an optimizer\n",
        "\n",
        "### Adam Optimizer\n",
        "\n",
        "```tf.train.AdamOptimizer(learning_rate=...)```: This function is used to create the optimizer. The optimizer has a minimize(loss=...) function that is called to set the cost function that the optimizer will minimize.\n",
        "\n",
        "### Random mini batches\n",
        "\n",
        "This function returns a list of mini-batches.\n",
        "```Python\n",
        "minibatches = random_mini_batches(X, Y, mini_batch_size = 64, seed = 0)\n",
        "```\n",
        "\n",
        "### Evaluating the optimizer and cost\n",
        "Within a loop, for each mini-batch, `tf.Session` object (named `sess`) is used to feed a mini-batch of inputs and labels into the neural network and evaluate the tensors for the optimizer as well as the cost.\n",
        "\n",
        "  The graph data structure and need to feed it inputs and labels and use `sess.run()` in order to get values for the optimizer and cost.\n",
        "\n",
        "```\n",
        "output_for_var1, output_for_var2 = sess.run(\n",
        "                                                fetches=[var1, var2],\n",
        "                                                feed_dict={var_inputs: the_batch_of_inputs,\n",
        "                                                           var_labels: the_batch_of_labels}\n",
        "                                                )\n",
        "```\n",
        "* Notice that `sess.run` takes its first argument `fetches` as a list of objects that you want it to evaluate (in this case, we want to evaluate the optimizer and the cost).\n",
        "* It also takes a dictionary for the `feed_dict` parameter.\n",
        "* The keys are the `tf.placeholder` variables that we created in the `create_placeholders` function above.\n",
        "* The values are the variables holding the actual numpy arrays for each mini-batch.\n",
        "* The sess.run outputs a tuple of the evaluated tensors, in the same order as the list given to `fetches`."
      ],
      "metadata": {
        "id": "7iwz8Z1ap4YT"
      }
    },
    {
      "cell_type": "code",
      "source": [
        "def model(X_train, Y_train, X_test, Y_test, learning_rate = 0.009,\n",
        "          num_epochs = 100, minibatch_size = 64, print_cost = True):\n",
        "    \"\"\"\n",
        "    Implements a three-layer ConvNet in Tensorflow:\n",
        "    CONV2D -> RELU -> MAXPOOL -> CONV2D -> RELU -> MAXPOOL -> FLATTEN -> FULLYCONNECTED\n",
        "\n",
        "    Arguments:\n",
        "    X_train -- training set, of shape (None, 64, 64, 3)\n",
        "    Y_train -- test set, of shape (None, n_y = 6)\n",
        "    X_test -- training set, of shape (None, 64, 64, 3)\n",
        "    Y_test -- test set, of shape (None, n_y = 6)\n",
        "    learning_rate -- learning rate of the optimization\n",
        "    num_epochs -- number of epochs of the optimization loop\n",
        "    minibatch_size -- size of a minibatch\n",
        "    print_cost -- True to print the cost every 100 epochs\n",
        "\n",
        "    Returns:\n",
        "    train_accuracy -- real number, accuracy on the train set (X_train)\n",
        "    test_accuracy -- real number, testing accuracy on the test set (X_test)\n",
        "    parameters -- parameters learnt by the model. They can then be used to predict.\n",
        "    \"\"\"\n",
        "\n",
        "    ops.reset_default_graph()                         # to be able to rerun the model without overwriting tf variables\n",
        "\n",
        "    tf.random.set_seed(1)                             # to keep results consistent (tensorflow seed)\n",
        "    seed = 3                                          # to keep results consistent (numpy seed)\n",
        "    (m, n_H0, n_W0, n_C0) = X_train.shape\n",
        "    n_y = Y_train.shape[1]\n",
        "    costs = []                                        # To keep track of the cost\n",
        "\n",
        "    # Create Placeholders of the correct shape\n",
        "    X, Y = create_placeholders(n_H0, n_W0, n_C0, n_y)\n",
        "\n",
        "    # Initialize parameters\n",
        "    parameters = initialize_parameters()\n",
        "\n",
        "    # Forward propagation: Build the forward propagation in the tensorflow graph\n",
        "    Z3 = forward_propagation(X, parameters)\n",
        "\n",
        "    # Cost function: Add cost function to tensorflow graph\n",
        "    cost = compute_cost(Z3, Y)\n",
        "\n",
        "    # Backpropagation: Define the tensorflow optimizer. Use an AdamOptimizer that minimizes the cost.\n",
        "    optimizer = tf.optimizers.Adam(learning_rate = learning_rate).minimize(loss=cost, var_list = None, tape=None)\n",
        "\n",
        "    # Initialize all the variables globally\n",
        "    init = tf.global_variables_initializer()\n",
        "\n",
        "    # Start the session to compute the tensorflow graph\n",
        "    with tf.compat.v1.Session() as sess:\n",
        "\n",
        "        # Run the initialization\n",
        "        sess.run(init)\n",
        "\n",
        "        # Do the training loop\n",
        "        for epoch in range(num_epochs):\n",
        "\n",
        "            minibatch_cost = 0.\n",
        "            num_minibatches = int(m / minibatch_size) # number of minibatches of size minibatch_size in the train set\n",
        "            seed = seed + 1\n",
        "            minibatches = random_mini_batches(X_train, Y_train, minibatch_size, seed)\n",
        "\n",
        "            for minibatch in minibatches:\n",
        "\n",
        "                # Select a minibatch\n",
        "                (minibatch_X, minibatch_Y) = minibatch\n",
        "                \"\"\"\n",
        "                # IMPORTANT: The line that runs the graph on a minibatch.\n",
        "                # Run the session to execute the optimizer and the cost.\n",
        "                # The feedict should contain a minibatch for (X,Y).\n",
        "                \"\"\"\n",
        "                _ , temp_cost = sess.run([optimizer, cost], feed_dict={X:minibatch_X, Y:minibatch_Y})\n",
        "\n",
        "                minibatch_cost += temp_cost / num_minibatches\n",
        "\n",
        "\n",
        "            # Print the cost every epoch\n",
        "            if print_cost == True and epoch % 5 == 0:\n",
        "                print (\"Cost after epoch %i: %f\" % (epoch, minibatch_cost))\n",
        "            if print_cost == True and epoch % 1 == 0:\n",
        "                costs.append(minibatch_cost)\n",
        "\n",
        "\n",
        "        # plot the cost\n",
        "        plt.plot(np.squeeze(costs))\n",
        "        plt.ylabel('cost')\n",
        "        plt.xlabel('iterations (per tens)')\n",
        "        plt.title(\"Learning rate =\" + str(learning_rate))\n",
        "        plt.show()\n",
        "\n",
        "        # Calculate the correct predictions\n",
        "        predict_op = tf.argmax(Z3, 1)\n",
        "        correct_prediction = tf.equal(predict_op, tf.argmax(Y, 1))\n",
        "\n",
        "        # Calculate accuracy on the test set\n",
        "        accuracy = tf.reduce_mean(tf.cast(correct_prediction, \"float\"))\n",
        "        print(accuracy)\n",
        "        train_accuracy = accuracy.eval({X: X_train, Y: Y_train})\n",
        "        test_accuracy = accuracy.eval({X: X_test, Y: Y_test})\n",
        "        print(\"Train Accuracy:\", train_accuracy)\n",
        "        print(\"Test Accuracy:\", test_accuracy)\n",
        "\n",
        "        return train_accuracy, test_accuracy, parameters"
      ],
      "metadata": {
        "id": "MdBweo6Cp2c0"
      },
      "execution_count": 294,
      "outputs": []
    },
    {
      "cell_type": "code",
      "source": [
        "_, _, parameters = model(X_train, Y_train, X_test, Y_test)"
      ],
      "metadata": {
        "id": "_4s2AF3etGSC",
        "outputId": "48b77417-72ce-4846-837e-40fae1475269",
        "colab": {
          "base_uri": "https://localhost:8080/",
          "height": 380
        }
      },
      "execution_count": 295,
      "outputs": [
        {
          "output_type": "stream",
          "name": "stderr",
          "text": [
            "<ipython-input-292-7dde8f732c42>:43: UserWarning: `tf.layers.flatten` is deprecated and will be removed in a future version. Please use `tf.keras.layers.Flatten` instead.\n",
            "  F = tf.compat.v1.layers.flatten(P2)\n",
            "<ipython-input-292-7dde8f732c42>:48: UserWarning: `tf.layers.dense` is deprecated and will be removed in a future version. Please use `tf.keras.layers.Dense` instead.\n",
            "  Z3 = tf.compat.v1.layers.dense(F, num_outputs, activation=None)\n"
          ]
        },
        {
          "output_type": "error",
          "ename": "ValueError",
          "evalue": "ignored",
          "traceback": [
            "\u001b[0;31m---------------------------------------------------------------------------\u001b[0m",
            "\u001b[0;31mValueError\u001b[0m                                Traceback (most recent call last)",
            "\u001b[0;32m<ipython-input-295-ddfc1f084c11>\u001b[0m in \u001b[0;36m<cell line: 1>\u001b[0;34m()\u001b[0m\n\u001b[0;32m----> 1\u001b[0;31m \u001b[0m_\u001b[0m\u001b[0;34m,\u001b[0m \u001b[0m_\u001b[0m\u001b[0;34m,\u001b[0m \u001b[0mparameters\u001b[0m \u001b[0;34m=\u001b[0m \u001b[0mmodel\u001b[0m\u001b[0;34m(\u001b[0m\u001b[0mX_train\u001b[0m\u001b[0;34m,\u001b[0m \u001b[0mY_train\u001b[0m\u001b[0;34m,\u001b[0m \u001b[0mX_test\u001b[0m\u001b[0;34m,\u001b[0m \u001b[0mY_test\u001b[0m\u001b[0;34m)\u001b[0m\u001b[0;34m\u001b[0m\u001b[0;34m\u001b[0m\u001b[0m\n\u001b[0m",
            "\u001b[0;32m<ipython-input-294-0920a775a065>\u001b[0m in \u001b[0;36mmodel\u001b[0;34m(X_train, Y_train, X_test, Y_test, learning_rate, num_epochs, minibatch_size, print_cost)\u001b[0m\n\u001b[1;32m     42\u001b[0m \u001b[0;34m\u001b[0m\u001b[0m\n\u001b[1;32m     43\u001b[0m     \u001b[0;31m# Backpropagation: Define the tensorflow optimizer. Use an AdamOptimizer that minimizes the cost.\u001b[0m\u001b[0;34m\u001b[0m\u001b[0;34m\u001b[0m\u001b[0m\n\u001b[0;32m---> 44\u001b[0;31m     \u001b[0moptimizer\u001b[0m \u001b[0;34m=\u001b[0m \u001b[0mtf\u001b[0m\u001b[0;34m.\u001b[0m\u001b[0moptimizers\u001b[0m\u001b[0;34m.\u001b[0m\u001b[0mAdam\u001b[0m\u001b[0;34m(\u001b[0m\u001b[0mlearning_rate\u001b[0m \u001b[0;34m=\u001b[0m \u001b[0mlearning_rate\u001b[0m\u001b[0;34m)\u001b[0m\u001b[0;34m.\u001b[0m\u001b[0mminimize\u001b[0m\u001b[0;34m(\u001b[0m\u001b[0mloss\u001b[0m\u001b[0;34m=\u001b[0m\u001b[0mcost\u001b[0m\u001b[0;34m,\u001b[0m \u001b[0mvar_list\u001b[0m \u001b[0;34m=\u001b[0m \u001b[0;32mNone\u001b[0m\u001b[0;34m,\u001b[0m \u001b[0mtape\u001b[0m\u001b[0;34m=\u001b[0m\u001b[0;32mNone\u001b[0m\u001b[0;34m)\u001b[0m\u001b[0;34m\u001b[0m\u001b[0;34m\u001b[0m\u001b[0m\n\u001b[0m\u001b[1;32m     45\u001b[0m \u001b[0;34m\u001b[0m\u001b[0m\n\u001b[1;32m     46\u001b[0m     \u001b[0;31m# Initialize all the variables globally\u001b[0m\u001b[0;34m\u001b[0m\u001b[0;34m\u001b[0m\u001b[0m\n",
            "\u001b[0;32m/usr/local/lib/python3.10/dist-packages/keras/optimizers/optimizer.py\u001b[0m in \u001b[0;36mminimize\u001b[0;34m(self, loss, var_list, tape)\u001b[0m\n\u001b[1;32m    540\u001b[0m           \u001b[0;32mNone\u001b[0m\u001b[0;34m\u001b[0m\u001b[0;34m\u001b[0m\u001b[0m\n\u001b[1;32m    541\u001b[0m         \"\"\"\n\u001b[0;32m--> 542\u001b[0;31m         \u001b[0mgrads_and_vars\u001b[0m \u001b[0;34m=\u001b[0m \u001b[0mself\u001b[0m\u001b[0;34m.\u001b[0m\u001b[0mcompute_gradients\u001b[0m\u001b[0;34m(\u001b[0m\u001b[0mloss\u001b[0m\u001b[0;34m,\u001b[0m \u001b[0mvar_list\u001b[0m\u001b[0;34m,\u001b[0m \u001b[0mtape\u001b[0m\u001b[0;34m)\u001b[0m\u001b[0;34m\u001b[0m\u001b[0;34m\u001b[0m\u001b[0m\n\u001b[0m\u001b[1;32m    543\u001b[0m         \u001b[0mself\u001b[0m\u001b[0;34m.\u001b[0m\u001b[0mapply_gradients\u001b[0m\u001b[0;34m(\u001b[0m\u001b[0mgrads_and_vars\u001b[0m\u001b[0;34m)\u001b[0m\u001b[0;34m\u001b[0m\u001b[0;34m\u001b[0m\u001b[0m\n\u001b[1;32m    544\u001b[0m \u001b[0;34m\u001b[0m\u001b[0m\n",
            "\u001b[0;32m/usr/local/lib/python3.10/dist-packages/keras/optimizers/optimizer.py\u001b[0m in \u001b[0;36mcompute_gradients\u001b[0;34m(self, loss, var_list, tape)\u001b[0m\n\u001b[1;32m    259\u001b[0m         \"\"\"\n\u001b[1;32m    260\u001b[0m         \u001b[0;32mif\u001b[0m \u001b[0;32mnot\u001b[0m \u001b[0mcallable\u001b[0m\u001b[0;34m(\u001b[0m\u001b[0mloss\u001b[0m\u001b[0;34m)\u001b[0m \u001b[0;32mand\u001b[0m \u001b[0mtape\u001b[0m \u001b[0;32mis\u001b[0m \u001b[0;32mNone\u001b[0m\u001b[0;34m:\u001b[0m\u001b[0;34m\u001b[0m\u001b[0;34m\u001b[0m\u001b[0m\n\u001b[0;32m--> 261\u001b[0;31m             raise ValueError(\n\u001b[0m\u001b[1;32m    262\u001b[0m                 \u001b[0;34m\"`tape` is required when a `Tensor` loss is passed. \"\u001b[0m\u001b[0;34m\u001b[0m\u001b[0;34m\u001b[0m\u001b[0m\n\u001b[1;32m    263\u001b[0m                 \u001b[0;34mf\"Received: loss={loss}, tape={tape}.\"\u001b[0m\u001b[0;34m\u001b[0m\u001b[0;34m\u001b[0m\u001b[0m\n",
            "\u001b[0;31mValueError\u001b[0m: `tape` is required when a `Tensor` loss is passed. Received: loss=Tensor(\"Mean:0\", shape=(), dtype=float32), tape=None."
          ]
        }
      ]
    },
    {
      "cell_type": "code",
      "source": [],
      "metadata": {
        "id": "22gQEhFPtSrB"
      },
      "execution_count": null,
      "outputs": []
    }
  ]
}
