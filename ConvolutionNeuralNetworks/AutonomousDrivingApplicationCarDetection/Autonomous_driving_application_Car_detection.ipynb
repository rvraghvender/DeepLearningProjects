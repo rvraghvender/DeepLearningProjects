{
  "nbformat": 4,
  "nbformat_minor": 0,
  "metadata": {
    "colab": {
      "provenance": [],
      "authorship_tag": "ABX9TyNnXjVMEhpGD7KeEZr0Fbxs",
      "include_colab_link": true
    },
    "kernelspec": {
      "name": "python3",
      "display_name": "Python 3"
    },
    "language_info": {
      "name": "python"
    }
  },
  "cells": [
    {
      "cell_type": "markdown",
      "metadata": {
        "id": "view-in-github",
        "colab_type": "text"
      },
      "source": [
        "<a href=\"https://colab.research.google.com/github/rvraghvender/DeepLearningProjects/blob/main/ConvolutionNeuralNetworks/AutonomousDrivingApplicationCarDetection/Autonomous_driving_application_Car_detection.ipynb\" target=\"_parent\"><img src=\"https://colab.research.google.com/assets/colab-badge.svg\" alt=\"Open In Colab\"/></a>"
      ]
    },
    {
      "cell_type": "markdown",
      "source": [
        "# Autonomous driving - Car detection\n",
        "\n",
        "Here YOLO (You only look once) will be used for object detection. See paper [Redmon et al., 2016](https://arxiv.org/abs/1506.02640) and [Redmon and Farhadi, 2016](https://arxiv.org/abs/1612.08242)."
      ],
      "metadata": {
        "id": "gobicjki-8O4"
      }
    },
    {
      "cell_type": "code",
      "execution_count": 4,
      "metadata": {
        "id": "UQLWuQXZ-N3v"
      },
      "outputs": [],
      "source": [
        "# Importing relevant libraries\n",
        "import argparse\n",
        "import os\n",
        "import matplotlib.pyplot as plt\n",
        "import scipy.io\n",
        "import scipy.misc\n",
        "import numpy as np\n",
        "import pandas as pd\n",
        "import PIL\n",
        "import tensorflow as tf\n",
        "from keras import backend as K\n",
        "from keras.layers import Input, Lambda, Conv2D\n",
        "from keras.models import load_model, Model\n",
        "from yolo_utils import read_classes, read_anchors, generate_colors, preprocess_image, draw_boxes, scale_boxes\n",
        "# from keras_yolo import yolo_head, yolo_boxes_to_corners, preprocess_true_boxes, yolo_loss, yolo_body\n",
        "\n",
        "%matplotlib inline"
      ]
    },
    {
      "cell_type": "markdown",
      "source": [
        "## The project description\n",
        "\n",
        "We have to build a self-driving car. As a critical component of this project, we will use to first build a car detection system. To collect data, we have to mount a camera to the hood of the car, which takes pictures of the road ahead every few seconds while we are driving."
      ],
      "metadata": {
        "id": "RCER56qrAlTj"
      }
    },
    {
      "cell_type": "code",
      "source": [],
      "metadata": {
        "id": "2GRPKg2i_883"
      },
      "execution_count": null,
      "outputs": []
    }
  ]
}