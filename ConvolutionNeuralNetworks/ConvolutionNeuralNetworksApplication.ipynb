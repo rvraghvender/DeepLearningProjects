{
  "nbformat": 4,
  "nbformat_minor": 0,
  "metadata": {
    "colab": {
      "provenance": [],
      "authorship_tag": "ABX9TyOIQyQjykiCurw8N/Jy533p",
      "include_colab_link": true
    },
    "kernelspec": {
      "name": "python3",
      "display_name": "Python 3"
    },
    "language_info": {
      "name": "python"
    }
  },
  "cells": [
    {
      "cell_type": "markdown",
      "metadata": {
        "id": "view-in-github",
        "colab_type": "text"
      },
      "source": [
        "<a href=\"https://colab.research.google.com/github/rvraghvender/DeepLearningProjects/blob/main/ConvolutionNeuralNetworks/ConvolutionNeuralNetworksApplication.ipynb\" target=\"_parent\"><img src=\"https://colab.research.google.com/assets/colab-badge.svg\" alt=\"Open In Colab\"/></a>"
      ]
    },
    {
      "cell_type": "markdown",
      "source": [
        "# 1.0 - TensorFlow model\n",
        "\n",
        "Utilize the programming frameworks to perform convolution neural networks operations."
      ],
      "metadata": {
        "id": "yNtYfMiPzZGg"
      }
    },
    {
      "cell_type": "code",
      "source": [
        "# import relevant packages\n",
        "import math\n",
        "import numpy as np\n",
        "import h5py\n",
        "import matplotlib.pyplot as plt\n",
        "from matplotlib.pyplot import imread\n",
        "import scipy\n",
        "from PIL import Image\n",
        "import pandas as pd\n",
        "import tensorflow as tf\n",
        "import tensorflow.keras.layers as tfl\n",
        "from tensorflow.python.framework import ops\n",
        "from cnn_utils import *\n",
        "from test_utils import summary, comparator\n",
        "\n",
        "%matplotlib inline\n",
        "np.random.seed(1)"
      ],
      "metadata": {
        "id": "0EArZbOgz2EP"
      },
      "execution_count": 1,
      "outputs": []
    },
    {
      "cell_type": "code",
      "source": [
        "print('TensorFlow version: ',tf.__version__)"
      ],
      "metadata": {
        "colab": {
          "base_uri": "https://localhost:8080/"
        },
        "id": "yrwjFVdLxQ9N",
        "outputId": "48186b1b-5cfa-43af-f623-add5ec29b4fe"
      },
      "execution_count": 2,
      "outputs": [
        {
          "output_type": "stream",
          "name": "stdout",
          "text": [
            "TensorFlow version:  2.12.0\n"
          ]
        }
      ]
    },
    {
      "cell_type": "markdown",
      "source": [
        "## Load the dataset and split the data into Train/Test sets\n",
        "Here Happy house dataset is given which contains images of people's faces. Build a ConvNet that determines whether the people in the images are smiling or not, because they only get to enter the house if they're similing."
      ],
      "metadata": {
        "id": "s7lE_qwZwk8j"
      }
    },
    {
      "cell_type": "code",
      "source": [
        "X_train_orig, Y_train_orig, X_test_orig, Y_test_orig, classes = load_happy_dataset()"
      ],
      "metadata": {
        "id": "OeDxoylD0MOJ"
      },
      "execution_count": 49,
      "outputs": []
    },
    {
      "cell_type": "code",
      "source": [
        "# Normalize images vectors\n",
        "X_train = X_train_orig / 255.0\n",
        "X_test = X_test_orig / 255.0\n",
        "\n",
        "# Reshape\n",
        "Y_train = Y_train_orig.T\n",
        "Y_test = Y_test_orig.T\n",
        "\n",
        "print(\"Number of training examples = \" + str(X_train.shape[0]))\n",
        "print(\"Number of test examples = \" + str(X_test.shape[0]))\n",
        "print(\"X_train shape \" + str(X_train.shape))\n",
        "print(\"Y_train shape \" + str(Y_train.shape))\n",
        "print(\"X_test shape \" + str(X_test.shape))\n",
        "print(\"Y_test shape \" + str(Y_test.shape))"
      ],
      "metadata": {
        "id": "nKFy1yCSSLmQ",
        "outputId": "2cca4994-6497-4206-d8ac-ea95f3494f3d",
        "colab": {
          "base_uri": "https://localhost:8080/"
        }
      },
      "execution_count": 50,
      "outputs": [
        {
          "output_type": "stream",
          "name": "stdout",
          "text": [
            "Number of training examples = 600\n",
            "Number of test examples = 150\n",
            "X_train shape (600, 64, 64, 3)\n",
            "Y_train shape (600, 1)\n",
            "X_test shape (150, 64, 64, 3)\n",
            "Y_test shape (150, 1)\n"
          ]
        }
      ]
    },
    {
      "cell_type": "markdown",
      "source": [
        "## Looking at particular example from dataset\n",
        "\n",
        "Images are 64 x 64 pixels in RGB format (3 channels)"
      ],
      "metadata": {
        "id": "VDk1RCvuyCHT"
      }
    },
    {
      "cell_type": "code",
      "source": [
        "# Example of picture\n",
        "index = 125\n",
        "plt.imshow(X_train_orig[index])\n",
        "print(\"y = \" + str(np.squeeze(Y_train_orig[:, index])))"
      ],
      "metadata": {
        "colab": {
          "base_uri": "https://localhost:8080/",
          "height": 449
        },
        "id": "Qc2fAuSHPxa7",
        "outputId": "ade8592b-e47d-4edd-fef4-e2c9b23a3ffa"
      },
      "execution_count": 51,
      "outputs": [
        {
          "output_type": "stream",
          "name": "stdout",
          "text": [
            "y = 1\n"
          ]
        },
        {
          "output_type": "display_data",
          "data": {
            "text/plain": [
              "<Figure size 640x480 with 1 Axes>"
            ],
            "image/png": "[encoded data removed]"
          },
          "metadata": {}
        }
      ]
    },
    {
      "cell_type": "markdown",
      "source": [
        "## Layers in TensorFlow Keras\n",
        "\n",
        "In TF Keras, there is no need to write code directly to create layers. Rather, TF Keras has pre-defined layers that we can use. When we create a layer in TF Keras, we are creating a function that takes some input and transform it into an outupt that we can reuse later."
      ],
      "metadata": {
        "id": "J5Nm4i0eyYky"
      }
    },
    {
      "cell_type": "markdown",
      "source": [
        "## The Sequential API\n",
        "\n",
        "In previous projects, we built helper functions using numpy to understand the mechanics behind convolution neural networks. In most practical applications of deep learning today are built using programming frameworks, which have many built-in functions we can simply call. Keras is high-level abstraction built on top of TensorFlow, which allows for even more simplified and optimized model creation and training.\n",
        "\n",
        "**Sequential API** -- It allows use to build layer by layer, and is ideal for building models where each layer has exactly one input tensor and one output tensor. It is only appropriate for simpler, more straightforward tasks."
      ],
      "metadata": {
        "id": "r8-R2cPHy9bL"
      }
    },
    {
      "cell_type": "markdown",
      "source": [
        "## Creating the Sequential API\n",
        "TensorFlow Keras Sequential API can be used to build simple with layer operations that proceed in sequential order. Here, we can add layers incrementally to a Sequential model with the `.add()` method, or remove them using the `.pop()` method, like a regular Python list.\n",
        "\n",
        "In Sequential model layers acts as list. Like python lists, sequential layers are ordered, and the order in which they are specified matters. If our model is non-linear or contains layers with multiple inputs or outputs, a sequential model would'nt be the right choice.\n",
        "\n",
        "For any layers construction in Keras, we need to specify the input shape in advance. This is because in Keras, the shape of the weights is based on the shape of the inputs. The weights are only created when the model first sees some input data. Sequential models can be created by passing a list of layers to the Sequential constructor.\n",
        "\n"
      ],
      "metadata": {
        "id": "Yj-vjkjSz6vw"
      }
    },
    {
      "cell_type": "markdown",
      "source": [
        "<a name='3-1'></a>\n",
        "### 3.1 - Create the Sequential Model\n",
        "\n",
        "As mentioned earlier, the TensorFlow Keras Sequential API can be used to build simple models with layer operations that proceed in a sequential order.\n",
        "\n",
        "You can also add layers incrementally to a Sequential model with the `.add()` method, or remove them using the `.pop()` method, much like you would in a regular Python list.\n",
        "\n",
        "Actually, you can think of a Sequential model as behaving like a list of layers. Like Python lists, Sequential layers are ordered, and the order in which they are specified matters.  If your model is non-linear or contains layers with multiple inputs or outputs, a Sequential model wouldn't be the right choice!\n",
        "\n",
        "For any layer construction in Keras, you'll need to specify the input shape in advance. This is because in Keras, the shape of the weights is based on the shape of the inputs. The weights are only created when the model first sees some input data. Sequential models can be created by passing a list of layers to the Sequential constructor, like you will do in the next assignment.\n",
        "\n",
        "<a name='ex-1'></a>\n",
        "### Exercise 1 - happyModel\n",
        "\n",
        "Implement the `happyModel` function below to build the following model: `ZEROPAD2D -> CONV2D -> BATCHNORM -> RELU -> MAXPOOL -> FLATTEN -> DENSE`. Take help from [tf.keras.layers](https://www.tensorflow.org/api_docs/python/tf/keras/layers)\n",
        "\n",
        "Also, plug in the following parameters for all the steps:\n",
        "\n",
        " - [ZeroPadding2D](https://www.tensorflow.org/api_docs/python/tf/keras/layers/ZeroPadding2D): padding 3, input shape 64 x 64 x 3\n",
        " - [Conv2D](https://www.tensorflow.org/api_docs/python/tf/keras/layers/Conv2D): Use 32 7x7 filters, stride 1\n",
        " - [BatchNormalization](https://www.tensorflow.org/api_docs/python/tf/keras/layers/BatchNormalization): for axis 3\n",
        " - [ReLU](https://www.tensorflow.org/api_docs/python/tf/keras/layers/ReLU)\n",
        " - [MaxPool2D](https://www.tensorflow.org/api_docs/python/tf/keras/layers/MaxPool2D): Using default parameters\n",
        " - [Flatten](https://www.tensorflow.org/api_docs/python/tf/keras/layers/Flatten) the previous output.\n",
        " - Fully-connected ([Dense](https://www.tensorflow.org/api_docs/python/tf/keras/layers/Dense)) layer: Apply a fully connected layer with 1 neuron and a sigmoid activation.\n",
        "\n",
        "\n",
        " **Hint:**\n",
        "\n",
        " Use **tfl** as shorthand for **tensorflow.keras.layers**"
      ],
      "metadata": {
        "id": "SlPcZTEV1WJE"
      }
    },
    {
      "cell_type": "code",
      "source": [
        "def happyModel():\n",
        "    '''\n",
        "    Implements the forward propagation for the binary classification model:\n",
        "    ZEROPAD2D -> CONV2D -> BATCHNORM -> RELU -> MAXPOOL -> FLATTEN -> DENSE\n",
        "\n",
        "    Args:\n",
        "    None\n",
        "\n",
        "    Returns:\n",
        "    model - TF Keras model (object containing the information for the entire training process)\n",
        "    '''\n",
        "    model = tf.keras.Sequential([\n",
        "                                tfl.ZeroPadding2D(padding = (3,3), input_shape=(64, 64, 3), data_format='channels_last'),\n",
        "                                tfl.Conv2D(filters=32, kernel_size=(7,7), strides=(1,1)),\n",
        "                                tfl.BatchNormalization(axis=3),\n",
        "                                tfl.ReLU(),\n",
        "                                tfl.MaxPool2D(),\n",
        "                                tfl.Flatten(),\n",
        "                                tfl.Dense(units=1, activation='sigmoid')\n",
        "    ])\n",
        "\n",
        "    return model"
      ],
      "metadata": {
        "id": "9qomUymjRoKJ"
      },
      "execution_count": 52,
      "outputs": []
    },
    {
      "cell_type": "code",
      "source": [
        "happy_model = happyModel()\n",
        "\n",
        "# Print summary for each layer\n",
        "for layer in summary(happy_model):\n",
        "    print(layer)\n",
        "\n",
        "output = [['ZeroPadding2D', (None, 70, 70, 3), 0, ((3,3), (3,3))],\n",
        "          ['Conv2D', (None, 64, 64, 32), 4736, 'valid', 'linear', 'GlorotUniform'],\n",
        "          ['BatchNormalization', (None, 64, 64, 32), 128],\n",
        "          ['ReLU', (None, 64, 64, 32), 0],\n",
        "          ['MaxPooling2D', (None, 32, 32, 32), 0, (2,2), (2, 2), 'valid'],\n",
        "          ['Flatten', (None, 32768), 0],\n",
        "          ['Dense', (None, 1), 32769, 'sigmoid']]\n",
        "\n",
        "comparator(summary(happy_model), output)"
      ],
      "metadata": {
        "id": "surHN0pN4YX-",
        "outputId": "299d456e-c42d-4287-8609-1b7d3f155424",
        "colab": {
          "base_uri": "https://localhost:8080/"
        }
      },
      "execution_count": 53,
      "outputs": [
        {
          "output_type": "stream",
          "name": "stdout",
          "text": [
            "['ZeroPadding2D', (None, 70, 70, 3), 0, ((3, 3), (3, 3))]\n",
            "['Conv2D', (None, 64, 64, 32), 4736, 'valid', 'linear', 'GlorotUniform']\n",
            "['BatchNormalization', (None, 64, 64, 32), 128]\n",
            "['ReLU', (None, 64, 64, 32), 0]\n",
            "['MaxPooling2D', (None, 32, 32, 32), 0, (2, 2), (2, 2), 'valid']\n",
            "['Flatten', (None, 32768), 0]\n",
            "['Dense', (None, 1), 32769, 'sigmoid']\n",
            "All tests passed!\n"
          ]
        }
      ]
    },
    {
      "cell_type": "markdown",
      "source": [
        "Having created the model, we can compile it for training with an optimizer and loss of our choice. When the string accuracy is specified as a metric, the type of accuracy used will be automatically converted on the loss function used."
      ],
      "metadata": {
        "id": "p42W7rm56bOE"
      }
    },
    {
      "cell_type": "code",
      "source": [
        "happy_model.compile(optimizer='adam', loss='binary_crossentropy', metrics=['accuracy'])"
      ],
      "metadata": {
        "id": "wM7O8J6U5eV1"
      },
      "execution_count": 54,
      "outputs": []
    },
    {
      "cell_type": "markdown",
      "source": [
        "Let's check our model's parameters with `.summary()` method. This will display the types of layers we have, the shape of the outputs, and how many parameters are there in each layer."
      ],
      "metadata": {
        "id": "XF-c8aqq6wjM"
      }
    },
    {
      "cell_type": "code",
      "source": [
        "happy_model.summary()"
      ],
      "metadata": {
        "id": "G1iUX9cs6956",
        "outputId": "44ed36a1-e4ed-45c2-eefa-437858200a96",
        "colab": {
          "base_uri": "https://localhost:8080/"
        }
      },
      "execution_count": 55,
      "outputs": [
        {
          "output_type": "stream",
          "name": "stdout",
          "text": [
            "Model: \"sequential_6\"\n",
            "_________________________________________________________________\n",
            " Layer (type)                Output Shape              Param #   \n",
            "=================================================================\n",
            " zero_padding2d_8 (ZeroPaddi  (None, 70, 70, 3)        0         \n",
            " ng2D)                                                           \n",
            "                                                                 \n",
            " conv2d_6 (Conv2D)           (None, 64, 64, 32)        4736      \n",
            "                                                                 \n",
            " batch_normalization_6 (Batc  (None, 64, 64, 32)       128       \n",
            " hNormalization)                                                 \n",
            "                                                                 \n",
            " re_lu_6 (ReLU)              (None, 64, 64, 32)        0         \n",
            "                                                                 \n",
            " max_pooling2d_6 (MaxPooling  (None, 32, 32, 32)       0         \n",
            " 2D)                                                             \n",
            "                                                                 \n",
            " flatten_6 (Flatten)         (None, 32768)             0         \n",
            "                                                                 \n",
            " dense_6 (Dense)             (None, 1)                 32769     \n",
            "                                                                 \n",
            "=================================================================\n",
            "Total params: 37,633\n",
            "Trainable params: 37,569\n",
            "Non-trainable params: 64\n",
            "_________________________________________________________________\n"
          ]
        }
      ]
    },
    {
      "cell_type": "markdown",
      "source": [
        "## Train and Evaluate the Model\n",
        "\n",
        "First step before training the model is to do a sanity check on its contents of the model ccompiled using our choice of optimizer and loss functions.\n",
        "Simply call `.fit()` to train. That's it! No need for mini-batching, saving, or complex backpropagation computations."
      ],
      "metadata": {
        "id": "rNxSdJ037grc"
      }
    },
    {
      "cell_type": "code",
      "source": [
        "happy_model.fit(X_train, Y_train, epochs=10, batch_size=16)"
      ],
      "metadata": {
        "id": "7Lcv4C_K8QCa",
        "outputId": "ffc50a31-98d4-41bd-9c0e-a2ade3e3d0d4",
        "colab": {
          "base_uri": "https://localhost:8080/"
        }
      },
      "execution_count": 56,
      "outputs": [
        {
          "output_type": "stream",
          "name": "stdout",
          "text": [
            "Epoch 1/10\n",
            "38/38 [==============================] - 6s 133ms/step - loss: 0.8979 - accuracy: 0.7333\n",
            "Epoch 2/10\n",
            "38/38 [==============================] - 4s 108ms/step - loss: 0.1766 - accuracy: 0.9267\n",
            "Epoch 3/10\n",
            "38/38 [==============================] - 5s 128ms/step - loss: 0.1669 - accuracy: 0.9333\n",
            "Epoch 4/10\n",
            "38/38 [==============================] - 4s 108ms/step - loss: 0.1888 - accuracy: 0.9300\n",
            "Epoch 5/10\n",
            "38/38 [==============================] - 4s 107ms/step - loss: 0.1002 - accuracy: 0.9617\n",
            "Epoch 6/10\n",
            "38/38 [==============================] - 5s 130ms/step - loss: 0.0999 - accuracy: 0.9617\n",
            "Epoch 7/10\n",
            "38/38 [==============================] - 4s 105ms/step - loss: 0.0653 - accuracy: 0.9733\n",
            "Epoch 8/10\n",
            "38/38 [==============================] - 4s 106ms/step - loss: 0.0821 - accuracy: 0.9717\n",
            "Epoch 9/10\n",
            "38/38 [==============================] - 5s 132ms/step - loss: 0.0552 - accuracy: 0.9817\n",
            "Epoch 10/10\n",
            "38/38 [==============================] - 4s 107ms/step - loss: 0.0702 - accuracy: 0.9800\n"
          ]
        },
        {
          "output_type": "execute_result",
          "data": {
            "text/plain": [
              "<keras.callbacks.History at 0x7f3363004400>"
            ]
          },
          "metadata": {},
          "execution_count": 56
        }
      ]
    },
    {
      "cell_type": "markdown",
      "source": [
        "After `.fit()` completes, just use `.evaluate()` to evaluate against test set. This function will print the value of the loss function (`binary_crossentropy`) and the performance metrics (`accuracy`) specified during the compilation of the model."
      ],
      "metadata": {
        "id": "yf85Dh7X9RjK"
      }
    },
    {
      "cell_type": "code",
      "source": [
        "happy_model.evaluate(X_test, Y_test)"
      ],
      "metadata": {
        "id": "NR4m5QSU95ZX",
        "outputId": "e75c1f65-a3c6-4a0c-dd72-df12c94c08e4",
        "colab": {
          "base_uri": "https://localhost:8080/"
        }
      },
      "execution_count": 57,
      "outputs": [
        {
          "output_type": "stream",
          "name": "stdout",
          "text": [
            "5/5 [==============================] - 0s 60ms/step - loss: 0.1625 - accuracy: 0.9267\n"
          ]
        },
        {
          "output_type": "execute_result",
          "data": {
            "text/plain": [
              "[0.16253335773944855, 0.9266666769981384]"
            ]
          },
          "metadata": {},
          "execution_count": 57
        }
      ]
    },
    {
      "cell_type": "markdown",
      "source": [
        "That's easy. But what if we need to build a model with shared layers, branches, or multiple inputs and outputs? This is where Sequential, with its beautiful simple yet limited functionality, won't be able to help us.\n",
        "\n",
        "Therefore, we use **Functional API**,slightly more complex but highly flexible friend."
      ],
      "metadata": {
        "id": "Jz1S2bTG-Is8"
      }
    },
    {
      "cell_type": "markdown",
      "source": [
        "## The Functional API\n",
        "\n",
        "The Functional API can handle models with non-linear topology, shared layers, as well as layers with mulitple inputs or outputs. Imagine that,\n",
        "*   where the Sequential API requires the model to move in a linear fashion through its layers, the Functional API allows much more flexibility.\n",
        "*   where Sequential is a straight line, a Functional model is a graph, where the nodes of the layers can connect in many more ways than one (such as skip connections)."
      ],
      "metadata": {
        "id": "AsPBU21n-oN4"
      }
    },
    {
      "cell_type": "markdown",
      "source": [
        "## Load the SIGNS dataset"
      ],
      "metadata": {
        "id": "TFSbREJF_Z5R"
      }
    },
    {
      "cell_type": "code",
      "source": [
        "# Loading the data (signs)\n",
        "X_train_orig, Y_train_orig, X_test_orig, Y_test_orig, classes = load_signs_dataset()"
      ],
      "metadata": {
        "id": "TzLAMgIE-niZ"
      },
      "execution_count": 7,
      "outputs": []
    },
    {
      "cell_type": "code",
      "source": [
        "X_train = X_train_orig/255.\n",
        "X_test = X_test_orig/255.\n",
        "Y_train = convert_to_one_hot(Y_train_orig, 6).T\n",
        "Y_test = convert_to_one_hot(Y_test_orig, 6).T\n",
        "print (\"number of training examples = \" + str(X_train.shape[0]))\n",
        "print (\"number of test examples = \" + str(X_test.shape[0]))\n",
        "print (\"X_train shape: \" + str(X_train.shape))\n",
        "print (\"Y_train shape: \" + str(Y_train.shape))\n",
        "print (\"X_test shape: \" + str(X_test.shape))\n",
        "print (\"Y_test shape: \" + str(Y_test.shape))"
      ],
      "metadata": {
        "id": "cbob1I2wEMw7",
        "outputId": "3f033b9e-8909-49d5-97ef-78759d59d9c6",
        "colab": {
          "base_uri": "https://localhost:8080/"
        }
      },
      "execution_count": 13,
      "outputs": [
        {
          "output_type": "stream",
          "name": "stdout",
          "text": [
            "number of training examples = 1080\n",
            "number of test examples = 120\n",
            "X_train shape: (1080, 64, 64, 3)\n",
            "Y_train shape: (1080, 6)\n",
            "X_test shape: (120, 64, 64, 3)\n",
            "Y_test shape: (120, 6)\n"
          ]
        }
      ]
    },
    {
      "cell_type": "code",
      "source": [
        "# Example of an image from the dataset\n",
        "index = 4\n",
        "plt.imshow(X_train_orig[index])\n",
        "print (\"y = \" + str(np.squeeze(Y_train_orig[:, index])))"
      ],
      "metadata": {
        "id": "-d3NOq8pA3ea",
        "outputId": "d8a87096-c053-406a-fcc5-7361a0e50ffc",
        "colab": {
          "base_uri": "https://localhost:8080/",
          "height": 449
        }
      },
      "execution_count": 9,
      "outputs": [
        {
          "output_type": "stream",
          "name": "stdout",
          "text": [
            "y = 2\n"
          ]
        },
        {
          "output_type": "display_data",
          "data": {
            "text/plain": [
              "<Figure size 640x480 with 1 Axes>"
            ],
            "image/png": "[encoded data removed]"
          },
          "metadata": {}
        }
      ]
    },
    {
      "cell_type": "markdown",
      "source": [
        "\n",
        "## Forward Propagation\n",
        "\n",
        "In TensorFlow, there are built-in functions that implement the convolution steps for us. In the [Functional API](https://www.tensorflow.org/guide/keras/functional), we create a graph of layers. This is what allows such great flexibility.\n",
        "\n",
        "However, the following model could also be defined using the Sequential API since the information flow is on a single line. But don't deviate. What we want is to learn to use the functional API.\n",
        "\n",
        "Begin building our graph of layers by creating an input node that functions as a callable object:\n",
        "\n",
        "- **input_img = tf.keras.Input(shape=input_shape):**\n",
        "\n",
        "Then, create a new node in the graph of layers by calling a layer on the `input_img` object:\n",
        "\n",
        "- **tf.keras.layers.Conv2D(filters= ... , kernel_size= ... , padding='same')(input_img):** Read the full documentation on [Conv2D](https://www.tensorflow.org/api_docs/python/tf/keras/layers/Conv2D).\n",
        "\n",
        "- **tf.keras.layers.MaxPool2D(pool_size=(f, f), strides=(s, s), padding='same'):** `MaxPool2D()` downsamples your input using a window of size (f, f) and strides of size (s, s) to carry out max pooling over each window.  For max pooling, you usually operate on a single example at a time and a single channel at a time. Read the full documentation on [MaxPool2D](https://www.tensorflow.org/api_docs/python/tf/keras/layers/MaxPool2D).\n",
        "\n",
        "- **tf.keras.layers.ReLU():** computes the elementwise ReLU of Z (which can be any shape). You can read the full documentation on [ReLU](https://www.tensorflow.org/api_docs/python/tf/keras/layers/ReLU).\n",
        "\n",
        "- **tf.keras.layers.Flatten()**: given a tensor \"P\", this function takes each training (or test) example in the batch and flattens it into a 1D vector.\n",
        "\n",
        "    * If a tensor P has the shape (batch_size,h,w,c), it returns a flattened tensor with shape (batch_size, k), where $k=h \\times w \\times c$.  \"k\" equals the product of all the dimension sizes other than the first dimension.\n",
        "\n",
        "    * For example, given a tensor with dimensions [100, 2, 3, 4], it flattens the tensor to be of shape [100, 24], where 24 = 2 * 3 * 4.  You can read the full documentation on [Flatten](https://www.tensorflow.org/api_docs/python/tf/keras/layers/Flatten).\n",
        "\n",
        "- **tf.keras.layers.Dense(units= ... , activation='softmax')(F):** given the flattened input F, it returns the output computed using a fully connected layer. You can read the full documentation on [Dense](https://www.tensorflow.org/api_docs/python/tf/keras/layers/Dense).\n",
        "\n",
        "In the last function above (`tf.keras.layers.Dense()`), the fully connected layer automatically initializes weights in the graph and keeps on training them as you train the model. Hence, you did not need to initialize those weights when initializing the parameters.\n",
        "\n",
        "Lastly, before creating the model, you'll need to define the output using the last of the function's compositions (in this example, a Dense layer):\n",
        "\n",
        "- **outputs = tf.keras.layers.Dense(units=6, activation='softmax')(F)**\n",
        "\n",
        "\n",
        "#### Window, kernel, filter, pool\n",
        "\n",
        "The words \"kernel\" and \"filter\" are used to refer to the same thing. The word \"filter\" accounts for the amount of \"kernels\" that will be used in a single convolution layer. \"Pool\" is the name of the operation that takes the max or average value of the kernels.\n",
        "\n",
        "This is why the parameter `pool_size` refers to `kernel_size`, and you use `(f,f)` to refer to the filter size.\n",
        "\n",
        "Pool size and kernel size refer to the same thing in different objects - They refer to the shape of the window where the operation takes place."
      ],
      "metadata": {
        "id": "MTMlBM30BFBT"
      }
    },
    {
      "cell_type": "markdown",
      "source": [
        "## convolutional_model\n",
        "\n",
        "Implement the `convolutional_model` function below to build the following model: `CONV2D -> RELU -> MAXPOOL -> CONV2D -> RELU -> MAXPOOL -> FLATTEN -> DENSE`. Use the functions above!\n",
        "\n",
        "Also, plug in the following parameters for all the steps:\n",
        "\n",
        " - [Conv2D](https://www.tensorflow.org/api_docs/python/tf/keras/layers/Conv2D): Use 8 4 by 4 filters, stride 1, padding is \"SAME\"\n",
        " - [ReLU](https://www.tensorflow.org/api_docs/python/tf/keras/layers/ReLU)\n",
        " - [MaxPool2D](https://www.tensorflow.org/api_docs/python/tf/keras/layers/MaxPool2D): Use an 8 by 8 filter size and an 8 by 8 stride, padding is \"SAME\"\n",
        " - **Conv2D**: Use 16 2 by 2 filters, stride 1, padding is \"SAME\"\n",
        " - **ReLU**\n",
        " - **MaxPool2D**: Use a 4 by 4 filter size and a 4 by 4 stride, padding is \"SAME\"\n",
        " - [Flatten](https://www.tensorflow.org/api_docs/python/tf/keras/layers/Flatten) the previous output.\n",
        " - Fully-connected ([Dense](https://www.tensorflow.org/api_docs/python/tf/keras/layers/Dense)) layer: Apply a fully connected layer with 6 neurons and a softmax activation."
      ],
      "metadata": {
        "id": "zetxWfiTC8M2"
      }
    },
    {
      "cell_type": "code",
      "source": [
        "def convolutional_model(input_shape):\n",
        "    \"\"\"\n",
        "    Implements the forward propagation for the model:\n",
        "    CONV2D -> RELU -> MAXPOOL -> CONV2D -> RELU -> MAXPOOL -> FLATTEN -> DENSE\n",
        "\n",
        "    Arguments:\n",
        "    input_img -- input dataset, of shape (input_shape)\n",
        "\n",
        "    Returns:\n",
        "    model -- TF Keras model (object containing the information for the entire training process)\n",
        "    \"\"\"\n",
        "\n",
        "    input_img = tf.keras.Input(shape=input_shape)\n",
        "\n",
        "    # CONV2D: 8 filters 4x4, stride of 1, padding 'SAME'\n",
        "    Z1 = tfl.Conv2D(filters=8, kernel_size=(4, 4), strides=(1,1), padding='same')(input_img)\n",
        "\n",
        "    # RELU\n",
        "    A1 = tfl.ReLU()(Z1)\n",
        "\n",
        "    # MAXPOOL: window 8x8, stride 8, padding 'SAME'\n",
        "    P1 = tfl.MaxPool2D(pool_size=(8, 8), strides=(8, 8), padding='same')(A1)\n",
        "\n",
        "    # CONV2D: 16 filters 2x2, stride 1, padding 'SAME'\n",
        "    Z2 = tfl.Conv2D(filters=16, kernel_size=(2, 2), strides=(1,1), padding='same')(P1)\n",
        "\n",
        "    # RELU\n",
        "    A2 = tfl.ReLU()(Z2)\n",
        "\n",
        "    # MAXPOOL: window 4x4, stride 4, padding 'SAME'\n",
        "    P2 = tfl.MaxPool2D(pool_size=(4, 4), strides=(4,4), padding='same')(A2)\n",
        "\n",
        "    # FLATTEN\n",
        "    F  = tfl.Flatten()(P2)\n",
        "\n",
        "    # Dense layer\n",
        "    # 6 neurons in output layer.\n",
        "    # Hint: one of the arguments should be \"activation='softmax'\"\n",
        "    outputs= tfl.Dense(units=6, activation='softmax')(F)\n",
        "\n",
        "    model = tf.keras.Model(inputs=input_img, outputs=outputs)\n",
        "    return model"
      ],
      "metadata": {
        "id": "I5tcsfS4ShZ8"
      },
      "execution_count": 10,
      "outputs": []
    },
    {
      "cell_type": "code",
      "source": [
        "conv_model = convolutional_model((64, 64, 3))\n",
        "conv_model.compile(optimizer='adam',\n",
        "                  loss='categorical_crossentropy',\n",
        "                  metrics=['accuracy'])\n",
        "conv_model.summary()\n",
        "\n",
        "output = [['InputLayer', [(None, 64, 64, 3)], 0],\n",
        "        ['Conv2D', (None, 64, 64, 8), 392, 'same', 'linear', 'GlorotUniform'],\n",
        "        ['ReLU', (None, 64, 64, 8), 0],\n",
        "        ['MaxPooling2D', (None, 8, 8, 8), 0, (8, 8), (8, 8), 'same'],\n",
        "        ['Conv2D', (None, 8, 8, 16), 528, 'same', 'linear', 'GlorotUniform'],\n",
        "        ['ReLU', (None, 8, 8, 16), 0],\n",
        "        ['MaxPooling2D', (None, 2, 2, 16), 0, (4, 4), (4, 4), 'same'],\n",
        "        ['Flatten', (None, 64), 0],\n",
        "        ['Dense', (None, 6), 390, 'softmax']]\n",
        "\n",
        "comparator(summary(conv_model), output)\n"
      ],
      "metadata": {
        "id": "GfJHEoKRBeBv",
        "outputId": "d7d9a948-de00-4cc1-c2af-26af4187e65f",
        "colab": {
          "base_uri": "https://localhost:8080/"
        }
      },
      "execution_count": 11,
      "outputs": [
        {
          "output_type": "stream",
          "name": "stdout",
          "text": [
            "Model: \"model\"\n",
            "_________________________________________________________________\n",
            " Layer (type)                Output Shape              Param #   \n",
            "=================================================================\n",
            " input_1 (InputLayer)        [(None, 64, 64, 3)]       0         \n",
            "                                                                 \n",
            " conv2d (Conv2D)             (None, 64, 64, 8)         392       \n",
            "                                                                 \n",
            " re_lu (ReLU)                (None, 64, 64, 8)         0         \n",
            "                                                                 \n",
            " max_pooling2d (MaxPooling2D  (None, 8, 8, 8)          0         \n",
            " )                                                               \n",
            "                                                                 \n",
            " conv2d_1 (Conv2D)           (None, 8, 8, 16)          528       \n",
            "                                                                 \n",
            " re_lu_1 (ReLU)              (None, 8, 8, 16)          0         \n",
            "                                                                 \n",
            " max_pooling2d_1 (MaxPooling  (None, 2, 2, 16)         0         \n",
            " 2D)                                                             \n",
            "                                                                 \n",
            " flatten (Flatten)           (None, 64)                0         \n",
            "                                                                 \n",
            " dense (Dense)               (None, 6)                 390       \n",
            "                                                                 \n",
            "=================================================================\n",
            "Total params: 1,310\n",
            "Trainable params: 1,310\n",
            "Non-trainable params: 0\n",
            "_________________________________________________________________\n",
            "All tests passed!\n"
          ]
        }
      ]
    },
    {
      "cell_type": "markdown",
      "source": [
        "Both the Sequential and Functional APIs return a TF Keras model object. The only difference is how inputs are handled inside the object model!"
      ],
      "metadata": {
        "id": "qr8tUYkDLm2G"
      }
    },
    {
      "cell_type": "markdown",
      "source": [
        "## Train the model"
      ],
      "metadata": {
        "id": "xuB1b8UgLpJ-"
      }
    },
    {
      "cell_type": "code",
      "source": [
        "train_dataset = tf.data.Dataset.from_tensor_slices((X_train, Y_train)).batch(64)\n",
        "test_dataset = tf.data.Dataset.from_tensor_slices((X_test, Y_test)).batch(64)\n",
        "history = conv_model.fit(train_dataset, epochs=100, validation_data=test_dataset)"
      ],
      "metadata": {
        "id": "L-8EaxqMCDa4",
        "outputId": "35e189c3-56b2-4b76-f209-668512084bcd",
        "colab": {
          "base_uri": "https://localhost:8080/"
        }
      },
      "execution_count": 14,
      "outputs": [
        {
          "output_type": "stream",
          "name": "stdout",
          "text": [
            "Epoch 1/100\n",
            "17/17 [==============================] - 3s 139ms/step - loss: 1.8321 - accuracy: 0.1657 - val_loss: 1.7964 - val_accuracy: 0.2000\n",
            "Epoch 2/100\n",
            "17/17 [==============================] - 3s 145ms/step - loss: 1.7893 - accuracy: 0.1852 - val_loss: 1.7846 - val_accuracy: 0.2250\n",
            "Epoch 3/100\n",
            "17/17 [==============================] - 2s 116ms/step - loss: 1.7823 - accuracy: 0.1926 - val_loss: 1.7794 - val_accuracy: 0.2500\n",
            "Epoch 4/100\n",
            "17/17 [==============================] - 2s 117ms/step - loss: 1.7760 - accuracy: 0.2315 - val_loss: 1.7721 - val_accuracy: 0.2833\n",
            "Epoch 5/100\n",
            "17/17 [==============================] - 2s 113ms/step - loss: 1.7679 - accuracy: 0.2787 - val_loss: 1.7652 - val_accuracy: 0.3000\n",
            "Epoch 6/100\n",
            "17/17 [==============================] - 2s 117ms/step - loss: 1.7580 - accuracy: 0.3231 - val_loss: 1.7546 - val_accuracy: 0.2500\n",
            "Epoch 7/100\n",
            "17/17 [==============================] - 3s 167ms/step - loss: 1.7457 - accuracy: 0.3528 - val_loss: 1.7398 - val_accuracy: 0.3417\n",
            "Epoch 8/100\n",
            "17/17 [==============================] - 2s 117ms/step - loss: 1.7276 - accuracy: 0.3796 - val_loss: 1.7191 - val_accuracy: 0.3667\n",
            "Epoch 9/100\n",
            "17/17 [==============================] - 2s 120ms/step - loss: 1.7034 - accuracy: 0.3954 - val_loss: 1.6931 - val_accuracy: 0.4000\n",
            "Epoch 10/100\n",
            "17/17 [==============================] - 2s 118ms/step - loss: 1.6725 - accuracy: 0.4093 - val_loss: 1.6649 - val_accuracy: 0.4417\n",
            "Epoch 11/100\n",
            "17/17 [==============================] - 3s 170ms/step - loss: 1.6340 - accuracy: 0.4269 - val_loss: 1.6259 - val_accuracy: 0.4500\n",
            "Epoch 12/100\n",
            "17/17 [==============================] - 2s 114ms/step - loss: 1.5855 - accuracy: 0.4509 - val_loss: 1.5719 - val_accuracy: 0.4500\n",
            "Epoch 13/100\n",
            "17/17 [==============================] - 2s 114ms/step - loss: 1.5278 - accuracy: 0.4843 - val_loss: 1.5126 - val_accuracy: 0.4583\n",
            "Epoch 14/100\n",
            "17/17 [==============================] - 2s 114ms/step - loss: 1.4670 - accuracy: 0.5019 - val_loss: 1.4559 - val_accuracy: 0.4917\n",
            "Epoch 15/100\n",
            "17/17 [==============================] - 2s 147ms/step - loss: 1.4049 - accuracy: 0.5222 - val_loss: 1.4006 - val_accuracy: 0.5083\n",
            "Epoch 16/100\n",
            "17/17 [==============================] - 2s 133ms/step - loss: 1.3461 - accuracy: 0.5426 - val_loss: 1.3482 - val_accuracy: 0.5000\n",
            "Epoch 17/100\n",
            "17/17 [==============================] - 2s 119ms/step - loss: 1.2907 - accuracy: 0.5639 - val_loss: 1.2998 - val_accuracy: 0.5417\n",
            "Epoch 18/100\n",
            "17/17 [==============================] - 2s 113ms/step - loss: 1.2387 - accuracy: 0.5843 - val_loss: 1.2559 - val_accuracy: 0.5417\n",
            "Epoch 19/100\n",
            "17/17 [==============================] - 2s 113ms/step - loss: 1.1892 - accuracy: 0.5926 - val_loss: 1.2132 - val_accuracy: 0.5667\n",
            "Epoch 20/100\n",
            "17/17 [==============================] - 2s 136ms/step - loss: 1.1454 - accuracy: 0.6102 - val_loss: 1.1778 - val_accuracy: 0.5750\n",
            "Epoch 21/100\n",
            "17/17 [==============================] - 2s 144ms/step - loss: 1.1063 - accuracy: 0.6222 - val_loss: 1.1423 - val_accuracy: 0.6000\n",
            "Epoch 22/100\n",
            "17/17 [==============================] - 2s 114ms/step - loss: 1.0728 - accuracy: 0.6333 - val_loss: 1.1168 - val_accuracy: 0.5917\n",
            "Epoch 23/100\n",
            "17/17 [==============================] - 2s 120ms/step - loss: 1.0373 - accuracy: 0.6481 - val_loss: 1.0846 - val_accuracy: 0.6167\n",
            "Epoch 24/100\n",
            "17/17 [==============================] - 2s 117ms/step - loss: 1.0083 - accuracy: 0.6611 - val_loss: 1.0613 - val_accuracy: 0.6083\n",
            "Epoch 25/100\n",
            "17/17 [==============================] - 2s 145ms/step - loss: 0.9806 - accuracy: 0.6741 - val_loss: 1.0435 - val_accuracy: 0.6000\n",
            "Epoch 26/100\n",
            "17/17 [==============================] - 2s 131ms/step - loss: 0.9544 - accuracy: 0.6769 - val_loss: 1.0206 - val_accuracy: 0.6083\n",
            "Epoch 27/100\n",
            "17/17 [==============================] - 2s 116ms/step - loss: 0.9295 - accuracy: 0.6861 - val_loss: 1.0027 - val_accuracy: 0.6250\n",
            "Epoch 28/100\n",
            "17/17 [==============================] - 2s 117ms/step - loss: 0.9111 - accuracy: 0.6935 - val_loss: 0.9856 - val_accuracy: 0.6250\n",
            "Epoch 29/100\n",
            "17/17 [==============================] - 2s 118ms/step - loss: 0.8898 - accuracy: 0.7065 - val_loss: 0.9699 - val_accuracy: 0.6250\n",
            "Epoch 30/100\n",
            "17/17 [==============================] - 3s 154ms/step - loss: 0.8713 - accuracy: 0.7130 - val_loss: 0.9550 - val_accuracy: 0.6417\n",
            "Epoch 31/100\n",
            "17/17 [==============================] - 2s 118ms/step - loss: 0.8517 - accuracy: 0.7204 - val_loss: 0.9410 - val_accuracy: 0.6417\n",
            "Epoch 32/100\n",
            "17/17 [==============================] - 2s 118ms/step - loss: 0.8372 - accuracy: 0.7296 - val_loss: 0.9257 - val_accuracy: 0.6417\n",
            "Epoch 33/100\n",
            "17/17 [==============================] - 2s 118ms/step - loss: 0.8210 - accuracy: 0.7333 - val_loss: 0.9143 - val_accuracy: 0.6500\n",
            "Epoch 34/100\n",
            "17/17 [==============================] - 3s 170ms/step - loss: 0.8042 - accuracy: 0.7389 - val_loss: 0.9019 - val_accuracy: 0.6500\n",
            "Epoch 35/100\n",
            "17/17 [==============================] - 2s 115ms/step - loss: 0.7884 - accuracy: 0.7481 - val_loss: 0.8896 - val_accuracy: 0.6500\n",
            "Epoch 36/100\n",
            "17/17 [==============================] - 2s 115ms/step - loss: 0.7740 - accuracy: 0.7519 - val_loss: 0.8780 - val_accuracy: 0.6500\n",
            "Epoch 37/100\n",
            "17/17 [==============================] - 2s 114ms/step - loss: 0.7610 - accuracy: 0.7565 - val_loss: 0.8671 - val_accuracy: 0.6500\n",
            "Epoch 38/100\n",
            "17/17 [==============================] - 3s 163ms/step - loss: 0.7496 - accuracy: 0.7620 - val_loss: 0.8559 - val_accuracy: 0.6500\n",
            "Epoch 39/100\n",
            "17/17 [==============================] - 2s 114ms/step - loss: 0.7379 - accuracy: 0.7630 - val_loss: 0.8461 - val_accuracy: 0.6500\n",
            "Epoch 40/100\n",
            "17/17 [==============================] - 2s 114ms/step - loss: 0.7253 - accuracy: 0.7694 - val_loss: 0.8373 - val_accuracy: 0.6583\n",
            "Epoch 41/100\n",
            "17/17 [==============================] - 2s 118ms/step - loss: 0.7128 - accuracy: 0.7713 - val_loss: 0.8283 - val_accuracy: 0.6750\n",
            "Epoch 42/100\n",
            "17/17 [==============================] - 3s 166ms/step - loss: 0.7015 - accuracy: 0.7731 - val_loss: 0.8187 - val_accuracy: 0.6750\n",
            "Epoch 43/100\n",
            "17/17 [==============================] - 2s 119ms/step - loss: 0.6910 - accuracy: 0.7796 - val_loss: 0.8102 - val_accuracy: 0.6750\n",
            "Epoch 44/100\n",
            "17/17 [==============================] - 2s 118ms/step - loss: 0.6803 - accuracy: 0.7824 - val_loss: 0.8023 - val_accuracy: 0.6750\n",
            "Epoch 45/100\n",
            "17/17 [==============================] - 2s 113ms/step - loss: 0.6698 - accuracy: 0.7861 - val_loss: 0.7945 - val_accuracy: 0.6833\n",
            "Epoch 46/100\n",
            "17/17 [==============================] - 2s 118ms/step - loss: 0.6599 - accuracy: 0.7898 - val_loss: 0.7871 - val_accuracy: 0.6917\n",
            "Epoch 47/100\n",
            "17/17 [==============================] - 3s 171ms/step - loss: 0.6504 - accuracy: 0.7944 - val_loss: 0.7801 - val_accuracy: 0.6917\n",
            "Epoch 48/100\n",
            "17/17 [==============================] - 2s 114ms/step - loss: 0.6408 - accuracy: 0.7981 - val_loss: 0.7733 - val_accuracy: 0.6833\n",
            "Epoch 49/100\n",
            "17/17 [==============================] - 2s 119ms/step - loss: 0.6313 - accuracy: 0.8028 - val_loss: 0.7670 - val_accuracy: 0.6833\n",
            "Epoch 50/100\n",
            "17/17 [==============================] - 2s 118ms/step - loss: 0.6222 - accuracy: 0.8065 - val_loss: 0.7606 - val_accuracy: 0.6917\n",
            "Epoch 51/100\n",
            "17/17 [==============================] - 3s 170ms/step - loss: 0.6133 - accuracy: 0.8093 - val_loss: 0.7546 - val_accuracy: 0.7000\n",
            "Epoch 52/100\n",
            "17/17 [==============================] - 2s 118ms/step - loss: 0.6045 - accuracy: 0.8130 - val_loss: 0.7483 - val_accuracy: 0.7000\n",
            "Epoch 53/100\n",
            "17/17 [==============================] - 2s 114ms/step - loss: 0.5961 - accuracy: 0.8167 - val_loss: 0.7426 - val_accuracy: 0.7083\n",
            "Epoch 54/100\n",
            "17/17 [==============================] - 2s 119ms/step - loss: 0.5879 - accuracy: 0.8176 - val_loss: 0.7368 - val_accuracy: 0.7000\n",
            "Epoch 55/100\n",
            "17/17 [==============================] - 2s 118ms/step - loss: 0.5802 - accuracy: 0.8185 - val_loss: 0.7304 - val_accuracy: 0.7167\n",
            "Epoch 56/100\n",
            "17/17 [==============================] - 3s 168ms/step - loss: 0.5722 - accuracy: 0.8204 - val_loss: 0.7252 - val_accuracy: 0.7250\n",
            "Epoch 57/100\n",
            "17/17 [==============================] - 2s 119ms/step - loss: 0.5649 - accuracy: 0.8213 - val_loss: 0.7195 - val_accuracy: 0.7250\n",
            "Epoch 58/100\n",
            "17/17 [==============================] - 2s 116ms/step - loss: 0.5573 - accuracy: 0.8287 - val_loss: 0.7136 - val_accuracy: 0.7333\n",
            "Epoch 59/100\n",
            "17/17 [==============================] - 2s 118ms/step - loss: 0.5501 - accuracy: 0.8306 - val_loss: 0.7083 - val_accuracy: 0.7333\n",
            "Epoch 60/100\n",
            "17/17 [==============================] - 2s 132ms/step - loss: 0.5430 - accuracy: 0.8324 - val_loss: 0.7028 - val_accuracy: 0.7333\n",
            "Epoch 61/100\n",
            "17/17 [==============================] - 2s 130ms/step - loss: 0.5359 - accuracy: 0.8343 - val_loss: 0.6980 - val_accuracy: 0.7333\n",
            "Epoch 62/100\n",
            "17/17 [==============================] - 2s 118ms/step - loss: 0.5292 - accuracy: 0.8398 - val_loss: 0.6918 - val_accuracy: 0.7333\n",
            "Epoch 63/100\n",
            "17/17 [==============================] - 2s 115ms/step - loss: 0.5222 - accuracy: 0.8417 - val_loss: 0.6868 - val_accuracy: 0.7417\n",
            "Epoch 64/100\n",
            "17/17 [==============================] - 2s 114ms/step - loss: 0.5158 - accuracy: 0.8426 - val_loss: 0.6816 - val_accuracy: 0.7417\n",
            "Epoch 65/100\n",
            "17/17 [==============================] - 2s 115ms/step - loss: 0.5092 - accuracy: 0.8435 - val_loss: 0.6776 - val_accuracy: 0.7417\n",
            "Epoch 66/100\n",
            "17/17 [==============================] - 3s 165ms/step - loss: 0.5025 - accuracy: 0.8463 - val_loss: 0.6726 - val_accuracy: 0.7417\n",
            "Epoch 67/100\n",
            "17/17 [==============================] - 2s 119ms/step - loss: 0.4965 - accuracy: 0.8491 - val_loss: 0.6667 - val_accuracy: 0.7500\n",
            "Epoch 68/100\n",
            "17/17 [==============================] - 2s 114ms/step - loss: 0.4906 - accuracy: 0.8509 - val_loss: 0.6623 - val_accuracy: 0.7583\n",
            "Epoch 69/100\n",
            "17/17 [==============================] - 2s 118ms/step - loss: 0.4846 - accuracy: 0.8509 - val_loss: 0.6582 - val_accuracy: 0.7583\n",
            "Epoch 70/100\n",
            "17/17 [==============================] - 2s 139ms/step - loss: 0.4787 - accuracy: 0.8546 - val_loss: 0.6539 - val_accuracy: 0.7667\n",
            "Epoch 71/100\n",
            "17/17 [==============================] - 2s 119ms/step - loss: 0.4729 - accuracy: 0.8537 - val_loss: 0.6505 - val_accuracy: 0.7667\n",
            "Epoch 72/100\n",
            "17/17 [==============================] - 2s 117ms/step - loss: 0.4674 - accuracy: 0.8565 - val_loss: 0.6466 - val_accuracy: 0.7667\n",
            "Epoch 73/100\n",
            "17/17 [==============================] - 2s 119ms/step - loss: 0.4617 - accuracy: 0.8602 - val_loss: 0.6429 - val_accuracy: 0.7667\n",
            "Epoch 74/100\n",
            "17/17 [==============================] - 2s 117ms/step - loss: 0.4561 - accuracy: 0.8639 - val_loss: 0.6390 - val_accuracy: 0.7667\n",
            "Epoch 75/100\n",
            "17/17 [==============================] - 3s 165ms/step - loss: 0.4507 - accuracy: 0.8648 - val_loss: 0.6353 - val_accuracy: 0.7667\n",
            "Epoch 76/100\n",
            "17/17 [==============================] - 2s 118ms/step - loss: 0.4453 - accuracy: 0.8667 - val_loss: 0.6325 - val_accuracy: 0.7667\n",
            "Epoch 77/100\n",
            "17/17 [==============================] - 2s 115ms/step - loss: 0.4399 - accuracy: 0.8676 - val_loss: 0.6295 - val_accuracy: 0.7667\n",
            "Epoch 78/100\n",
            "17/17 [==============================] - 2s 118ms/step - loss: 0.4347 - accuracy: 0.8704 - val_loss: 0.6263 - val_accuracy: 0.7667\n",
            "Epoch 79/100\n",
            "17/17 [==============================] - 3s 176ms/step - loss: 0.4298 - accuracy: 0.8722 - val_loss: 0.6232 - val_accuracy: 0.7583\n",
            "Epoch 80/100\n",
            "17/17 [==============================] - 2s 119ms/step - loss: 0.4248 - accuracy: 0.8741 - val_loss: 0.6202 - val_accuracy: 0.7583\n",
            "Epoch 81/100\n",
            "17/17 [==============================] - 2s 118ms/step - loss: 0.4199 - accuracy: 0.8741 - val_loss: 0.6170 - val_accuracy: 0.7583\n",
            "Epoch 82/100\n",
            "17/17 [==============================] - 2s 120ms/step - loss: 0.4152 - accuracy: 0.8741 - val_loss: 0.6138 - val_accuracy: 0.7583\n",
            "Epoch 83/100\n",
            "17/17 [==============================] - 2s 117ms/step - loss: 0.4107 - accuracy: 0.8759 - val_loss: 0.6111 - val_accuracy: 0.7583\n",
            "Epoch 84/100\n",
            "17/17 [==============================] - 3s 170ms/step - loss: 0.4061 - accuracy: 0.8787 - val_loss: 0.6086 - val_accuracy: 0.7583\n",
            "Epoch 85/100\n",
            "17/17 [==============================] - 2s 119ms/step - loss: 0.4017 - accuracy: 0.8806 - val_loss: 0.6052 - val_accuracy: 0.7583\n",
            "Epoch 86/100\n",
            "17/17 [==============================] - 2s 115ms/step - loss: 0.3974 - accuracy: 0.8833 - val_loss: 0.6030 - val_accuracy: 0.7583\n",
            "Epoch 87/100\n",
            "17/17 [==============================] - 2s 114ms/step - loss: 0.3930 - accuracy: 0.8843 - val_loss: 0.6003 - val_accuracy: 0.7583\n",
            "Epoch 88/100\n",
            "17/17 [==============================] - 3s 175ms/step - loss: 0.3887 - accuracy: 0.8861 - val_loss: 0.5978 - val_accuracy: 0.7583\n",
            "Epoch 89/100\n",
            "17/17 [==============================] - 2s 114ms/step - loss: 0.3845 - accuracy: 0.8861 - val_loss: 0.5956 - val_accuracy: 0.7583\n",
            "Epoch 90/100\n",
            "17/17 [==============================] - 2s 115ms/step - loss: 0.3804 - accuracy: 0.8880 - val_loss: 0.5931 - val_accuracy: 0.7583\n",
            "Epoch 91/100\n",
            "17/17 [==============================] - 2s 119ms/step - loss: 0.3761 - accuracy: 0.8898 - val_loss: 0.5904 - val_accuracy: 0.7583\n",
            "Epoch 92/100\n",
            "17/17 [==============================] - 3s 163ms/step - loss: 0.3717 - accuracy: 0.8898 - val_loss: 0.5877 - val_accuracy: 0.7583\n",
            "Epoch 93/100\n",
            "17/17 [==============================] - 2s 120ms/step - loss: 0.3675 - accuracy: 0.8917 - val_loss: 0.5850 - val_accuracy: 0.7583\n",
            "Epoch 94/100\n",
            "17/17 [==============================] - 2s 118ms/step - loss: 0.3633 - accuracy: 0.8954 - val_loss: 0.5827 - val_accuracy: 0.7583\n",
            "Epoch 95/100\n",
            "17/17 [==============================] - 2s 119ms/step - loss: 0.3592 - accuracy: 0.8954 - val_loss: 0.5804 - val_accuracy: 0.7500\n",
            "Epoch 96/100\n",
            "17/17 [==============================] - 2s 119ms/step - loss: 0.3555 - accuracy: 0.8954 - val_loss: 0.5770 - val_accuracy: 0.7500\n",
            "Epoch 97/100\n",
            "17/17 [==============================] - 2s 118ms/step - loss: 0.3517 - accuracy: 0.8972 - val_loss: 0.5747 - val_accuracy: 0.7500\n",
            "Epoch 98/100\n",
            "17/17 [==============================] - 3s 155ms/step - loss: 0.3481 - accuracy: 0.8981 - val_loss: 0.5720 - val_accuracy: 0.7500\n",
            "Epoch 99/100\n",
            "17/17 [==============================] - 2s 114ms/step - loss: 0.3445 - accuracy: 0.9009 - val_loss: 0.5700 - val_accuracy: 0.7500\n",
            "Epoch 100/100\n",
            "17/17 [==============================] - 2s 120ms/step - loss: 0.3409 - accuracy: 0.9019 - val_loss: 0.5674 - val_accuracy: 0.7583\n"
          ]
        }
      ]
    },
    {
      "cell_type": "markdown",
      "source": [
        "## History Object\n",
        "\n",
        "The history object is an output of the `.fit()` operation, and provides a record of all the loss and metric values in memory. It's stored as a dictionary that we can retrieve at `history.history`:"
      ],
      "metadata": {
        "id": "kov4-SDsL6-0"
      }
    },
    {
      "cell_type": "code",
      "source": [
        "history.history"
      ],
      "metadata": {
        "id": "FF7w524cBMGK",
        "outputId": "a68496f5-fb55-4472-c32f-4cda3a1007c4",
        "colab": {
          "base_uri": "https://localhost:8080/"
        }
      },
      "execution_count": 15,
      "outputs": [
        {
          "output_type": "execute_result",
          "data": {
            "text/plain": [
              "{'loss': [1.8321231603622437,\n",
              "  1.7892804145812988,\n",
              "  1.7823383808135986,\n",
              "  1.7759971618652344,\n",
              "  1.7679498195648193,\n",
              "  1.7580161094665527,\n",
              "  1.745682716369629,\n",
              "  1.7275999784469604,\n",
              "  1.7034072875976562,\n",
              "  1.6724945306777954,\n",
              "  1.6339915990829468,\n",
              "  1.5855077505111694,\n",
              "  1.52778160572052,\n",
              "  1.4670268297195435,\n",
              "  1.4048562049865723,\n",
              "  1.3461397886276245,\n",
              "  1.2906712293624878,\n",
              "  1.2386679649353027,\n",
              "  1.1891980171203613,\n",
              "  1.145391583442688,\n",
              "  1.106337547302246,\n",
              "  1.0728299617767334,\n",
              "  1.0372862815856934,\n",
              "  1.0083019733428955,\n",
              "  0.9806002974510193,\n",
              "  0.9543782472610474,\n",
              "  0.9295121431350708,\n",
              "  0.9111317992210388,\n",
              "  0.889826774597168,\n",
              "  0.87126225233078,\n",
              "  0.8516678214073181,\n",
              "  0.83720463514328,\n",
              "  0.8209688663482666,\n",
              "  0.8041795492172241,\n",
              "  0.788386881351471,\n",
              "  0.7740486264228821,\n",
              "  0.7609509229660034,\n",
              "  0.7496278285980225,\n",
              "  0.7379167675971985,\n",
              "  0.7253220677375793,\n",
              "  0.7127917408943176,\n",
              "  0.701450765132904,\n",
              "  0.6909993886947632,\n",
              "  0.6802900433540344,\n",
              "  0.6697909832000732,\n",
              "  0.6599253416061401,\n",
              "  0.6503539085388184,\n",
              "  0.640835165977478,\n",
              "  0.6313284039497375,\n",
              "  0.6222443580627441,\n",
              "  0.6132547855377197,\n",
              "  0.6045408248901367,\n",
              "  0.5960553884506226,\n",
              "  0.5879389047622681,\n",
              "  0.5801789164543152,\n",
              "  0.5722204446792603,\n",
              "  0.5648542046546936,\n",
              "  0.5573320984840393,\n",
              "  0.5501453876495361,\n",
              "  0.5430366396903992,\n",
              "  0.5358902812004089,\n",
              "  0.5291925668716431,\n",
              "  0.5222206115722656,\n",
              "  0.5157822966575623,\n",
              "  0.5091660022735596,\n",
              "  0.5025397539138794,\n",
              "  0.496463805437088,\n",
              "  0.4905758798122406,\n",
              "  0.48462167382240295,\n",
              "  0.4787277281284332,\n",
              "  0.4729374349117279,\n",
              "  0.4673665463924408,\n",
              "  0.46166372299194336,\n",
              "  0.4560922384262085,\n",
              "  0.4506998062133789,\n",
              "  0.4452594220638275,\n",
              "  0.439941942691803,\n",
              "  0.43474337458610535,\n",
              "  0.42980748414993286,\n",
              "  0.42476025223731995,\n",
              "  0.41991958022117615,\n",
              "  0.41520172357559204,\n",
              "  0.41067227721214294,\n",
              "  0.4060508906841278,\n",
              "  0.4016544222831726,\n",
              "  0.3973619043827057,\n",
              "  0.3930119276046753,\n",
              "  0.38872814178466797,\n",
              "  0.3845318853855133,\n",
              "  0.38040784001350403,\n",
              "  0.3761264681816101,\n",
              "  0.3717430830001831,\n",
              "  0.3674637973308563,\n",
              "  0.3632911741733551,\n",
              "  0.35923683643341064,\n",
              "  0.35546186566352844,\n",
              "  0.3517134189605713,\n",
              "  0.3481168746948242,\n",
              "  0.34450212121009827,\n",
              "  0.3408949673175812],\n",
              " 'accuracy': [0.1657407432794571,\n",
              "  0.18518517911434174,\n",
              "  0.192592591047287,\n",
              "  0.23148147761821747,\n",
              "  0.2787036895751953,\n",
              "  0.3231481611728668,\n",
              "  0.35277777910232544,\n",
              "  0.37962964177131653,\n",
              "  0.39537036418914795,\n",
              "  0.40925925970077515,\n",
              "  0.4268518388271332,\n",
              "  0.45092591643333435,\n",
              "  0.4842592477798462,\n",
              "  0.5018518567085266,\n",
              "  0.5222222208976746,\n",
              "  0.5425925850868225,\n",
              "  0.5638889074325562,\n",
              "  0.5842592716217041,\n",
              "  0.5925925970077515,\n",
              "  0.6101852059364319,\n",
              "  0.6222222447395325,\n",
              "  0.6333333253860474,\n",
              "  0.6481481194496155,\n",
              "  0.6611111164093018,\n",
              "  0.6740740537643433,\n",
              "  0.6768518686294556,\n",
              "  0.6861110925674438,\n",
              "  0.6935185194015503,\n",
              "  0.7064814567565918,\n",
              "  0.7129629850387573,\n",
              "  0.720370352268219,\n",
              "  0.729629635810852,\n",
              "  0.7333333492279053,\n",
              "  0.7388888597488403,\n",
              "  0.7481481432914734,\n",
              "  0.7518518567085266,\n",
              "  0.7564814686775208,\n",
              "  0.7620370388031006,\n",
              "  0.7629629373550415,\n",
              "  0.769444465637207,\n",
              "  0.7712963223457336,\n",
              "  0.7731481194496155,\n",
              "  0.779629647731781,\n",
              "  0.7824074029922485,\n",
              "  0.7861111164093018,\n",
              "  0.789814829826355,\n",
              "  0.7944444417953491,\n",
              "  0.7981481552124023,\n",
              "  0.8027777671813965,\n",
              "  0.8064814805984497,\n",
              "  0.8092592358589172,\n",
              "  0.8129629492759705,\n",
              "  0.8166666626930237,\n",
              "  0.8175926208496094,\n",
              "  0.8185185194015503,\n",
              "  0.8203703761100769,\n",
              "  0.8212962746620178,\n",
              "  0.8287037014961243,\n",
              "  0.8305555582046509,\n",
              "  0.8324074149131775,\n",
              "  0.8342592716217041,\n",
              "  0.8398148417472839,\n",
              "  0.8416666388511658,\n",
              "  0.8425925970077515,\n",
              "  0.8435184955596924,\n",
              "  0.8462963104248047,\n",
              "  0.8490740656852722,\n",
              "  0.8509259223937988,\n",
              "  0.8509259223937988,\n",
              "  0.854629635810852,\n",
              "  0.8537036776542664,\n",
              "  0.8564814925193787,\n",
              "  0.8601852059364319,\n",
              "  0.8638888597488403,\n",
              "  0.864814817905426,\n",
              "  0.8666666746139526,\n",
              "  0.8675925731658936,\n",
              "  0.8703703880310059,\n",
              "  0.8722222447395325,\n",
              "  0.8740741014480591,\n",
              "  0.8740741014480591,\n",
              "  0.8740741014480591,\n",
              "  0.8759258985519409,\n",
              "  0.8787037134170532,\n",
              "  0.8805555701255798,\n",
              "  0.8833333253860474,\n",
              "  0.8842592835426331,\n",
              "  0.8861111402511597,\n",
              "  0.8861111402511597,\n",
              "  0.8879629373550415,\n",
              "  0.8898147940635681,\n",
              "  0.8898147940635681,\n",
              "  0.8916666507720947,\n",
              "  0.895370364189148,\n",
              "  0.895370364189148,\n",
              "  0.895370364189148,\n",
              "  0.8972222208976746,\n",
              "  0.8981481194496155,\n",
              "  0.9009259343147278,\n",
              "  0.9018518328666687],\n",
              " 'val_loss': [1.7964274883270264,\n",
              "  1.7846267223358154,\n",
              "  1.7793720960617065,\n",
              "  1.7720534801483154,\n",
              "  1.7652037143707275,\n",
              "  1.7546188831329346,\n",
              "  1.7397717237472534,\n",
              "  1.7190614938735962,\n",
              "  1.6931068897247314,\n",
              "  1.6648622751235962,\n",
              "  1.6259000301361084,\n",
              "  1.5719494819641113,\n",
              "  1.5125746726989746,\n",
              "  1.4558701515197754,\n",
              "  1.4006235599517822,\n",
              "  1.3482062816619873,\n",
              "  1.2997618913650513,\n",
              "  1.2558822631835938,\n",
              "  1.2132132053375244,\n",
              "  1.1777759790420532,\n",
              "  1.1423041820526123,\n",
              "  1.1167943477630615,\n",
              "  1.0846253633499146,\n",
              "  1.0613287687301636,\n",
              "  1.043540120124817,\n",
              "  1.0205731391906738,\n",
              "  1.0026532411575317,\n",
              "  0.9855605959892273,\n",
              "  0.9699485898017883,\n",
              "  0.9549816846847534,\n",
              "  0.941031277179718,\n",
              "  0.9256970286369324,\n",
              "  0.9143323302268982,\n",
              "  0.9019256830215454,\n",
              "  0.8896098732948303,\n",
              "  0.8779795169830322,\n",
              "  0.8670713901519775,\n",
              "  0.8559346795082092,\n",
              "  0.846053421497345,\n",
              "  0.8373358249664307,\n",
              "  0.828273594379425,\n",
              "  0.8186944127082825,\n",
              "  0.8101769685745239,\n",
              "  0.802266538143158,\n",
              "  0.7944732308387756,\n",
              "  0.7870745062828064,\n",
              "  0.7800502181053162,\n",
              "  0.7733462452888489,\n",
              "  0.7669762969017029,\n",
              "  0.7605596780776978,\n",
              "  0.7545794248580933,\n",
              "  0.7482836246490479,\n",
              "  0.7426349520683289,\n",
              "  0.7368383407592773,\n",
              "  0.730404257774353,\n",
              "  0.7252253293991089,\n",
              "  0.719491720199585,\n",
              "  0.7136148810386658,\n",
              "  0.7083395719528198,\n",
              "  0.702849805355072,\n",
              "  0.6979845762252808,\n",
              "  0.6918378472328186,\n",
              "  0.6868380904197693,\n",
              "  0.6816322803497314,\n",
              "  0.6775963306427002,\n",
              "  0.6725694537162781,\n",
              "  0.6667382121086121,\n",
              "  0.662322998046875,\n",
              "  0.6581575870513916,\n",
              "  0.6539259552955627,\n",
              "  0.6504881978034973,\n",
              "  0.6465739011764526,\n",
              "  0.6429376006126404,\n",
              "  0.6390401721000671,\n",
              "  0.6352521181106567,\n",
              "  0.632541298866272,\n",
              "  0.6295047998428345,\n",
              "  0.6262748837471008,\n",
              "  0.623205304145813,\n",
              "  0.6202048063278198,\n",
              "  0.6170251965522766,\n",
              "  0.6138413548469543,\n",
              "  0.6110929250717163,\n",
              "  0.6085958480834961,\n",
              "  0.6052408814430237,\n",
              "  0.6030200719833374,\n",
              "  0.6003463864326477,\n",
              "  0.5977767109870911,\n",
              "  0.5956076383590698,\n",
              "  0.5931390523910522,\n",
              "  0.590448260307312,\n",
              "  0.5877373218536377,\n",
              "  0.5849863886833191,\n",
              "  0.5826966762542725,\n",
              "  0.5804412961006165,\n",
              "  0.5770187377929688,\n",
              "  0.5747155547142029,\n",
              "  0.5719891786575317,\n",
              "  0.5699803233146667,\n",
              "  0.5674458742141724],\n",
              " 'val_accuracy': [0.20000000298023224,\n",
              "  0.22499999403953552,\n",
              "  0.25,\n",
              "  0.28333333134651184,\n",
              "  0.30000001192092896,\n",
              "  0.25,\n",
              "  0.34166666865348816,\n",
              "  0.36666667461395264,\n",
              "  0.4000000059604645,\n",
              "  0.4416666626930237,\n",
              "  0.44999998807907104,\n",
              "  0.44999998807907104,\n",
              "  0.4583333432674408,\n",
              "  0.49166667461395264,\n",
              "  0.5083333253860474,\n",
              "  0.5,\n",
              "  0.5416666865348816,\n",
              "  0.5416666865348816,\n",
              "  0.5666666626930237,\n",
              "  0.574999988079071,\n",
              "  0.6000000238418579,\n",
              "  0.5916666388511658,\n",
              "  0.6166666746139526,\n",
              "  0.6083333492279053,\n",
              "  0.6000000238418579,\n",
              "  0.6083333492279053,\n",
              "  0.625,\n",
              "  0.625,\n",
              "  0.625,\n",
              "  0.6416666507720947,\n",
              "  0.6416666507720947,\n",
              "  0.6416666507720947,\n",
              "  0.6499999761581421,\n",
              "  0.6499999761581421,\n",
              "  0.6499999761581421,\n",
              "  0.6499999761581421,\n",
              "  0.6499999761581421,\n",
              "  0.6499999761581421,\n",
              "  0.6499999761581421,\n",
              "  0.6583333611488342,\n",
              "  0.675000011920929,\n",
              "  0.675000011920929,\n",
              "  0.675000011920929,\n",
              "  0.675000011920929,\n",
              "  0.6833333373069763,\n",
              "  0.6916666626930237,\n",
              "  0.6916666626930237,\n",
              "  0.6833333373069763,\n",
              "  0.6833333373069763,\n",
              "  0.6916666626930237,\n",
              "  0.699999988079071,\n",
              "  0.699999988079071,\n",
              "  0.7083333134651184,\n",
              "  0.699999988079071,\n",
              "  0.7166666388511658,\n",
              "  0.7250000238418579,\n",
              "  0.7250000238418579,\n",
              "  0.7333333492279053,\n",
              "  0.7333333492279053,\n",
              "  0.7333333492279053,\n",
              "  0.7333333492279053,\n",
              "  0.7333333492279053,\n",
              "  0.7416666746139526,\n",
              "  0.7416666746139526,\n",
              "  0.7416666746139526,\n",
              "  0.7416666746139526,\n",
              "  0.75,\n",
              "  0.7583333253860474,\n",
              "  0.7583333253860474,\n",
              "  0.7666666507720947,\n",
              "  0.7666666507720947,\n",
              "  0.7666666507720947,\n",
              "  0.7666666507720947,\n",
              "  0.7666666507720947,\n",
              "  0.7666666507720947,\n",
              "  0.7666666507720947,\n",
              "  0.7666666507720947,\n",
              "  0.7666666507720947,\n",
              "  0.7583333253860474,\n",
              "  0.7583333253860474,\n",
              "  0.7583333253860474,\n",
              "  0.7583333253860474,\n",
              "  0.7583333253860474,\n",
              "  0.7583333253860474,\n",
              "  0.7583333253860474,\n",
              "  0.7583333253860474,\n",
              "  0.7583333253860474,\n",
              "  0.7583333253860474,\n",
              "  0.7583333253860474,\n",
              "  0.7583333253860474,\n",
              "  0.7583333253860474,\n",
              "  0.7583333253860474,\n",
              "  0.7583333253860474,\n",
              "  0.7583333253860474,\n",
              "  0.75,\n",
              "  0.75,\n",
              "  0.75,\n",
              "  0.75,\n",
              "  0.75,\n",
              "  0.7583333253860474]}"
            ]
          },
          "metadata": {},
          "execution_count": 15
        }
      ]
    },
    {
      "cell_type": "markdown",
      "source": [
        "Now visualize the loss over time using `history.history`:"
      ],
      "metadata": {
        "id": "uMkb3kX9MG9k"
      }
    },
    {
      "cell_type": "code",
      "source": [
        "# The history.history[\"loss\"] entry is a dictionary with as many values as epochs that the\n",
        "# model was trained on.\n",
        "df_loss_acc = pd.DataFrame(history.history)\n",
        "df_loss= df_loss_acc[['loss','val_loss']]\n",
        "df_loss.rename(columns={'loss':'train','val_loss':'validation'},inplace=True)\n",
        "df_acc= df_loss_acc[['accuracy','val_accuracy']]\n",
        "df_acc.rename(columns={'accuracy':'train','val_accuracy':'validation'},inplace=True)\n",
        "df_loss.plot(title='Model loss',figsize=(12,8)).set(xlabel='Epoch',ylabel='Loss')\n",
        "df_acc.plot(title='Model Accuracy',figsize=(12,8)).set(xlabel='Epoch',ylabel='Accuracy')"
      ],
      "metadata": {
        "colab": {
          "base_uri": "https://localhost:8080/",
          "height": 1000
        },
        "id": "22gQEhFPtSrB",
        "outputId": "cb59e914-ecb5-45a5-809c-da9da4474145"
      },
      "execution_count": 16,
      "outputs": [
        {
          "output_type": "stream",
          "name": "stderr",
          "text": [
            "<ipython-input-16-957c1ea044b0>:5: SettingWithCopyWarning: \n",
            "A value is trying to be set on a copy of a slice from a DataFrame\n",
            "\n",
            "See the caveats in the documentation: https://pandas.pydata.org/pandas-docs/stable/user_guide/indexing.html#returning-a-view-versus-a-copy\n",
            "  df_loss.rename(columns={'loss':'train','val_loss':'validation'},inplace=True)\n",
            "<ipython-input-16-957c1ea044b0>:7: SettingWithCopyWarning: \n",
            "A value is trying to be set on a copy of a slice from a DataFrame\n",
            "\n",
            "See the caveats in the documentation: https://pandas.pydata.org/pandas-docs/stable/user_guide/indexing.html#returning-a-view-versus-a-copy\n",
            "  df_acc.rename(columns={'accuracy':'train','val_accuracy':'validation'},inplace=True)\n"
          ]
        },
        {
          "output_type": "execute_result",
          "data": {
            "text/plain": [
              "[Text(0.5, 0, 'Epoch'), Text(0, 0.5, 'Accuracy')]"
            ]
          },
          "metadata": {},
          "execution_count": 16
        },
        {
          "output_type": "display_data",
          "data": {
            "text/plain": [
              "<Figure size 1200x800 with 1 Axes>"
            ],
            "image/png": "[encoded data removed]"
          },
          "metadata": {}
        },
        {
          "output_type": "display_data",
          "data": {
            "text/plain": [
              "<Figure size 1200x800 with 1 Axes>"
            ],
            "image/png": "[encoded data removed]"
          },
          "metadata": {}
        }
      ]
    }
  ]
}