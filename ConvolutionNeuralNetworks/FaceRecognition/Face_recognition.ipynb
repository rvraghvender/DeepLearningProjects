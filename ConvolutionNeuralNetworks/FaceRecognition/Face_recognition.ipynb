{
  "nbformat": 4,
  "nbformat_minor": 0,
  "metadata": {
    "colab": {
      "provenance": [],
      "authorship_tag": "ABX9TyMJu/c4FP8+b84JAVGVz3lQ",
      "include_colab_link": true
    },
    "kernelspec": {
      "name": "python3",
      "display_name": "Python 3"
    },
    "language_info": {
      "name": "python"
    }
  },
  "cells": [
    {
      "cell_type": "markdown",
      "metadata": {
        "id": "view-in-github",
        "colab_type": "text"
      },
      "source": [
        "<a href=\"https://colab.research.google.com/github/rvraghvender/DeepLearningProjects/blob/main/ConvolutionNeuralNetworks/FaceRecognition/Face_recognition.ipynb\" target=\"_parent\"><img src=\"https://colab.research.google.com/assets/colab-badge.svg\" alt=\"Open In Colab\"/></a>"
      ]
    },
    {
      "cell_type": "markdown",
      "source": [
        "# Face Recognition\n",
        "\n",
        "In this notebook, we are going to build face recoginition system. Many of the ideas presented in this notebook are taken from **LINK**.\n",
        "\n",
        "**Face Recognition** problem falls into two categories.\n",
        "- Face verification: 'Is this the claimed person?' For example, at some airports we can pass through the customs by letting system scan our passport and then verifying that the person carrying the passport is the actual person. Mobile phone that unlock using our face is also using face verficiation. This is 1:1 matching problem.\n",
        "- Face Recognition"
      ],
      "metadata": {
        "id": "5qi3Rgv3Et-8"
      }
    },
    {
      "cell_type": "code",
      "execution_count": null,
      "metadata": {
        "id": "ylPQai-kEarl"
      },
      "outputs": [],
      "source": []
    }
  ]
}