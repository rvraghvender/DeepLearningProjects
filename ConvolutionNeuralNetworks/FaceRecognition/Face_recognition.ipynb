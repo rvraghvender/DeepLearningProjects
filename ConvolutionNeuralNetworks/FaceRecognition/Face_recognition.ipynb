{
  "nbformat": 4,
  "nbformat_minor": 0,
  "metadata": {
    "colab": {
      "provenance": [],
      "authorship_tag": "ABX9TyMwbGbamYFU0WKkPS2b2W8F",
      "include_colab_link": true
    },
    "kernelspec": {
      "name": "python3",
      "display_name": "Python 3"
    },
    "language_info": {
      "name": "python"
    }
  },
  "cells": [
    {
      "cell_type": "markdown",
      "metadata": {
        "id": "view-in-github",
        "colab_type": "text"
      },
      "source": [
        "<a href=\"https://colab.research.google.com/github/rvraghvender/DeepLearningProjects/blob/main/ConvolutionNeuralNetworks/FaceRecognition/Face_recognition.ipynb\" target=\"_parent\"><img src=\"https://colab.research.google.com/assets/colab-badge.svg\" alt=\"Open In Colab\"/></a>"
      ]
    },
    {
      "cell_type": "markdown",
      "source": [
        "# Face Recognition\n",
        "\n",
        "In this notebook, we are going to build face recoginition system. Many of the ideas presented in this notebook are taken from **LINK**.\n",
        "\n",
        "**Face Recognition** problem falls into two categories.\n",
        "- Face verification: 'Is this the claimed person?' For example, at some airports we can pass through the customs by letting system scan our passport and then verifying that the person carrying the passport is the actual person. Mobile phone that unlock using our face is also using face verficiation. This is 1:1 matching problem.\n",
        "- Face Recognition: 'Who is the person?\". For example, the attentance system of the employees in the enterprise using face recognition without needing to identify otherwise. This is 1:K matching problem.\n",
        "\n",
        "FaceNet learns a neural network that encodes a face image into a vector of 128 numbers. By comparing two such vectors, we can determine if two pictures are of same person.\n",
        "\n"
      ],
      "metadata": {
        "id": "5qi3Rgv3Et-8"
      }
    },
    {
      "cell_type": "markdown",
      "source": [
        "## 1. Packages"
      ],
      "metadata": {
        "id": "6WU9tqhgjsdY"
      }
    },
    {
      "cell_type": "code",
      "execution_count": 5,
      "metadata": {
        "id": "ylPQai-kEarl"
      },
      "outputs": [],
      "source": [
        "# Import relevant packages\n",
        "from tensorflow.keras.models import Sequential\n",
        "from tensorflow.keras.layers import Conv2D, ZeroPadding2D, Activation, Input, concatenate\n",
        "from tensorflow.keras.models import Model\n",
        "from tensorflow.keras.layers import BatchNormalization\n",
        "from tensorflow.keras.layers import MaxPooling2D, AveragePooling2D\n",
        "from tensorflow.keras.layers import Concatenate\n",
        "from tensorflow.keras.layers import Lambda, Flatten, Dense\n",
        "from tensorflow.keras.initializers import glorot_uniform\n",
        "from tensorflow.keras.layers import Layer\n",
        "from tensorflow.keras import backend as K\n",
        "K.set_image_data_format('channels_last')\n",
        "import os\n",
        "import numpy as np\n",
        "import pandas as pd\n",
        "import tensorflow as tf\n",
        "import PIL\n",
        "\n",
        "%matplotlib inline\n",
        "%load_ext autoreload\n",
        "%autoreload 2"
      ]
    },
    {
      "cell_type": "markdown",
      "source": [
        "## 2. Naive Face Verification\n",
        "\n",
        "In face verification, we have given two images and we have to determine if they are of the same person. The simplest way to do this is to compare the two images pixel-by-pixel. If the distance between the raw images is below a chosen threshold, it may represent the same person.\n",
        "\n",
        "<img src=\"https://github.com/rvraghvender/DeepLearningProjects/blob/main/ConvolutionNeuralNetworks/FaceRecognition/images/pixel_comparison.png?raw=true\" style=\"width:380px;height:150px;\">\n",
        "<caption><center> <u> <font color='purple'> <b>Figure 1</b> </u></center></caption>\n",
        "\n",
        "Of course, this algorithm performs poorly, since the pixel values changes dramatically due to variation in lighthing, orientation of ther person's face, minor changes in the head position, and so on.\n",
        "\n",
        "We will see that rather than using raw image, we can learn an enconding. By using an enconding for an image, an element-wise comparison produces a more accurate judgement as to whether two pictures are of the same person or not."
      ],
      "metadata": {
        "id": "30Vb2fVdj_3d"
      }
    },
    {
      "cell_type": "code",
      "source": [],
      "metadata": {
        "id": "OrWdl9qXimE2"
      },
      "execution_count": null,
      "outputs": []
    }
  ]
}